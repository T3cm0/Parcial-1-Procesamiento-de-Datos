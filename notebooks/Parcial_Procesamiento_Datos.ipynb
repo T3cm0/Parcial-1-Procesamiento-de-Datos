{
 "cells": [
  {
   "cell_type": "markdown",
   "metadata": {
    "application/vnd.databricks.v1+cell": {
     "cellMetadata": {},
     "inputWidgets": {},
     "nuid": "a67a4d7e-db76-461e-b3e4-5089b99a4229",
     "showTitle": false,
     "tableResultSettingsMap": {},
     "title": ""
    }
   },
   "source": [
    "Para el inicio de este notebook en Databricks primero debemos leer nuestros archivos de la ruta en donde los almacenamos, en mi caso quedaron en Volumes/workspace/default/parcial"
   ]
  },
  {
   "cell_type": "code",
   "execution_count": null,
   "metadata": {
    "application/vnd.databricks.v1+cell": {
     "cellMetadata": {
      "byteLimit": 2048000,
      "rowLimit": 10000
     },
     "inputWidgets": {},
     "nuid": "12ef9d81-248c-4c88-8eeb-f5fb9e4c6394",
     "showTitle": false,
     "tableResultSettingsMap": {},
     "title": ""
    }
   },
   "outputs": [],
   "source": [
    "import json\n",
    "import os\n",
    "from pyspark.sql import Row\n",
    "from pyspark.sql import functions as F\n",
    "\n",
    "# Ruta base del Volume donde subiste los archivos\n",
    "catalog = \"workspace\"\n",
    "schema  = \"default\"\n",
    "volume  = \"parcial\"\n",
    "BASE = f\"/Volumes/{catalog}/{schema}/{volume}\"\n",
    "CSVS = f\"{BASE}/csv_out\"\n",
    "\n",
    "arr = os.listdir(BASE)\n",
    "print(arr)\n"
   ]
  },
  {
   "cell_type": "markdown",
   "metadata": {
    "application/vnd.databricks.v1+cell": {
     "cellMetadata": {},
     "inputWidgets": {},
     "nuid": "be104ace-b2d5-4211-b303-9ad2ad2232d2",
     "showTitle": false,
     "tableResultSettingsMap": {},
     "title": ""
    }
   },
   "source": [
    "Convertimos el JSON que cuesta leer en un formato de tipo CSV."
   ]
  },
  {
   "cell_type": "code",
   "execution_count": null,
   "metadata": {
    "application/vnd.databricks.v1+cell": {
     "cellMetadata": {
      "byteLimit": 2048000,
      "rowLimit": 10000
     },
     "inputWidgets": {},
     "nuid": "759593b8-e45b-4c43-ac55-63d481e0e88d",
     "showTitle": false,
     "tableResultSettingsMap": {},
     "title": ""
    }
   },
   "outputs": [],
   "source": [
    "import json, pandas as pd\n",
    "\n",
    "IN  = f\"/{BASE}/temporadas.json\"\n",
    "OUT = f\"/{BASE}/csv_out\"            \n",
    "\n",
    "with open(IN, encoding=\"utf-8\") as f:\n",
    "    data = json.load(f)"
   ]
  },
  {
   "cell_type": "code",
   "execution_count": null,
   "metadata": {
    "application/vnd.databricks.v1+cell": {
     "cellMetadata": {
      "byteLimit": 2048000,
      "rowLimit": 10000
     },
     "inputWidgets": {},
     "nuid": "6170e417-14ce-4ccd-8b69-419c4a019fa9",
     "showTitle": false,
     "tableResultSettingsMap": {},
     "title": ""
    }
   },
   "outputs": [],
   "source": [
    "# ---------- NIVEL EQUIPO/PARTIDO ----------\n",
    "teams_list = []\n",
    "HomeTeam = True\n",
    "for X in data:\n",
    "    for Y in data[str(X)]:\n",
    "        team_details = (data[str(X)][str(Y)].get('team_details', {}) or {}).copy()\n",
    "        aggregate_stats = data[str(X)][str(Y)].get('aggregate_stats', {}) or {}\n",
    "\n",
    "        team_details.setdefault(\"team_id\", Y)\n",
    "        team_details['match_id'] = X\n",
    "        team_details['team'] = \"L\" if HomeTeam else \"V\"\n",
    "        HomeTeam = not HomeTeam\n",
    "\n",
    "        # merge de agregados\n",
    "        for k, v in aggregate_stats.items():\n",
    "            team_details[k] = v\n",
    "\n",
    "        teams_list.append(team_details)\n",
    "\n",
    "df_teams = pd.DataFrame(teams_list)\n",
    "\n",
    "cols_first = ['match_id', 'team_id', 'team_name', 'team']\n",
    "cols_first = [c for c in cols_first if c in df_teams.columns]\n",
    "df_teams = df_teams[cols_first + [c for c in df_teams.columns if c not in cols_first]]\n"
   ]
  },
  {
   "cell_type": "code",
   "execution_count": null,
   "metadata": {
    "application/vnd.databricks.v1+cell": {
     "cellMetadata": {
      "byteLimit": 2048000,
      "rowLimit": 10000
     },
     "inputWidgets": {},
     "nuid": "e37b5c00-bd56-4c32-a249-df74867ba9ed",
     "showTitle": false,
     "tableResultSettingsMap": {},
     "title": ""
    }
   },
   "outputs": [],
   "source": [
    "# ---------- NIVEL JUGADOR ----------\n",
    "players_list = []\n",
    "for X in data:\n",
    "    for Y in data[str(X)]:\n",
    "        players = data[str(X)][str(Y)].get('Player_stats', {}) or {}\n",
    "        for Z in players:\n",
    "            d = {}\n",
    "            pdet = (players[str(Z)].get('player_details', {}) or {})\n",
    "            pms  = (players[str(Z)].get('Match_stats', {}) or {})\n",
    "\n",
    "            d.update(pdet)\n",
    "            d.update(pms)\n",
    "            d['match'] = X\n",
    "            d['team'] = Y\n",
    "            d['player_name'] = pdet.get('player_name') or str(Z)\n",
    "\n",
    "            players_list.append(d)\n",
    "\n",
    "df_players = pd.DataFrame(players_list)\n",
    "\n",
    "cols_first = ['match', 'team', 'player_name']\n",
    "cols_first = [c for c in cols_first if c in df_players.columns]\n",
    "df_players = df_players[cols_first + [c for c in df_players.columns if c not in cols_first]]\n"
   ]
  },
  {
   "cell_type": "code",
   "execution_count": null,
   "metadata": {
    "application/vnd.databricks.v1+cell": {
     "cellMetadata": {
      "byteLimit": 2048000,
      "rowLimit": 10000
     },
     "inputWidgets": {},
     "nuid": "28b08683-b544-4f92-8f9b-7dfffb2fa1b2",
     "showTitle": false,
     "tableResultSettingsMap": {},
     "title": ""
    }
   },
   "outputs": [],
   "source": [
    "# ---------- GUARDAR ----------\n",
    "import os\n",
    "os.makedirs(OUT, exist_ok=True)\n",
    "df_teams.to_csv(f\"{OUT}/TeamsJSON.csv\", index=False, encoding=\"utf-8\")\n",
    "df_players.to_csv(f\"{OUT}/JugadoresJSON.csv\", index=False, encoding=\"utf-8\")\n",
    "print(\"Listo:\", f\"{OUT}/TeamsJSON.csv\", f\"{OUT}/JugadoresJSON.csv\")"
   ]
  },
  {
   "cell_type": "code",
   "execution_count": null,
   "metadata": {
    "application/vnd.databricks.v1+cell": {
     "cellMetadata": {
      "byteLimit": 2048000,
      "rowLimit": 10000
     },
     "inputWidgets": {},
     "nuid": "da816758-cbf9-4dea-93e4-cdad927b5a7e",
     "showTitle": false,
     "tableResultSettingsMap": {
      "0": {
       "dataGridStateBlob": "{\"version\":1,\"tableState\":{\"columnPinning\":{\"left\":[\"#row_number#\"],\"right\":[]},\"columnSizing\":{},\"columnVisibility\":{}},\"settings\":{\"columns\":{}},\"syncTimestamp\":1757237306485}",
       "filterBlob": null,
       "queryPlanFiltersBlob": null,
       "tableResultIndex": 0
      },
      "1": {
       "dataGridStateBlob": "{\"version\":1,\"tableState\":{\"columnPinning\":{\"left\":[\"#row_number#\"],\"right\":[]},\"columnSizing\":{},\"columnVisibility\":{}},\"settings\":{\"columns\":{}},\"syncTimestamp\":1757237306506}",
       "filterBlob": null,
       "queryPlanFiltersBlob": null,
       "tableResultIndex": 1
      }
     },
     "title": ""
    }
   },
   "outputs": [],
   "source": [
    "jug = (spark.read.option(\"header\",\"true\").option(\"inferSchema\",\"true\").csv(f\"{BASE}/jugadores.csv\"))\n",
    "res_futbol = (spark.read.option(\"header\",\"true\").option(\"inferSchema\",\"true\").csv(f\"{BASE}/resultados_futbol.csv\"))  \n",
    "equ_json = (spark.read.option(\"header\",\"true\").option(\"inferSchema\",\"true\").csv(f\"{BASE}/csv_out/TeamsJSON.csv\"))\n",
    "jug_json = (spark.read.option(\"header\",\"true\").option(\"inferSchema\",\"true\").csv(f\"{BASE}/csv_out/JugadoresJSON.csv\"))\n",
    "\n",
    "display(jug.limit(5))\n",
    "display(res_futbol.limit(5))\n",
    "display(equ_json.limit(5))\n",
    "display(jug_json.limit(5))"
   ]
  },
  {
   "cell_type": "markdown",
   "metadata": {
    "application/vnd.databricks.v1+cell": {
     "cellMetadata": {},
     "inputWidgets": {},
     "nuid": "9307dc7b-bb9e-4454-80f2-94eb5e93394b",
     "showTitle": false,
     "tableResultSettingsMap": {},
     "title": ""
    }
   },
   "source": [
    "### "
   ]
  },
  {
   "cell_type": "markdown",
   "metadata": {
    "application/vnd.databricks.v1+cell": {
     "cellMetadata": {},
     "inputWidgets": {},
     "nuid": "b3dce40c-ebb9-4cb6-b12a-e606ec572df0",
     "showTitle": false,
     "tableResultSettingsMap": {},
     "title": ""
    }
   },
   "source": [
    "### Glosario jugadores.csv"
   ]
  },
  {
   "cell_type": "markdown",
   "metadata": {
    "application/vnd.databricks.v1+cell": {
     "cellMetadata": {},
     "inputWidgets": {},
     "nuid": "7484b782-a569-42a6-83f2-6f92cf766b75",
     "showTitle": false,
     "tableResultSettingsMap": {},
     "title": ""
    }
   },
   "source": [
    "match_id (int): identificador único del partido.\n",
    "\n",
    "team_id (int): identificador del equipo según el proveedor.\n",
    "\n",
    "team_name (str): nombre del equipo.\n",
    "\n",
    "team (str): local/visitante (suele venir como L = local, V = visitante).\n",
    "\n",
    "team_rating (double): calificación agregada del equipo basada en acciones del partido (algoritmo propietario; en proveedores tipo SofaScore las ratings se calculan automáticamente a partir de eventos). \n",
    "\n",
    "date (date): fecha del partido.\n",
    "\n",
    "won_corners (int): saques de esquina ganados por el equipo (equivale a “HC/AC” en algunos ficheros). \n",
    "Football Data\n",
    "\n",
    "att_sv_low_centre (int): intentos a puerta (on target) salvados por el portero dirigidos a la zona baja-central de la portería (nomenclatura habitual en datos estilo Opta; la “baja-central” es una de las zonas de colocación de tiro usadas por estos proveedores). \n",
    "\n",
    "won_contest (int): duelos ganados (incluye duelos aéreos/terrestres; depende del proveedor). \n",
    "\n",
    "total_tackle (int): entradas realizadas (tackles, ganadas o totales según la implementación). \n",
    "\n",
    "aerial_lost (int): duelos aéreos perdidos. \n",
    "\n",
    "possession_percentage (double): % de posesión del balón del equipo (método varía por proveedor: por tiempo efectivo o por secuencias/pases). \n",
    "\n",
    "accurate_pass (int): pases acertados/completados (paso que llega a un compañero).\n"
   ]
  },
  {
   "cell_type": "markdown",
   "metadata": {
    "application/vnd.databricks.v1+cell": {
     "cellMetadata": {},
     "inputWidgets": {},
     "nuid": "76703880-896d-423f-9ecd-dcb97e7544fc",
     "showTitle": false,
     "tableResultSettingsMap": {},
     "title": ""
    }
   },
   "source": [
    "### Glosario resultados_futbol.csv"
   ]
  },
  {
   "cell_type": "markdown",
   "metadata": {
    "application/vnd.databricks.v1+cell": {
     "cellMetadata": {},
     "inputWidgets": {},
     "nuid": "f5a09f6d-bdfc-47dd-ae94-68de14693942",
     "showTitle": false,
     "tableResultSettingsMap": {},
     "title": ""
    }
   },
   "source": [
    "name (str): nombre del jugador.\n",
    "\n",
    "club (str): club actual.\n",
    "\n",
    "age (int): edad.\n",
    "\n",
    "position (str): posición principal (p. ej., DF/MF/FW/GK).\n",
    "\n",
    "position_cat (int): categoría numérica de posición (feature de dataset; p. ej., 1=GK, 2=DF, 3=MF, 4=FW; confirmar mapeo exacto en tu fuente).\n",
    "\n",
    "market_value (double): valor de mercado estimado (frecuente en Transfermarkt; es una estimación comunitaria, no una tarifa de traspaso). \n",
    "\n",
    "page_views (int): vistas de página (suele ser popularidad, a menudo de Wikipedia si el dataset lo incluye). \n",
    "\n",
    "fpl_value (double): “valor” en Fantasy Premier League (comúnmente puntos totales / precio en millones). \n",
    "\n",
    "fpl_sel (str): % “Selected by” (porcentaje de mánagers FPL que poseen al jugador). \n",
    "\n",
    "fpl_points (int): puntos FPL acumulados según el sistema oficial. \n",
    "\n",
    "region / nationality (str): región/país.\n",
    "\n",
    "new_foreign (int): indicador de jugador extranjero recién llegado (feature del dataset; confirmar lógica exacta).\n",
    "\n",
    "age_cat (int): bines de edad (feature del dataset).\n",
    "\n",
    "club_id (int): id del club en el proveedor.\n",
    "\n",
    "big_club (int): indicador de “club grande” (feature del dataset; p. ej., Big-6, etc.).\n",
    "\n",
    "new_signing (int): fichaje reciente (feature del dataset)."
   ]
  },
  {
   "cell_type": "markdown",
   "metadata": {
    "application/vnd.databricks.v1+cell": {
     "cellMetadata": {},
     "inputWidgets": {},
     "nuid": "46c1907c-c914-413a-ad83-f747e3d4de23",
     "showTitle": false,
     "tableResultSettingsMap": {},
     "title": ""
    }
   },
   "source": [
    "### Glosario TeamsJSON.csv"
   ]
  },
  {
   "cell_type": "markdown",
   "metadata": {
    "application/vnd.databricks.v1+cell": {
     "cellMetadata": {},
     "inputWidgets": {},
     "nuid": "11a6e839-141e-49f7-a2a8-ef52715f1417",
     "showTitle": false,
     "tableResultSettingsMap": {},
     "title": ""
    }
   },
   "source": [
    "match (int): id del partido.\n",
    "\n",
    "team (int/str): id/código del equipo en ese partido.\n",
    "\n",
    "player_name (str), player_id (int).\n",
    "\n",
    "player_position_value (int) / player_position_info (str): posición o rol en ese partido.\n",
    "\n",
    "player_rating (double): rating del rendimiento del jugador (algoritmo propietario; en sitios como SofaScore/WhoScored se recalcula en tiempo real con eventos). \n",
    "\n",
    "good_high_claim (int): “alta captura buena” del portero: alto balón al área atrapado con éxito (claim) — se distingue de “punch” (puñetazo) y de “cross not claimed” (salida fallida).\n",
    "\n",
    "touches (int): toques de balón (suma de eventos donde el jugador toca el balón). \n",
    "\n",
    "saves (int): paradas del portero (tiros a puerta detenidos). \n",
    "\n",
    "total_pass (int): pases intentados.\n",
    "\n",
    "formation_place (int): posición en el 11 según el dibujo/alineación (número de “casilla” en la formación; convención del proveedor). (No hay estándar universal; es específico de la data).\n",
    "\n",
    "accurate_pass (int): pases acertados/completados. \n",
    "\n",
    "aerial_won / aerial_lost (int): duelos aéreos ganados/perdidos. \n",
    "\n",
    "fouls (int): faltas cometidas (según criterio Opta/gobernadas por el árbitro). \n",
    "\n",
    "total_scoring_att (int): tiros totales (attempts). \n",
    "\n",
    "total_tackle (int): entradas realizadas (ver definición arriba). \n",
    "\n",
    "won_contest (int): duelos ganados. \n",
    "\n",
    "penalty_conceded (int): penaltis concedidos por el jugador. \n",
    "\n",
    "blocked_scoring_att (int): tiros bloqueados por defensores. \n",
    "\n",
    "man_of_the_match (int): indicador de premio “Jugador del partido” (según proveedor).\n",
    "\n",
    "total_throws (int): saques de banda ejecutados.\n",
    "\n",
    "shot_off_target (int): tiros fuera. \n",
    "\n",
    "ontarget_scoring_att (int): tiros a puerta (incluye goles y tiros detenidos; si un defensa bloquea en la línea, muchos proveedores lo consideran on target). \n",
    "\n",
    "att_miss_left (int): tiros fuera – zona izquierda (clasificación por colocación)."
   ]
  },
  {
   "cell_type": "markdown",
   "metadata": {
    "application/vnd.databricks.v1+cell": {
     "cellMetadata": {},
     "inputWidgets": {},
     "nuid": "e6c3936e-5a9e-4402-952c-140748a51327",
     "showTitle": false,
     "tableResultSettingsMap": {},
     "title": ""
    }
   },
   "source": [
    "### Glosario JugadoresJSON.csv"
   ]
  },
  {
   "cell_type": "markdown",
   "metadata": {
    "application/vnd.databricks.v1+cell": {
     "cellMetadata": {},
     "inputWidgets": {},
     "nuid": "6821cf3e-2ad2-481c-b4dc-ec79fa423363",
     "showTitle": false,
     "tableResultSettingsMap": {},
     "title": ""
    }
   },
   "source": [
    "Season (str): temporada (p. ej., “2018/2019”).\n",
    "\n",
    "DateTime (ts): fecha y hora del kickoff.\n",
    "\n",
    "HomeTeam / AwayTeam (str): equipos local/visitante.\n",
    "\n",
    "FTHG / FTAG (int): goles al final del partido (local/visitante).\n",
    "\n",
    "FTR (str): resultado final (H=local, D=empate, A=visitante).\n",
    "\n",
    "HTHG / HTAG (str/int): goles al descanso (local/visitante).\n",
    "\n",
    "HTR (str): resultado al descanso (H/D/A).\n",
    "\n",
    "Referee (str): árbitro.\n",
    "\n",
    "HS / AS (str/int): tiros del local/visitante.\n",
    "\n",
    "HST / AST (str/int): tiros a puerta del local/visitante.\n",
    "\n",
    "HC / AC (str/int): córners local/visitante.\n",
    "\n",
    "HF / AF (str/int): faltas cometidas local/visitante.\n",
    "\n",
    "HY / AY (str/int): amarillas local/visitante.\n",
    "\n",
    "HR / AR (str/int): rojas local/visitante."
   ]
  },
  {
   "cell_type": "code",
   "execution_count": null,
   "metadata": {
    "application/vnd.databricks.v1+cell": {
     "cellMetadata": {},
     "inputWidgets": {},
     "nuid": "2cfe0b44-d483-47ea-8c55-9e472ed4e0d2",
     "showTitle": false,
     "tableResultSettingsMap": {},
     "title": ""
    }
   },
   "outputs": [],
   "source": []
  },
  {
   "cell_type": "code",
   "execution_count": null,
   "metadata": {
    "application/vnd.databricks.v1+cell": {
     "cellMetadata": {},
     "inputWidgets": {},
     "nuid": "4ede4ae1-a310-402c-bc36-e5c3aacac499",
     "showTitle": false,
     "tableResultSettingsMap": {},
     "title": ""
    }
   },
   "outputs": [],
   "source": []
  }
 ],
 "metadata": {
  "application/vnd.databricks.v1+notebook": {
   "computePreferences": {
    "hardware": {
     "accelerator": null,
     "gpuPoolId": null,
     "memory": null
    }
   },
   "dashboards": [],
   "environmentMetadata": {
    "base_environment": "",
    "environment_version": "3"
   },
   "inputWidgetPreferences": null,
   "language": "python",
   "notebookMetadata": {
    "pythonIndentUnit": 4
   },
   "notebookName": "Parcial_Procesamiento_Datos",
   "widgets": {}
  },
  "language_info": {
   "name": "python"
  }
 },
 "nbformat": 4,
 "nbformat_minor": 0
}
