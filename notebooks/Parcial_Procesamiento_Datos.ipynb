{
 "cells": [
  {
   "cell_type": "markdown",
   "metadata": {
    "application/vnd.databricks.v1+cell": {
     "cellMetadata": {
      "byteLimit": 2048000,
      "rowLimit": 10000
     },
     "inputWidgets": {},
     "nuid": "a67a4d7e-db76-461e-b3e4-5089b99a4229",
     "showTitle": false,
     "tableResultSettingsMap": {},
     "title": ""
    }
   },
   "source": [
    "\n",
    "Autor: Sebastian Rodriguez\n",
    "\n",
    "Curso: Proicesamiento de Datos – Pontificia Universidad Javeriana\n",
    "\n",
    "Fecha: 2025-09-03\n",
    "\n",
    "Repositorio: https://github.com/T3cm0/Parcial-1-Procesamiento-de-Datos\n",
    "\n",
    "Para el inicio de este notebook en Databricks primero debemos leer nuestros archivos de la ruta en donde los almacenamos, en mi caso quedaron en Volumes/workspace/default/parcial"
   ]
  },
  {
   "cell_type": "code",
   "execution_count": 0,
   "metadata": {
    "application/vnd.databricks.v1+cell": {
     "cellMetadata": {
      "byteLimit": 2048000,
      "rowLimit": 10000
     },
     "inputWidgets": {},
     "nuid": "12ef9d81-248c-4c88-8eeb-f5fb9e4c6394",
     "showTitle": false,
     "tableResultSettingsMap": {},
     "title": ""
    }
   },
   "outputs": [
    {
     "output_type": "stream",
     "name": "stdout",
     "output_type": "stream",
     "text": [
      "['csv_out', 'figs', 'jugadores.csv', 'resultados_futbol.csv', 'temporadas.json']\n['JugadoresJSON.csv', 'TeamsJSON.csv']\n"
     ]
    }
   ],
   "source": [
    "import json\n",
    "import os\n",
    "from pyspark.sql import Row\n",
    "from pyspark.sql import functions as F\n",
    "\n",
    "# Ruta base del Volume donde subiste los archivos\n",
    "catalog = \"workspace\"\n",
    "schema  = \"default\"\n",
    "volume  = \"parcial\"\n",
    "BASE = f\"/Volumes/{catalog}/{schema}/{volume}\"\n",
    "CSVS = f\"{BASE}/csv_out\"\n",
    "\n",
    "arr = os.listdir(BASE)\n",
    "arr2 = os.listdir(CSVS)\n",
    "print(arr)\n",
    "print(arr2)\n"
   ]
  },
  {
   "cell_type": "markdown",
   "metadata": {
    "application/vnd.databricks.v1+cell": {
     "cellMetadata": {
      "byteLimit": 2048000,
      "rowLimit": 10000
     },
     "inputWidgets": {},
     "nuid": "be104ace-b2d5-4211-b303-9ad2ad2232d2",
     "showTitle": false,
     "tableResultSettingsMap": {},
     "title": ""
    }
   },
   "source": [
    "Convertimos el JSON que cuesta leer en un formato de tipo CSV."
   ]
  },
  {
   "cell_type": "code",
   "execution_count": 0,
   "metadata": {
    "application/vnd.databricks.v1+cell": {
     "cellMetadata": {
      "byteLimit": 2048000,
      "rowLimit": 10000
     },
     "inputWidgets": {},
     "nuid": "759593b8-e45b-4c43-ac55-63d481e0e88d",
     "showTitle": false,
     "tableResultSettingsMap": {},
     "title": ""
    }
   },
   "outputs": [],
   "source": [
    "import json, pandas as pd\n",
    "\n",
    "IN  = f\"/{BASE}/temporadas.json\"\n",
    "OUT = f\"/{BASE}/csv_out\"            \n",
    "\n",
    "with open(IN, encoding=\"utf-8\") as f:\n",
    "    data = json.load(f)"
   ]
  },
  {
   "cell_type": "code",
   "execution_count": 0,
   "metadata": {
    "application/vnd.databricks.v1+cell": {
     "cellMetadata": {
      "byteLimit": 2048000,
      "rowLimit": 10000
     },
     "inputWidgets": {},
     "nuid": "6170e417-14ce-4ccd-8b69-419c4a019fa9",
     "showTitle": false,
     "tableResultSettingsMap": {},
     "title": ""
    }
   },
   "outputs": [],
   "source": [
    "# ---------- NIVEL EQUIPO/PARTIDO ----------\n",
    "teams_list = []\n",
    "HomeTeam = True\n",
    "for X in data:\n",
    "    for Y in data[str(X)]:\n",
    "        team_details = (data[str(X)][str(Y)].get('team_details', {}) or {}).copy()\n",
    "        aggregate_stats = data[str(X)][str(Y)].get('aggregate_stats', {}) or {}\n",
    "\n",
    "        team_details.setdefault(\"team_id\", Y)\n",
    "        team_details['match_id'] = X\n",
    "        team_details['team'] = \"L\" if HomeTeam else \"V\"\n",
    "        HomeTeam = not HomeTeam\n",
    "\n",
    "        # merge de agregados\n",
    "        for k, v in aggregate_stats.items():\n",
    "            team_details[k] = v\n",
    "\n",
    "        teams_list.append(team_details)\n",
    "\n",
    "df_teams = pd.DataFrame(teams_list)\n",
    "\n",
    "cols_first = ['match_id', 'team_id', 'team_name', 'team']\n",
    "cols_first = [c for c in cols_first if c in df_teams.columns]\n",
    "df_teams = df_teams[cols_first + [c for c in df_teams.columns if c not in cols_first]]\n"
   ]
  },
  {
   "cell_type": "code",
   "execution_count": 0,
   "metadata": {
    "application/vnd.databricks.v1+cell": {
     "cellMetadata": {
      "byteLimit": 2048000,
      "rowLimit": 10000
     },
     "inputWidgets": {},
     "nuid": "e37b5c00-bd56-4c32-a249-df74867ba9ed",
     "showTitle": false,
     "tableResultSettingsMap": {},
     "title": ""
    }
   },
   "outputs": [],
   "source": [
    "# ---------- NIVEL JUGADOR ----------\n",
    "players_list = []\n",
    "for X in data:\n",
    "    for Y in data[str(X)]:\n",
    "        players = data[str(X)][str(Y)].get('Player_stats', {}) or {}\n",
    "        for Z in players:\n",
    "            d = {}\n",
    "            pdet = (players[str(Z)].get('player_details', {}) or {})\n",
    "            pms  = (players[str(Z)].get('Match_stats', {}) or {})\n",
    "\n",
    "            d.update(pdet)\n",
    "            d.update(pms)\n",
    "            d['match'] = X\n",
    "            d['team'] = Y\n",
    "            d['player_name'] = pdet.get('player_name') or str(Z)\n",
    "\n",
    "            players_list.append(d)\n",
    "\n",
    "df_players = pd.DataFrame(players_list)\n",
    "\n",
    "cols_first = ['match', 'team', 'player_name']\n",
    "cols_first = [c for c in cols_first if c in df_players.columns]\n",
    "df_players = df_players[cols_first + [c for c in df_players.columns if c not in cols_first]]\n"
   ]
  },
  {
   "cell_type": "code",
   "execution_count": 0,
   "metadata": {
    "application/vnd.databricks.v1+cell": {
     "cellMetadata": {
      "byteLimit": 2048000,
      "rowLimit": 10000
     },
     "inputWidgets": {},
     "nuid": "28b08683-b544-4f92-8f9b-7dfffb2fa1b2",
     "showTitle": false,
     "tableResultSettingsMap": {},
     "title": ""
    }
   },
   "outputs": [
    {
     "output_type": "stream",
     "name": "stdout",
     "output_type": "stream",
     "text": [
      "Listo: //Volumes/workspace/default/parcial/csv_out/TeamsJSON.csv //Volumes/workspace/default/parcial/csv_out/JugadoresJSON.csv\n"
     ]
    }
   ],
   "source": [
    "# ---------- GUARDAR ----------\n",
    "import os\n",
    "os.makedirs(OUT, exist_ok=True)\n",
    "df_teams.to_csv(f\"{OUT}/TeamsJSON.csv\", index=False, encoding=\"utf-8\")\n",
    "df_players.to_csv(f\"{OUT}/JugadoresJSON.csv\", index=False, encoding=\"utf-8\")\n",
    "print(\"Listo:\", f\"{OUT}/TeamsJSON.csv\", f\"{OUT}/JugadoresJSON.csv\")"
   ]
  },
  {
   "cell_type": "markdown",
   "metadata": {
    "application/vnd.databricks.v1+cell": {
     "cellMetadata": {},
     "inputWidgets": {},
     "nuid": "d95f0c46-7bc4-4018-96e6-7cc988c70e8e",
     "showTitle": false,
     "tableResultSettingsMap": {},
     "title": ""
    }
   },
   "source": [
    "Visualizamos los primeros 5 Datos de cada archivo incluuidos los de la conversion"
   ]
  },
  {
   "cell_type": "code",
   "execution_count": 0,
   "metadata": {
    "application/vnd.databricks.v1+cell": {
     "cellMetadata": {
      "byteLimit": 2048000,
      "rowLimit": 10000
     },
     "inputWidgets": {},
     "nuid": "da816758-cbf9-4dea-93e4-cdad927b5a7e",
     "showTitle": false,
     "tableResultSettingsMap": {
      "0": {
       "dataGridStateBlob": "{\"version\":1,\"tableState\":{\"columnPinning\":{\"left\":[\"#row_number#\"],\"right\":[]},\"columnSizing\":{},\"columnVisibility\":{}},\"settings\":{\"columns\":{}},\"syncTimestamp\":1757237306485}",
       "filterBlob": null,
       "queryPlanFiltersBlob": null,
       "tableResultIndex": 0
      },
      "1": {
       "dataGridStateBlob": "{\"version\":1,\"tableState\":{\"columnPinning\":{\"left\":[\"#row_number#\"],\"right\":[]},\"columnSizing\":{},\"columnVisibility\":{}},\"settings\":{\"columns\":{}},\"syncTimestamp\":1757237306506}",
       "filterBlob": null,
       "queryPlanFiltersBlob": null,
       "tableResultIndex": 1
      }
     },
     "title": ""
    }
   },
   "outputs": [
    {
     "output_type": "display_data",
     "data": {
      "text/html": [
       "<style scoped>\n",
       "  .table-result-container {\n",
       "    max-height: 300px;\n",
       "    overflow: auto;\n",
       "  }\n",
       "  table, th, td {\n",
       "    border: 1px solid black;\n",
       "    border-collapse: collapse;\n",
       "  }\n",
       "  th, td {\n",
       "    padding: 5px;\n",
       "  }\n",
       "  th {\n",
       "    text-align: left;\n",
       "  }\n",
       "</style><div class='table-result-container'><table class='table-result'><thead style='background-color: white'><tr><th>name</th><th>club</th><th>age</th><th>position</th><th>position_cat</th><th>market_value</th><th>page_views</th><th>fpl_value</th><th>fpl_sel</th><th>fpl_points</th><th>region</th><th>nationality</th><th>new_foreign</th><th>age_cat</th><th>club_id</th><th>big_club</th><th>new_signing</th></tr></thead><tbody><tr><td>Alexis Sanchez</td><td>Arsenal</td><td>28</td><td>LW</td><td>1</td><td>65.0</td><td>4329</td><td>12.0</td><td>17.10%</td><td>264</td><td>3</td><td>Chile</td><td>0</td><td>4</td><td>1</td><td>1</td><td>0</td></tr><tr><td>Mesut Ozil</td><td>Arsenal</td><td>28</td><td>AM</td><td>1</td><td>50.0</td><td>4395</td><td>9.5</td><td>5.60%</td><td>167</td><td>2</td><td>Germany</td><td>0</td><td>4</td><td>1</td><td>1</td><td>0</td></tr><tr><td>Petr Cech</td><td>Arsenal</td><td>35</td><td>GK</td><td>4</td><td>7.0</td><td>1529</td><td>5.5</td><td>5.90%</td><td>134</td><td>2</td><td>Czech Republic</td><td>0</td><td>6</td><td>1</td><td>1</td><td>0</td></tr><tr><td>Theo Walcott</td><td>Arsenal</td><td>28</td><td>RW</td><td>1</td><td>20.0</td><td>2393</td><td>7.5</td><td>1.50%</td><td>122</td><td>1</td><td>England</td><td>0</td><td>4</td><td>1</td><td>1</td><td>0</td></tr><tr><td>Laurent Koscielny</td><td>Arsenal</td><td>31</td><td>CB</td><td>3</td><td>22.0</td><td>912</td><td>6.0</td><td>0.70%</td><td>121</td><td>2</td><td>France</td><td>0</td><td>4</td><td>1</td><td>1</td><td>0</td></tr></tbody></table></div>"
      ]
     },
     "metadata": {
      "application/vnd.databricks.v1+output": {
       "addedWidgets": {},
       "aggData": [],
       "aggError": "",
       "aggOverflow": false,
       "aggSchema": [],
       "aggSeriesLimitReached": false,
       "aggType": "",
       "arguments": {},
       "columnCustomDisplayInfos": {},
       "data": [
        [
         "Alexis Sanchez",
         "Arsenal",
         28,
         "LW",
         1,
         65.0,
         4329,
         12.0,
         "17.10%",
         264,
         "3",
         "Chile",
         0,
         4,
         1,
         1,
         0
        ],
        [
         "Mesut Ozil",
         "Arsenal",
         28,
         "AM",
         1,
         50.0,
         4395,
         9.5,
         "5.60%",
         167,
         "2",
         "Germany",
         0,
         4,
         1,
         1,
         0
        ],
        [
         "Petr Cech",
         "Arsenal",
         35,
         "GK",
         4,
         7.0,
         1529,
         5.5,
         "5.90%",
         134,
         "2",
         "Czech Republic",
         0,
         6,
         1,
         1,
         0
        ],
        [
         "Theo Walcott",
         "Arsenal",
         28,
         "RW",
         1,
         20.0,
         2393,
         7.5,
         "1.50%",
         122,
         "1",
         "England",
         0,
         4,
         1,
         1,
         0
        ],
        [
         "Laurent Koscielny",
         "Arsenal",
         31,
         "CB",
         3,
         22.0,
         912,
         6.0,
         "0.70%",
         121,
         "2",
         "France",
         0,
         4,
         1,
         1,
         0
        ]
       ],
       "datasetInfos": [],
       "dbfsResultPath": null,
       "isJsonSchema": true,
       "metadata": {},
       "overflow": false,
       "plotOptions": {
        "customPlotOptions": {},
        "displayType": "table",
        "pivotAggregation": null,
        "pivotColumns": null,
        "xColumns": null,
        "yColumns": null
       },
       "removedWidgets": [],
       "schema": [
        {
         "metadata": "{}",
         "name": "name",
         "type": "\"string\""
        },
        {
         "metadata": "{}",
         "name": "club",
         "type": "\"string\""
        },
        {
         "metadata": "{}",
         "name": "age",
         "type": "\"integer\""
        },
        {
         "metadata": "{}",
         "name": "position",
         "type": "\"string\""
        },
        {
         "metadata": "{}",
         "name": "position_cat",
         "type": "\"integer\""
        },
        {
         "metadata": "{}",
         "name": "market_value",
         "type": "\"double\""
        },
        {
         "metadata": "{}",
         "name": "page_views",
         "type": "\"integer\""
        },
        {
         "metadata": "{}",
         "name": "fpl_value",
         "type": "\"double\""
        },
        {
         "metadata": "{}",
         "name": "fpl_sel",
         "type": "\"string\""
        },
        {
         "metadata": "{}",
         "name": "fpl_points",
         "type": "\"integer\""
        },
        {
         "metadata": "{}",
         "name": "region",
         "type": "\"string\""
        },
        {
         "metadata": "{}",
         "name": "nationality",
         "type": "\"string\""
        },
        {
         "metadata": "{}",
         "name": "new_foreign",
         "type": "\"integer\""
        },
        {
         "metadata": "{}",
         "name": "age_cat",
         "type": "\"integer\""
        },
        {
         "metadata": "{}",
         "name": "club_id",
         "type": "\"integer\""
        },
        {
         "metadata": "{}",
         "name": "big_club",
         "type": "\"integer\""
        },
        {
         "metadata": "{}",
         "name": "new_signing",
         "type": "\"integer\""
        }
       ],
       "type": "table"
      }
     },
     "output_type": "display_data"
    },
    {
     "output_type": "display_data",
     "data": {
      "text/html": [
       "<style scoped>\n",
       "  .table-result-container {\n",
       "    max-height: 300px;\n",
       "    overflow: auto;\n",
       "  }\n",
       "  table, th, td {\n",
       "    border: 1px solid black;\n",
       "    border-collapse: collapse;\n",
       "  }\n",
       "  th, td {\n",
       "    padding: 5px;\n",
       "  }\n",
       "  th {\n",
       "    text-align: left;\n",
       "  }\n",
       "</style><div class='table-result-container'><table class='table-result'><thead style='background-color: white'><tr><th>Season</th><th>DateTime</th><th>HomeTeam</th><th>AwayTeam</th><th>FTHG</th><th>FTAG</th><th>FTR</th><th>HTHG</th><th>HTAG</th><th>HTR</th><th>Referee</th><th>HS</th><th>AS</th><th>HST</th><th>AST</th><th>HC</th><th>AC</th><th>HF</th><th>AF</th><th>HY</th><th>AY</th><th>HR</th><th>AR</th></tr></thead><tbody><tr><td>1993-94</td><td>1993-08-14T00:00:00.000Z</td><td>Arsenal</td><td>Coventry</td><td>0</td><td>3</td><td>A</td><td>NA</td><td>NA</td><td>NA</td><td>NA</td><td>NA</td><td>NA</td><td>NA</td><td>NA</td><td>NA</td><td>NA</td><td>NA</td><td>NA</td><td>NA</td><td>NA</td><td>NA</td><td>NA</td></tr><tr><td>1993-94</td><td>1993-08-14T00:00:00.000Z</td><td>Aston Villa</td><td>QPR</td><td>4</td><td>1</td><td>H</td><td>NA</td><td>NA</td><td>NA</td><td>NA</td><td>NA</td><td>NA</td><td>NA</td><td>NA</td><td>NA</td><td>NA</td><td>NA</td><td>NA</td><td>NA</td><td>NA</td><td>NA</td><td>NA</td></tr><tr><td>1993-94</td><td>1993-08-14T00:00:00.000Z</td><td>Chelsea</td><td>Blackburn</td><td>1</td><td>2</td><td>A</td><td>NA</td><td>NA</td><td>NA</td><td>NA</td><td>NA</td><td>NA</td><td>NA</td><td>NA</td><td>NA</td><td>NA</td><td>NA</td><td>NA</td><td>NA</td><td>NA</td><td>NA</td><td>NA</td></tr><tr><td>1993-94</td><td>1993-08-14T00:00:00.000Z</td><td>Liverpool</td><td>Sheffield Weds</td><td>2</td><td>0</td><td>H</td><td>NA</td><td>NA</td><td>NA</td><td>NA</td><td>NA</td><td>NA</td><td>NA</td><td>NA</td><td>NA</td><td>NA</td><td>NA</td><td>NA</td><td>NA</td><td>NA</td><td>NA</td><td>NA</td></tr><tr><td>1993-94</td><td>1993-08-14T00:00:00.000Z</td><td>Man City</td><td>Leeds</td><td>1</td><td>1</td><td>D</td><td>NA</td><td>NA</td><td>NA</td><td>NA</td><td>NA</td><td>NA</td><td>NA</td><td>NA</td><td>NA</td><td>NA</td><td>NA</td><td>NA</td><td>NA</td><td>NA</td><td>NA</td><td>NA</td></tr></tbody></table></div>"
      ]
     },
     "metadata": {
      "application/vnd.databricks.v1+output": {
       "addedWidgets": {},
       "aggData": [],
       "aggError": "",
       "aggOverflow": false,
       "aggSchema": [],
       "aggSeriesLimitReached": false,
       "aggType": "",
       "arguments": {},
       "columnCustomDisplayInfos": {},
       "data": [
        [
         "1993-94",
         "1993-08-14T00:00:00.000Z",
         "Arsenal",
         "Coventry",
         0,
         3,
         "A",
         "NA",
         "NA",
         "NA",
         "NA",
         "NA",
         "NA",
         "NA",
         "NA",
         "NA",
         "NA",
         "NA",
         "NA",
         "NA",
         "NA",
         "NA",
         "NA"
        ],
        [
         "1993-94",
         "1993-08-14T00:00:00.000Z",
         "Aston Villa",
         "QPR",
         4,
         1,
         "H",
         "NA",
         "NA",
         "NA",
         "NA",
         "NA",
         "NA",
         "NA",
         "NA",
         "NA",
         "NA",
         "NA",
         "NA",
         "NA",
         "NA",
         "NA",
         "NA"
        ],
        [
         "1993-94",
         "1993-08-14T00:00:00.000Z",
         "Chelsea",
         "Blackburn",
         1,
         2,
         "A",
         "NA",
         "NA",
         "NA",
         "NA",
         "NA",
         "NA",
         "NA",
         "NA",
         "NA",
         "NA",
         "NA",
         "NA",
         "NA",
         "NA",
         "NA",
         "NA"
        ],
        [
         "1993-94",
         "1993-08-14T00:00:00.000Z",
         "Liverpool",
         "Sheffield Weds",
         2,
         0,
         "H",
         "NA",
         "NA",
         "NA",
         "NA",
         "NA",
         "NA",
         "NA",
         "NA",
         "NA",
         "NA",
         "NA",
         "NA",
         "NA",
         "NA",
         "NA",
         "NA"
        ],
        [
         "1993-94",
         "1993-08-14T00:00:00.000Z",
         "Man City",
         "Leeds",
         1,
         1,
         "D",
         "NA",
         "NA",
         "NA",
         "NA",
         "NA",
         "NA",
         "NA",
         "NA",
         "NA",
         "NA",
         "NA",
         "NA",
         "NA",
         "NA",
         "NA",
         "NA"
        ]
       ],
       "datasetInfos": [],
       "dbfsResultPath": null,
       "isJsonSchema": true,
       "metadata": {},
       "overflow": false,
       "plotOptions": {
        "customPlotOptions": {},
        "displayType": "table",
        "pivotAggregation": null,
        "pivotColumns": null,
        "xColumns": null,
        "yColumns": null
       },
       "removedWidgets": [],
       "schema": [
        {
         "metadata": "{}",
         "name": "Season",
         "type": "\"string\""
        },
        {
         "metadata": "{}",
         "name": "DateTime",
         "type": "\"timestamp\""
        },
        {
         "metadata": "{}",
         "name": "HomeTeam",
         "type": "\"string\""
        },
        {
         "metadata": "{}",
         "name": "AwayTeam",
         "type": "\"string\""
        },
        {
         "metadata": "{}",
         "name": "FTHG",
         "type": "\"integer\""
        },
        {
         "metadata": "{}",
         "name": "FTAG",
         "type": "\"integer\""
        },
        {
         "metadata": "{}",
         "name": "FTR",
         "type": "\"string\""
        },
        {
         "metadata": "{}",
         "name": "HTHG",
         "type": "\"string\""
        },
        {
         "metadata": "{}",
         "name": "HTAG",
         "type": "\"string\""
        },
        {
         "metadata": "{}",
         "name": "HTR",
         "type": "\"string\""
        },
        {
         "metadata": "{}",
         "name": "Referee",
         "type": "\"string\""
        },
        {
         "metadata": "{}",
         "name": "HS",
         "type": "\"string\""
        },
        {
         "metadata": "{}",
         "name": "AS",
         "type": "\"string\""
        },
        {
         "metadata": "{}",
         "name": "HST",
         "type": "\"string\""
        },
        {
         "metadata": "{}",
         "name": "AST",
         "type": "\"string\""
        },
        {
         "metadata": "{}",
         "name": "HC",
         "type": "\"string\""
        },
        {
         "metadata": "{}",
         "name": "AC",
         "type": "\"string\""
        },
        {
         "metadata": "{}",
         "name": "HF",
         "type": "\"string\""
        },
        {
         "metadata": "{}",
         "name": "AF",
         "type": "\"string\""
        },
        {
         "metadata": "{}",
         "name": "HY",
         "type": "\"string\""
        },
        {
         "metadata": "{}",
         "name": "AY",
         "type": "\"string\""
        },
        {
         "metadata": "{}",
         "name": "HR",
         "type": "\"string\""
        },
        {
         "metadata": "{}",
         "name": "AR",
         "type": "\"string\""
        }
       ],
       "type": "table"
      }
     },
     "output_type": "display_data"
    },
    {
     "output_type": "display_data",
     "data": {
      "text/html": [
       "<style scoped>\n",
       "  .table-result-container {\n",
       "    max-height: 300px;\n",
       "    overflow: auto;\n",
       "  }\n",
       "  table, th, td {\n",
       "    border: 1px solid black;\n",
       "    border-collapse: collapse;\n",
       "  }\n",
       "  th, td {\n",
       "    padding: 5px;\n",
       "  }\n",
       "  th {\n",
       "    text-align: left;\n",
       "  }\n",
       "</style><div class='table-result-container'><table class='table-result'><thead style='background-color: white'><tr><th>match_id</th><th>team_id</th><th>team_name</th><th>team</th><th>team_rating</th><th>date</th><th>won_corners</th><th>att_sv_low_centre</th><th>won_contest</th><th>total_tackle</th><th>aerial_lost</th><th>possession_percentage</th><th>accurate_pass</th><th>total_pass</th><th>total_throws</th><th>shot_off_target</th><th>total_offside</th><th>blocked_scoring_att</th><th>ontarget_scoring_att</th><th>aerial_won</th><th>att_miss_left</th><th>total_scoring_att</th><th>fk_foul_lost</th><th>att_miss_right</th><th>att_goal_low_left</th><th>att_goal_low_right</th><th>att_sv_low_left</th><th>goals</th><th>att_pen_goal</th><th>att_sv_high_centre</th><th>att_goal_low_centre</th><th>att_miss_high</th><th>att_post_left</th><th>post_scoring_att</th><th>att_miss_high_right</th><th>att_sv_high_right</th><th>att_sv_low_right</th><th>att_sv_high_left</th><th>att_miss_high_left</th><th>att_goal_high_right</th><th>att_goal_high_left</th><th>att_post_right</th><th>att_goal_high_centre</th><th>penalty_save</th><th>att_post_high</th></tr></thead><tbody><tr><td>1190418</td><td>166</td><td>Huddersfield</td><td>L</td><td>6.14</td><td>2018-01-30</td><td>1</td><td>1</td><td>5</td><td>11</td><td>15</td><td>25.3</td><td>214</td><td>308</td><td>15</td><td>2</td><td>3</td><td>2</td><td>1</td><td>16</td><td>1</td><td>5</td><td>8</td><td>1</td><td>null</td><td>null</td><td>null</td><td>null</td><td>null</td><td>null</td><td>null</td><td>null</td><td>null</td><td>null</td><td>null</td><td>null</td><td>null</td><td>null</td><td>null</td><td>null</td><td>null</td><td>null</td><td>null</td><td>null</td><td>null</td></tr><tr><td>1190418</td><td>26</td><td>Liverpool</td><td>V</td><td>7.22285714285714</td><td>2018-01-30</td><td>4</td><td>2</td><td>6</td><td>13</td><td>16</td><td>74.7</td><td>809</td><td>913</td><td>24</td><td>3</td><td>2</td><td>4</td><td>7</td><td>15</td><td>null</td><td>14</td><td>8</td><td>3</td><td>1</td><td>1</td><td>1</td><td>3</td><td>1</td><td>1</td><td>1</td><td>null</td><td>null</td><td>null</td><td>null</td><td>null</td><td>null</td><td>null</td><td>null</td><td>null</td><td>null</td><td>null</td><td>null</td><td>null</td><td>null</td></tr><tr><td>1190424</td><td>211</td><td>Brighton</td><td>L</td><td>7.15384615384615</td><td>2018-01-01</td><td>5</td><td>1</td><td>12</td><td>23</td><td>16</td><td>49.1</td><td>300</td><td>394</td><td>21</td><td>3</td><td>1</td><td>6</td><td>6</td><td>25</td><td>null</td><td>15</td><td>13</td><td>2</td><td>null</td><td>1</td><td>3</td><td>2</td><td>null</td><td>null</td><td>1</td><td>1</td><td>null</td><td>null</td><td>null</td><td>null</td><td>null</td><td>null</td><td>null</td><td>null</td><td>null</td><td>null</td><td>null</td><td>null</td><td>null</td></tr><tr><td>1190424</td><td>183</td><td>Bournemouth</td><td>V</td><td>6.90285714285714</td><td>2018-01-01</td><td>12</td><td>3</td><td>17</td><td>6</td><td>25</td><td>50.9</td><td>329</td><td>403</td><td>19</td><td>5</td><td>null</td><td>13</td><td>8</td><td>16</td><td>null</td><td>26</td><td>9</td><td>2</td><td>1</td><td>1</td><td>null</td><td>2</td><td>null</td><td>null</td><td>null</td><td>1</td><td>1</td><td>1</td><td>1</td><td>1</td><td>2</td><td>null</td><td>null</td><td>null</td><td>null</td><td>null</td><td>null</td><td>null</td><td>null</td></tr><tr><td>1190342</td><td>15</td><td>Chelsea</td><td>L</td><td>6.77142857142857</td><td>2018-01-13</td><td>6</td><td>1</td><td>15</td><td>13</td><td>18</td><td>55.4</td><td>426</td><td>508</td><td>21</td><td>4</td><td>5</td><td>6</td><td>7</td><td>11</td><td>2</td><td>17</td><td>14</td><td>null</td><td>null</td><td>null</td><td>2</td><td>null</td><td>null</td><td>1</td><td>null</td><td>1</td><td>null</td><td>null</td><td>1</td><td>null</td><td>2</td><td>1</td><td>null</td><td>null</td><td>null</td><td>null</td><td>null</td><td>null</td><td>null</td></tr></tbody></table></div>"
      ]
     },
     "metadata": {
      "application/vnd.databricks.v1+output": {
       "addedWidgets": {},
       "aggData": [],
       "aggError": "",
       "aggOverflow": false,
       "aggSchema": [],
       "aggSeriesLimitReached": false,
       "aggType": "",
       "arguments": {},
       "columnCustomDisplayInfos": {},
       "data": [
        [
         1190418,
         166,
         "Huddersfield",
         "L",
         6.14,
         "2018-01-30",
         1,
         1,
         5,
         11,
         15,
         25.3,
         214,
         308,
         15,
         2,
         3,
         2,
         1,
         16,
         1,
         5,
         8,
         1,
         null,
         null,
         null,
         null,
         null,
         null,
         null,
         null,
         null,
         null,
         null,
         null,
         null,
         null,
         null,
         null,
         null,
         null,
         null,
         null,
         null
        ],
        [
         1190418,
         26,
         "Liverpool",
         "V",
         7.22285714285714,
         "2018-01-30",
         4,
         2,
         6,
         13,
         16,
         74.7,
         809,
         913,
         24,
         3,
         2,
         4,
         7,
         15,
         null,
         14,
         8,
         3,
         1,
         1,
         1,
         3,
         1,
         1,
         1,
         null,
         null,
         null,
         null,
         null,
         null,
         null,
         null,
         null,
         null,
         null,
         null,
         null,
         null
        ],
        [
         1190424,
         211,
         "Brighton",
         "L",
         7.15384615384615,
         "2018-01-01",
         5,
         1,
         12,
         23,
         16,
         49.1,
         300,
         394,
         21,
         3,
         1,
         6,
         6,
         25,
         null,
         15,
         13,
         2,
         null,
         1,
         3,
         2,
         null,
         null,
         1,
         1,
         null,
         null,
         null,
         null,
         null,
         null,
         null,
         null,
         null,
         null,
         null,
         null,
         null
        ],
        [
         1190424,
         183,
         "Bournemouth",
         "V",
         6.90285714285714,
         "2018-01-01",
         12,
         3,
         17,
         6,
         25,
         50.9,
         329,
         403,
         19,
         5,
         null,
         13,
         8,
         16,
         null,
         26,
         9,
         2,
         1,
         1,
         null,
         2,
         null,
         null,
         null,
         1,
         1,
         1,
         1,
         1,
         2,
         null,
         null,
         null,
         null,
         null,
         null,
         null,
         null
        ],
        [
         1190342,
         15,
         "Chelsea",
         "L",
         6.77142857142857,
         "2018-01-13",
         6,
         1,
         15,
         13,
         18,
         55.4,
         426,
         508,
         21,
         4,
         5,
         6,
         7,
         11,
         2,
         17,
         14,
         null,
         null,
         null,
         2,
         null,
         null,
         1,
         null,
         1,
         null,
         null,
         1,
         null,
         2,
         1,
         null,
         null,
         null,
         null,
         null,
         null,
         null
        ]
       ],
       "datasetInfos": [],
       "dbfsResultPath": null,
       "isJsonSchema": true,
       "metadata": {},
       "overflow": false,
       "plotOptions": {
        "customPlotOptions": {},
        "displayType": "table",
        "pivotAggregation": null,
        "pivotColumns": null,
        "xColumns": null,
        "yColumns": null
       },
       "removedWidgets": [],
       "schema": [
        {
         "metadata": "{}",
         "name": "match_id",
         "type": "\"integer\""
        },
        {
         "metadata": "{}",
         "name": "team_id",
         "type": "\"integer\""
        },
        {
         "metadata": "{}",
         "name": "team_name",
         "type": "\"string\""
        },
        {
         "metadata": "{}",
         "name": "team",
         "type": "\"string\""
        },
        {
         "metadata": "{}",
         "name": "team_rating",
         "type": "\"double\""
        },
        {
         "metadata": "{\"__detected_date_formats\": \"d/M/yyyy\"}",
         "name": "date",
         "type": "\"date\""
        },
        {
         "metadata": "{}",
         "name": "won_corners",
         "type": "\"integer\""
        },
        {
         "metadata": "{}",
         "name": "att_sv_low_centre",
         "type": "\"integer\""
        },
        {
         "metadata": "{}",
         "name": "won_contest",
         "type": "\"integer\""
        },
        {
         "metadata": "{}",
         "name": "total_tackle",
         "type": "\"integer\""
        },
        {
         "metadata": "{}",
         "name": "aerial_lost",
         "type": "\"integer\""
        },
        {
         "metadata": "{}",
         "name": "possession_percentage",
         "type": "\"double\""
        },
        {
         "metadata": "{}",
         "name": "accurate_pass",
         "type": "\"integer\""
        },
        {
         "metadata": "{}",
         "name": "total_pass",
         "type": "\"integer\""
        },
        {
         "metadata": "{}",
         "name": "total_throws",
         "type": "\"integer\""
        },
        {
         "metadata": "{}",
         "name": "shot_off_target",
         "type": "\"integer\""
        },
        {
         "metadata": "{}",
         "name": "total_offside",
         "type": "\"integer\""
        },
        {
         "metadata": "{}",
         "name": "blocked_scoring_att",
         "type": "\"integer\""
        },
        {
         "metadata": "{}",
         "name": "ontarget_scoring_att",
         "type": "\"integer\""
        },
        {
         "metadata": "{}",
         "name": "aerial_won",
         "type": "\"integer\""
        },
        {
         "metadata": "{}",
         "name": "att_miss_left",
         "type": "\"integer\""
        },
        {
         "metadata": "{}",
         "name": "total_scoring_att",
         "type": "\"integer\""
        },
        {
         "metadata": "{}",
         "name": "fk_foul_lost",
         "type": "\"integer\""
        },
        {
         "metadata": "{}",
         "name": "att_miss_right",
         "type": "\"integer\""
        },
        {
         "metadata": "{}",
         "name": "att_goal_low_left",
         "type": "\"integer\""
        },
        {
         "metadata": "{}",
         "name": "att_goal_low_right",
         "type": "\"integer\""
        },
        {
         "metadata": "{}",
         "name": "att_sv_low_left",
         "type": "\"integer\""
        },
        {
         "metadata": "{}",
         "name": "goals",
         "type": "\"integer\""
        },
        {
         "metadata": "{}",
         "name": "att_pen_goal",
         "type": "\"integer\""
        },
        {
         "metadata": "{}",
         "name": "att_sv_high_centre",
         "type": "\"integer\""
        },
        {
         "metadata": "{}",
         "name": "att_goal_low_centre",
         "type": "\"integer\""
        },
        {
         "metadata": "{}",
         "name": "att_miss_high",
         "type": "\"integer\""
        },
        {
         "metadata": "{}",
         "name": "att_post_left",
         "type": "\"integer\""
        },
        {
         "metadata": "{}",
         "name": "post_scoring_att",
         "type": "\"integer\""
        },
        {
         "metadata": "{}",
         "name": "att_miss_high_right",
         "type": "\"integer\""
        },
        {
         "metadata": "{}",
         "name": "att_sv_high_right",
         "type": "\"integer\""
        },
        {
         "metadata": "{}",
         "name": "att_sv_low_right",
         "type": "\"integer\""
        },
        {
         "metadata": "{}",
         "name": "att_sv_high_left",
         "type": "\"integer\""
        },
        {
         "metadata": "{}",
         "name": "att_miss_high_left",
         "type": "\"integer\""
        },
        {
         "metadata": "{}",
         "name": "att_goal_high_right",
         "type": "\"integer\""
        },
        {
         "metadata": "{}",
         "name": "att_goal_high_left",
         "type": "\"integer\""
        },
        {
         "metadata": "{}",
         "name": "att_post_right",
         "type": "\"integer\""
        },
        {
         "metadata": "{}",
         "name": "att_goal_high_centre",
         "type": "\"integer\""
        },
        {
         "metadata": "{}",
         "name": "penalty_save",
         "type": "\"integer\""
        },
        {
         "metadata": "{}",
         "name": "att_post_high",
         "type": "\"integer\""
        }
       ],
       "type": "table"
      }
     },
     "output_type": "display_data"
    },
    {
     "output_type": "display_data",
     "data": {
      "text/html": [
       "<style scoped>\n",
       "  .table-result-container {\n",
       "    max-height: 300px;\n",
       "    overflow: auto;\n",
       "  }\n",
       "  table, th, td {\n",
       "    border: 1px solid black;\n",
       "    border-collapse: collapse;\n",
       "  }\n",
       "  th, td {\n",
       "    padding: 5px;\n",
       "  }\n",
       "  th {\n",
       "    text-align: left;\n",
       "  }\n",
       "</style><div class='table-result-container'><table class='table-result'><thead style='background-color: white'><tr><th>match</th><th>team</th><th>player_name</th><th>player_id</th><th>player_position_value</th><th>player_position_info</th><th>player_rating</th><th>good_high_claim</th><th>touches</th><th>saves</th><th>total_pass</th><th>formation_place</th><th>accurate_pass</th><th>aerial_won</th><th>aerial_lost</th><th>fouls</th><th>total_scoring_att</th><th>total_tackle</th><th>won_contest</th><th>penalty_conceded</th><th>blocked_scoring_att</th><th>man_of_the_match</th><th>goals</th><th>att_pen_goal</th><th>goal_assist</th><th>six_yard_block</th><th>yellow_card</th><th>error_lead_to_goal</th><th>post_scoring_att</th><th>second_yellow</th><th>red_card</th><th>clearance_off_line</th><th>own_goals</th><th>last_man_tackle</th><th>att_pen_target</th><th>penalty_save</th><th>att_pen_miss</th><th>att_pen_post</th></tr></thead><tbody><tr><td>1190418</td><td>166</td><td>Jonas Lössl</td><td>131171</td><td>1</td><td>GK</td><td>6.61</td><td>2</td><td>39</td><td>4</td><td>28</td><td>1</td><td>11</td><td>null</td><td>null</td><td>null</td><td>null</td><td>null</td><td>null</td><td>null</td><td>null</td><td>null</td><td>null</td><td>null</td><td>null</td><td>null</td><td>null</td><td>null</td><td>null</td><td>null</td><td>null</td><td>null</td><td>null</td><td>null</td><td>null</td><td>null</td><td>null</td><td>null</td></tr><tr><td>1190418</td><td>166</td><td>Terence Kongolo</td><td>109117</td><td>2</td><td>DC</td><td>6.19</td><td>null</td><td>30</td><td>null</td><td>20</td><td>4</td><td>16</td><td>1</td><td>null</td><td>null</td><td>null</td><td>null</td><td>null</td><td>null</td><td>null</td><td>null</td><td>null</td><td>null</td><td>null</td><td>null</td><td>null</td><td>null</td><td>null</td><td>null</td><td>null</td><td>null</td><td>null</td><td>null</td><td>null</td><td>null</td><td>null</td><td>null</td></tr><tr><td>1190418</td><td>166</td><td>Chris Löwe</td><td>101664</td><td>2</td><td>DL</td><td>5.96</td><td>null</td><td>38</td><td>null</td><td>15</td><td>3</td><td>6</td><td>1</td><td>1</td><td>1</td><td>1</td><td>null</td><td>null</td><td>null</td><td>null</td><td>null</td><td>null</td><td>null</td><td>null</td><td>null</td><td>null</td><td>null</td><td>null</td><td>null</td><td>null</td><td>null</td><td>null</td><td>null</td><td>null</td><td>null</td><td>null</td><td>null</td></tr><tr><td>1190418</td><td>166</td><td>Zanka</td><td>29026</td><td>2</td><td>DC</td><td>6.65</td><td>null</td><td>44</td><td>null</td><td>28</td><td>6</td><td>27</td><td>1</td><td>null</td><td>1</td><td>null</td><td>3</td><td>null</td><td>null</td><td>null</td><td>null</td><td>null</td><td>null</td><td>null</td><td>null</td><td>null</td><td>null</td><td>null</td><td>null</td><td>null</td><td>null</td><td>null</td><td>null</td><td>null</td><td>null</td><td>null</td><td>null</td></tr><tr><td>1190418</td><td>166</td><td>Christopher Schindler</td><td>132360</td><td>2</td><td>DC</td><td>6.58</td><td>null</td><td>46</td><td>null</td><td>27</td><td>5</td><td>21</td><td>4</td><td>null</td><td>null</td><td>null</td><td>2</td><td>null</td><td>null</td><td>null</td><td>null</td><td>null</td><td>null</td><td>null</td><td>null</td><td>null</td><td>null</td><td>null</td><td>null</td><td>null</td><td>null</td><td>null</td><td>null</td><td>null</td><td>null</td><td>null</td><td>null</td></tr></tbody></table></div>"
      ]
     },
     "metadata": {
      "application/vnd.databricks.v1+output": {
       "addedWidgets": {},
       "aggData": [],
       "aggError": "",
       "aggOverflow": false,
       "aggSchema": [],
       "aggSeriesLimitReached": false,
       "aggType": "",
       "arguments": {},
       "columnCustomDisplayInfos": {},
       "data": [
        [
         1190418,
         166,
         "Jonas Lössl",
         131171,
         1,
         "GK",
         6.61,
         2,
         39,
         4,
         28,
         1,
         11,
         null,
         null,
         null,
         null,
         null,
         null,
         null,
         null,
         null,
         null,
         null,
         null,
         null,
         null,
         null,
         null,
         null,
         null,
         null,
         null,
         null,
         null,
         null,
         null,
         null
        ],
        [
         1190418,
         166,
         "Terence Kongolo",
         109117,
         2,
         "DC",
         6.19,
         null,
         30,
         null,
         20,
         4,
         16,
         1,
         null,
         null,
         null,
         null,
         null,
         null,
         null,
         null,
         null,
         null,
         null,
         null,
         null,
         null,
         null,
         null,
         null,
         null,
         null,
         null,
         null,
         null,
         null,
         null
        ],
        [
         1190418,
         166,
         "Chris Löwe",
         101664,
         2,
         "DL",
         5.96,
         null,
         38,
         null,
         15,
         3,
         6,
         1,
         1,
         1,
         1,
         null,
         null,
         null,
         null,
         null,
         null,
         null,
         null,
         null,
         null,
         null,
         null,
         null,
         null,
         null,
         null,
         null,
         null,
         null,
         null,
         null
        ],
        [
         1190418,
         166,
         "Zanka",
         29026,
         2,
         "DC",
         6.65,
         null,
         44,
         null,
         28,
         6,
         27,
         1,
         null,
         1,
         null,
         3,
         null,
         null,
         null,
         null,
         null,
         null,
         null,
         null,
         null,
         null,
         null,
         null,
         null,
         null,
         null,
         null,
         null,
         null,
         null,
         null
        ],
        [
         1190418,
         166,
         "Christopher Schindler",
         132360,
         2,
         "DC",
         6.58,
         null,
         46,
         null,
         27,
         5,
         21,
         4,
         null,
         null,
         null,
         2,
         null,
         null,
         null,
         null,
         null,
         null,
         null,
         null,
         null,
         null,
         null,
         null,
         null,
         null,
         null,
         null,
         null,
         null,
         null,
         null
        ]
       ],
       "datasetInfos": [],
       "dbfsResultPath": null,
       "isJsonSchema": true,
       "metadata": {},
       "overflow": false,
       "plotOptions": {
        "customPlotOptions": {},
        "displayType": "table",
        "pivotAggregation": null,
        "pivotColumns": null,
        "xColumns": null,
        "yColumns": null
       },
       "removedWidgets": [],
       "schema": [
        {
         "metadata": "{}",
         "name": "match",
         "type": "\"integer\""
        },
        {
         "metadata": "{}",
         "name": "team",
         "type": "\"integer\""
        },
        {
         "metadata": "{}",
         "name": "player_name",
         "type": "\"string\""
        },
        {
         "metadata": "{}",
         "name": "player_id",
         "type": "\"integer\""
        },
        {
         "metadata": "{}",
         "name": "player_position_value",
         "type": "\"integer\""
        },
        {
         "metadata": "{}",
         "name": "player_position_info",
         "type": "\"string\""
        },
        {
         "metadata": "{}",
         "name": "player_rating",
         "type": "\"double\""
        },
        {
         "metadata": "{}",
         "name": "good_high_claim",
         "type": "\"integer\""
        },
        {
         "metadata": "{}",
         "name": "touches",
         "type": "\"integer\""
        },
        {
         "metadata": "{}",
         "name": "saves",
         "type": "\"integer\""
        },
        {
         "metadata": "{}",
         "name": "total_pass",
         "type": "\"integer\""
        },
        {
         "metadata": "{}",
         "name": "formation_place",
         "type": "\"integer\""
        },
        {
         "metadata": "{}",
         "name": "accurate_pass",
         "type": "\"integer\""
        },
        {
         "metadata": "{}",
         "name": "aerial_won",
         "type": "\"integer\""
        },
        {
         "metadata": "{}",
         "name": "aerial_lost",
         "type": "\"integer\""
        },
        {
         "metadata": "{}",
         "name": "fouls",
         "type": "\"integer\""
        },
        {
         "metadata": "{}",
         "name": "total_scoring_att",
         "type": "\"integer\""
        },
        {
         "metadata": "{}",
         "name": "total_tackle",
         "type": "\"integer\""
        },
        {
         "metadata": "{}",
         "name": "won_contest",
         "type": "\"integer\""
        },
        {
         "metadata": "{}",
         "name": "penalty_conceded",
         "type": "\"integer\""
        },
        {
         "metadata": "{}",
         "name": "blocked_scoring_att",
         "type": "\"integer\""
        },
        {
         "metadata": "{}",
         "name": "man_of_the_match",
         "type": "\"integer\""
        },
        {
         "metadata": "{}",
         "name": "goals",
         "type": "\"integer\""
        },
        {
         "metadata": "{}",
         "name": "att_pen_goal",
         "type": "\"integer\""
        },
        {
         "metadata": "{}",
         "name": "goal_assist",
         "type": "\"integer\""
        },
        {
         "metadata": "{}",
         "name": "six_yard_block",
         "type": "\"integer\""
        },
        {
         "metadata": "{}",
         "name": "yellow_card",
         "type": "\"integer\""
        },
        {
         "metadata": "{}",
         "name": "error_lead_to_goal",
         "type": "\"integer\""
        },
        {
         "metadata": "{}",
         "name": "post_scoring_att",
         "type": "\"integer\""
        },
        {
         "metadata": "{}",
         "name": "second_yellow",
         "type": "\"integer\""
        },
        {
         "metadata": "{}",
         "name": "red_card",
         "type": "\"integer\""
        },
        {
         "metadata": "{}",
         "name": "clearance_off_line",
         "type": "\"integer\""
        },
        {
         "metadata": "{}",
         "name": "own_goals",
         "type": "\"integer\""
        },
        {
         "metadata": "{}",
         "name": "last_man_tackle",
         "type": "\"integer\""
        },
        {
         "metadata": "{}",
         "name": "att_pen_target",
         "type": "\"integer\""
        },
        {
         "metadata": "{}",
         "name": "penalty_save",
         "type": "\"integer\""
        },
        {
         "metadata": "{}",
         "name": "att_pen_miss",
         "type": "\"integer\""
        },
        {
         "metadata": "{}",
         "name": "att_pen_post",
         "type": "\"integer\""
        }
       ],
       "type": "table"
      }
     },
     "output_type": "display_data"
    }
   ],
   "source": [
    "jug = (spark.read.option(\"header\",\"true\").option(\"inferSchema\",\"true\").csv(f\"{BASE}/jugadores.csv\"))\n",
    "res_futbol = (spark.read.option(\"header\",\"true\").option(\"inferSchema\",\"true\").csv(f\"{BASE}/resultados_futbol.csv\"))  \n",
    "equ_json = (spark.read.option(\"header\",\"true\").option(\"inferSchema\",\"true\").csv(f\"{BASE}/csv_out/TeamsJSON.csv\"))\n",
    "jug_json = (spark.read.option(\"header\",\"true\").option(\"inferSchema\",\"true\").csv(f\"{BASE}/csv_out/JugadoresJSON.csv\"))\n",
    "\n",
    "display(jug.limit(5))\n",
    "display(res_futbol.limit(5))\n",
    "display(equ_json.limit(5))\n",
    "display(jug_json.limit(5))"
   ]
  },
  {
   "cell_type": "markdown",
   "metadata": {
    "application/vnd.databricks.v1+cell": {
     "cellMetadata": {},
     "inputWidgets": {},
     "nuid": "3ea672f1-f2dd-4609-a591-ea722a7b1670",
     "showTitle": false,
     "tableResultSettingsMap": {},
     "title": ""
    }
   },
   "source": [
    "Revisamos De cada archivo la cantidad de datos, el promedio, desviacion estandar, minimos y maximos."
   ]
  },
  {
   "cell_type": "code",
   "execution_count": 0,
   "metadata": {
    "application/vnd.databricks.v1+cell": {
     "cellMetadata": {
      "byteLimit": 2048000,
      "rowLimit": 10000
     },
     "inputWidgets": {},
     "nuid": "0eec65ab-7fbe-4216-8372-a773ef43d516",
     "showTitle": false,
     "tableResultSettingsMap": {},
     "title": ""
    }
   },
   "outputs": [
    {
     "output_type": "stream",
     "name": "stdout",
     "output_type": "stream",
     "text": [
      "+-------+------------------+\n|summary|              name|\n+-------+------------------+\n|  count|               461|\n|   mean|              NULL|\n| stddev|              NULL|\n|    min|   Aaron Cresswell|\n|    max|Åukasz FabiaÅ„ski|\n+-------+------------------+\n\n+-------+--------+\n|summary|    club|\n+-------+--------+\n|  count|     461|\n|   mean|    NULL|\n| stddev|    NULL|\n|    min| Arsenal|\n|    max|West+Ham|\n+-------+--------+\n\n+-------+-----------------+\n|summary|              age|\n+-------+-----------------+\n|  count|              461|\n|   mean|26.80477223427332|\n| stddev| 3.96189170370961|\n|    min|               17|\n|    max|               38|\n+-------+-----------------+\n\n+-------+--------+\n|summary|position|\n+-------+--------+\n|  count|     461|\n|   mean|    NULL|\n| stddev|    NULL|\n|    min|      AM|\n|    max|      SS|\n+-------+--------+\n\n+-------+------------------+\n|summary|      position_cat|\n+-------+------------------+\n|  count|               461|\n|   mean| 2.180043383947939|\n| stddev|1.0000613015257596|\n|    min|                 1|\n|    max|                 4|\n+-------+------------------+\n\n+-------+------------------+\n|summary|      market_value|\n+-------+------------------+\n|  count|               461|\n|   mean|11.012039045553143|\n| stddev|12.257402881461948|\n|    min|              0.05|\n|    max|              75.0|\n+-------+------------------+\n\n+-------+-----------------+\n|summary|       page_views|\n+-------+-----------------+\n|  count|              461|\n|   mean|763.7765726681127|\n| stddev|931.8057574070485|\n|    min|                3|\n|    max|             7664|\n+-------+-----------------+\n\n+-------+------------------+\n|summary|         fpl_value|\n+-------+------------------+\n|  count|               461|\n|   mean| 5.447939262472885|\n| stddev|1.3466952645024666|\n|    min|               4.0|\n|    max|              12.5|\n+-------+------------------+\n\n+-------+-------+\n|summary|fpl_sel|\n+-------+-------+\n|  count|    461|\n|   mean|   NULL|\n| stddev|   NULL|\n|    min|  0.00%|\n|    max|  9.70%|\n+-------+-------+\n\n+-------+------------------+\n|summary|        fpl_points|\n+-------+------------------+\n|  count|               461|\n|   mean| 57.31453362255965|\n| stddev|53.113811202817494|\n|    min|                 0|\n|    max|               264|\n+-------+------------------+\n\n+-------+------------------+\n|summary|            region|\n+-------+------------------+\n|  count|               461|\n|   mean|1.9934782608695651|\n| stddev|0.9576892519132122|\n|    min|                 1|\n|    max|                NA|\n+-------+------------------+\n\n+-------+-----------+\n|summary|nationality|\n+-------+-----------+\n|  count|        461|\n|   mean|       NULL|\n| stddev|       NULL|\n|    min|    Algeria|\n|    max|      Wales|\n+-------+-----------+\n\n+-------+-------------------+\n|summary|        new_foreign|\n+-------+-------------------+\n|  count|                461|\n|   mean|0.03470715835140998|\n| stddev|0.18323592220898424|\n|    min|                  0|\n|    max|                  1|\n+-------+-------------------+\n\n+-------+------------------+\n|summary|           age_cat|\n+-------+------------------+\n|  count|               461|\n|   mean|3.2060737527114966|\n| stddev|1.2797953245771687|\n|    min|                 1|\n|    max|                 6|\n+-------+------------------+\n\n+-------+-----------------+\n|summary|          club_id|\n+-------+-----------------+\n|  count|              461|\n|   mean|10.33405639913232|\n| stddev|5.726474618238882|\n|    min|                1|\n|    max|               20|\n+-------+-----------------+\n\n+-------+------------------+\n|summary|          big_club|\n+-------+------------------+\n|  count|               461|\n|   mean|0.3036876355748373|\n| stddev|0.4603489485056597|\n|    min|                 0|\n|    max|                 1|\n+-------+------------------+\n\n+-------+-------------------+\n|summary|        new_signing|\n+-------+-------------------+\n|  count|                461|\n|   mean|0.14533622559652928|\n| stddev|0.35282238691244044|\n|    min|                  0|\n|    max|                  1|\n+-------+-------------------+\n\n"
     ]
    }
   ],
   "source": [
    "for value in jug.columns:\n",
    "    jug.describe([value]).show()\n"
   ]
  },
  {
   "cell_type": "code",
   "execution_count": 0,
   "metadata": {
    "application/vnd.databricks.v1+cell": {
     "cellMetadata": {
      "byteLimit": 2048000,
      "rowLimit": 10000
     },
     "inputWidgets": {},
     "nuid": "c1610a3f-f7a0-4011-9e06-e08a4556068e",
     "showTitle": false,
     "tableResultSettingsMap": {},
     "title": ""
    }
   },
   "outputs": [
    {
     "output_type": "stream",
     "name": "stdout",
     "output_type": "stream",
     "text": [
      "+-------+-------+\n|summary| Season|\n+-------+-------+\n|  count|  11113|\n|   mean|   NULL|\n| stddev|   NULL|\n|    min|1993-94|\n|    max|2021-22|\n+-------+-------+\n\n+-------+\n|summary|\n+-------+\n|  count|\n|   mean|\n| stddev|\n|    min|\n|    max|\n+-------+\n\n+-------+--------+\n|summary|HomeTeam|\n+-------+--------+\n|  count|   11113|\n|   mean|    NULL|\n| stddev|    NULL|\n|    min| Arsenal|\n|    max|  Wolves|\n+-------+--------+\n\n+-------+--------+\n|summary|AwayTeam|\n+-------+--------+\n|  count|   11113|\n|   mean|    NULL|\n| stddev|    NULL|\n|    min| Arsenal|\n|    max|  Wolves|\n+-------+--------+\n\n+-------+------------------+\n|summary|              FTHG|\n+-------+------------------+\n|  count|             11113|\n|   mean| 1.518221902276613|\n| stddev|1.3019811033373492|\n|    min|                 0|\n|    max|                 9|\n+-------+------------------+\n\n+-------+-----------------+\n|summary|             FTAG|\n+-------+-----------------+\n|  count|            11113|\n|   mean|1.141455952488077|\n| stddev|1.135906505463745|\n|    min|                0|\n|    max|                9|\n+-------+-----------------+\n\n+-------+-----+\n|summary|  FTR|\n+-------+-----+\n|  count|11113|\n|   mean| NULL|\n| stddev| NULL|\n|    min|    A|\n|    max|    H|\n+-------+-----+\n\n+-------+------------------+\n|summary|              HTHG|\n+-------+------------------+\n|  count|             11113|\n|   mean|0.6847580724310531|\n| stddev|0.8362987830668839|\n|    min|                 0|\n|    max|                NA|\n+-------+------------------+\n\n+-------+------------------+\n|summary|              HTAG|\n+-------+------------------+\n|  count|             11113|\n|   mean|0.5010305231131612|\n| stddev|0.7222988740662447|\n|    min|                 0|\n|    max|                NA|\n+-------+------------------+\n\n+-------+-----+\n|summary|  HTR|\n+-------+-----+\n|  count|11113|\n|   mean| NULL|\n| stddev| NULL|\n|    min|    A|\n|    max|   NA|\n+-------+-----+\n\n+-------+---------+\n|summary|  Referee|\n+-------+---------+\n|  count|    11113|\n|   mean|     NULL|\n| stddev|     NULL|\n|    min| A D'Urso|\n|    max|�U Rennie|\n+-------+---------+\n\n+-------+------------------+\n|summary|                HS|\n+-------+------------------+\n|  count|             11113|\n|   mean| 13.50392085896972|\n| stddev|5.2586356005941655|\n|    min|                 0|\n|    max|                NA|\n+-------+------------------+\n\n+-------+------------------+\n|summary|                AS|\n+-------+------------------+\n|  count|             11113|\n|   mean|10.644589214621789|\n| stddev| 4.583009580288469|\n|    min|                 0|\n|    max|                NA|\n+-------+------------------+\n\n+-------+------------------+\n|summary|               HST|\n+-------+------------------+\n|  count|             11113|\n|   mean|6.1172638436482085|\n| stddev| 3.327521026304535|\n|    min|                 0|\n|    max|                NA|\n+-------+------------------+\n\n+-------+-----------------+\n|summary|              AST|\n+-------+-----------------+\n|  count|            11113|\n|   mean|4.768247074435999|\n| stddev|2.792964708285224|\n|    min|                0|\n|    max|               NA|\n+-------+-----------------+\n\n+-------+-----------------+\n|summary|               HC|\n+-------+-----------------+\n|  count|            11113|\n|   mean|6.081795150199059|\n| stddev|3.095069852977078|\n|    min|                0|\n|    max|               NA|\n+-------+-----------------+\n\n+-------+------------------+\n|summary|                AC|\n+-------+------------------+\n|  count|             11113|\n|   mean| 4.784292435758234|\n| stddev|2.7289541039276526|\n|    min|                 0|\n|    max|                NA|\n+-------+------------------+\n\n+-------+------------------+\n|summary|                HF|\n+-------+------------------+\n|  count|             11113|\n|   mean|11.379056581010978|\n| stddev|3.7849561908442166|\n|    min|                 0|\n|    max|                NA|\n+-------+------------------+\n\n+-------+------------------+\n|summary|                AF|\n+-------+------------------+\n|  count|             11113|\n|   mean|11.873446736638918|\n| stddev| 3.957426758340224|\n|    min|                 1|\n|    max|                NA|\n+-------+------------------+\n\n+-------+------------------+\n|summary|                HY|\n+-------+------------------+\n|  count|             11113|\n|   mean|1.4158523344191096|\n| stddev| 1.189133808161839|\n|    min|                 0|\n|    max|                NA|\n+-------+------------------+\n\n+-------+------------------+\n|summary|                AY|\n+-------+------------------+\n|  count|             11113|\n|   mean|1.7465315478344794|\n| stddev|1.2674678522611467|\n|    min|                 0|\n|    max|                NA|\n+-------+------------------+\n\n+-------+-------------------+\n|summary|                 HR|\n+-------+-------------------+\n|  count|              11113|\n|   mean|0.06285438532995537|\n| stddev|0.25341605906430803|\n|    min|                  0|\n|    max|                 NA|\n+-------+-------------------+\n\n+-------+-------------------+\n|summary|                 AR|\n+-------+-------------------+\n|  count|              11113|\n|   mean|0.08939558450959102|\n| stddev| 0.2973413953534461|\n|    min|                  0|\n|    max|                 NA|\n+-------+-------------------+\n\n"
     ]
    }
   ],
   "source": [
    "for value in res_futbol.columns:\n",
    "    res_futbol.describe([value]).show()"
   ]
  },
  {
   "cell_type": "code",
   "execution_count": 0,
   "metadata": {
    "application/vnd.databricks.v1+cell": {
     "cellMetadata": {
      "byteLimit": 2048000,
      "rowLimit": 10000
     },
     "inputWidgets": {},
     "nuid": "99930ae2-2868-4862-aa22-8228152117e1",
     "showTitle": false,
     "tableResultSettingsMap": {},
     "title": ""
    }
   },
   "outputs": [
    {
     "output_type": "stream",
     "name": "stdout",
     "output_type": "stream",
     "text": [
      "+-------+------------------+\n|summary|          match_id|\n+-------+------------------+\n|  count|               760|\n|   mean|         1190363.5|\n| stddev|109.76841114055298|\n|    min|           1190174|\n|    max|           1190553|\n+-------+------------------+\n\n+-------+-----------------+\n|summary|          team_id|\n+-------+-----------------+\n|  count|              760|\n|   mean|            93.05|\n| stddev|81.87226224691857|\n|    min|               13|\n|    max|              259|\n+-------+-----------------+\n\n+-------+---------+\n|summary|team_name|\n+-------+---------+\n|  count|      760|\n|   mean|     NULL|\n| stddev|     NULL|\n|    min|  Arsenal|\n|    max| West Ham|\n+-------+---------+\n\n+-------+----+\n|summary|team|\n+-------+----+\n|  count| 760|\n|   mean|NULL|\n| stddev|NULL|\n|    min|   L|\n|    max|   V|\n+-------+----+\n\n+-------+-------------------+\n|summary|        team_rating|\n+-------+-------------------+\n|  count|                760|\n|   mean|  6.779921467786607|\n| stddev|0.37768330317817034|\n|    min|   5.75714285714286|\n|    max|   7.92785714285714|\n+-------+-------------------+\n\n+-------+\n|summary|\n+-------+\n|  count|\n|   mean|\n| stddev|\n|    min|\n|    max|\n+-------+\n\n+-------+-----------------+\n|summary|      won_corners|\n+-------+-----------------+\n|  count|              744|\n|   mean|5.272849462365591|\n| stddev|2.880671083942494|\n|    min|                1|\n|    max|               18|\n+-------+-----------------+\n\n+-------+------------------+\n|summary| att_sv_low_centre|\n+-------+------------------+\n|  count|               491|\n|   mean|1.7515274949083504|\n| stddev|0.9955885905279512|\n|    min|                 1|\n|    max|                 6|\n+-------+------------------+\n\n+-------+-----------------+\n|summary|      won_contest|\n+-------+-----------------+\n|  count|              760|\n|   mean|9.777631578947368|\n| stddev|4.504048791505372|\n|    min|                1|\n|    max|               28|\n+-------+-----------------+\n\n+-------+-----------------+\n|summary|     total_tackle|\n+-------+-----------------+\n|  count|              760|\n|   mean|16.38684210526316|\n| stddev|5.028020093634564|\n|    min|                4|\n|    max|               34|\n+-------+-----------------+\n\n+-------+------------------+\n|summary|       aerial_lost|\n+-------+------------------+\n|  count|               760|\n|   mean|19.685526315789474|\n| stddev|  7.74595315222475|\n|    min|                 3|\n|    max|                63|\n+-------+------------------+\n\n+-------+---------------------+\n|summary|possession_percentage|\n+-------+---------------------+\n|  count|                  760|\n|   mean|                 50.0|\n| stddev|   13.497172885064778|\n|    min|                 17.1|\n|    max|                 82.9|\n+-------+---------------------+\n\n+-------+------------------+\n|summary|     accurate_pass|\n+-------+------------------+\n|  count|               760|\n|   mean|357.14736842105265|\n| stddev|148.08711557967257|\n|    min|                88|\n|    max|               942|\n+-------+------------------+\n\n+-------+------------------+\n|summary|        total_pass|\n+-------+------------------+\n|  count|               760|\n|   mean|            453.15|\n| stddev|145.27698727019038|\n|    min|               169|\n|    max|              1015|\n+-------+------------------+\n\n+-------+-----------------+\n|summary|     total_throws|\n+-------+-----------------+\n|  count|              760|\n|   mean|22.49736842105263|\n| stddev|6.445678019741574|\n|    min|                6|\n|    max|               43|\n+-------+-----------------+\n\n+-------+------------------+\n|summary|   shot_off_target|\n+-------+------------------+\n|  count|               749|\n|   mean|4.7930574098798395|\n| stddev|2.5445033288541747|\n|    min|                 1|\n|    max|                16|\n+-------+------------------+\n\n+-------+------------------+\n|summary|     total_offside|\n+-------+------------------+\n|  count|               626|\n|   mean|2.5047923322683707|\n| stddev| 1.592223915410491|\n|    min|                 1|\n|    max|                10|\n+-------+------------------+\n\n+-------+-------------------+\n|summary|blocked_scoring_att|\n+-------+-------------------+\n|  count|                691|\n|   mean| 3.6439942112879886|\n| stddev| 2.3763394623971825|\n|    min|                  1|\n|    max|                 17|\n+-------+-------------------+\n\n+-------+--------------------+\n|summary|ontarget_scoring_att|\n+-------+--------------------+\n|  count|                 733|\n|   mean|  4.3506139154160985|\n| stddev|   2.475809803970111|\n|    min|                   1|\n|    max|                  16|\n+-------+--------------------+\n\n+-------+------------------+\n|summary|        aerial_won|\n+-------+------------------+\n|  count|               760|\n|   mean|19.688157894736843|\n| stddev| 7.746059682667544|\n|    min|                 3|\n|    max|                63|\n+-------+------------------+\n\n+-------+------------------+\n|summary|     att_miss_left|\n+-------+------------------+\n|  count|               550|\n|   mean|1.8381818181818181|\n| stddev| 1.035436060669317|\n|    min|                 1|\n|    max|                 6|\n+-------+------------------+\n\n+-------+-----------------+\n|summary|total_scoring_att|\n+-------+-----------------+\n|  count|              759|\n|   mean|12.24901185770751|\n| stddev|5.505326847015655|\n|    min|                1|\n|    max|               35|\n+-------+-----------------+\n\n+-------+------------------+\n|summary|      fk_foul_lost|\n+-------+------------------+\n|  count|               760|\n|   mean|10.353947368421053|\n| stddev| 3.298458169355258|\n|    min|                 2|\n|    max|                26|\n+-------+------------------+\n\n+-------+------------------+\n|summary|    att_miss_right|\n+-------+------------------+\n|  count|               545|\n|   mean|1.8623853211009174|\n| stddev|1.1086880321917911|\n|    min|                 1|\n|    max|                 7|\n+-------+------------------+\n\n+-------+------------------+\n|summary| att_goal_low_left|\n+-------+------------------+\n|  count|               234|\n|   mean|1.2435897435897436|\n| stddev|0.5446398369540723|\n|    min|                 1|\n|    max|                 4|\n+-------+------------------+\n\n+-------+------------------+\n|summary|att_goal_low_right|\n+-------+------------------+\n|  count|               232|\n|   mean|1.2198275862068966|\n| stddev|0.5254921136294899|\n|    min|                 1|\n|    max|                 4|\n+-------+------------------+\n\n+-------+------------------+\n|summary|   att_sv_low_left|\n+-------+------------------+\n|  count|               341|\n|   mean|1.3695014662756597|\n| stddev|0.6975647034068017|\n|    min|                 1|\n|    max|                 5|\n+-------+------------------+\n\n+-------+------------------+\n|summary|             goals|\n+-------+------------------+\n|  count|               534|\n|   mean|1.9063670411985019|\n| stddev| 1.110514604492713|\n|    min|                 1|\n|    max|                 7|\n+-------+------------------+\n\n+-------+-------------------+\n|summary|       att_pen_goal|\n+-------+-------------------+\n|  count|                 54|\n|   mean|  1.037037037037037|\n| stddev|0.19062587709298623|\n|    min|                  1|\n|    max|                  2|\n+-------+-------------------+\n\n+-------+------------------+\n|summary|att_sv_high_centre|\n+-------+------------------+\n|  count|               173|\n|   mean| 1.138728323699422|\n| stddev|0.3630500656679131|\n|    min|                 1|\n|    max|                 3|\n+-------+------------------+\n\n+-------+-------------------+\n|summary|att_goal_low_centre|\n+-------+-------------------+\n|  count|                156|\n|   mean| 1.1666666666666667|\n| stddev| 0.4374903992802197|\n|    min|                  1|\n|    max|                  3|\n+-------+-------------------+\n\n+-------+------------------+\n|summary|     att_miss_high|\n+-------+------------------+\n|  count|               470|\n|   mean|1.6851063829787234|\n| stddev| 0.945639464694295|\n|    min|                 1|\n|    max|                 8|\n+-------+------------------+\n\n+-------+-------------+\n|summary|att_post_left|\n+-------+-------------+\n|  count|           42|\n|   mean|          1.0|\n| stddev|          0.0|\n|    min|            1|\n|    max|            1|\n+-------+-------------+\n\n+-------+------------------+\n|summary|  post_scoring_att|\n+-------+------------------+\n|  count|               139|\n|   mean| 1.064748201438849|\n| stddev|0.2747497700418442|\n|    min|                 1|\n|    max|                 3|\n+-------+------------------+\n\n+-------+-------------------+\n|summary|att_miss_high_right|\n+-------+-------------------+\n|  count|                269|\n|   mean| 1.2565055762081785|\n| stddev| 0.5157993189882962|\n|    min|                  1|\n|    max|                  3|\n+-------+-------------------+\n\n+-------+-------------------+\n|summary|  att_sv_high_right|\n+-------+-------------------+\n|  count|                 96|\n|   mean| 1.0520833333333333|\n| stddev|0.22336148028967037|\n|    min|                  1|\n|    max|                  2|\n+-------+-------------------+\n\n+-------+------------------+\n|summary|  att_sv_low_right|\n+-------+------------------+\n|  count|               325|\n|   mean|1.4184615384615384|\n| stddev|0.6873846272873434|\n|    min|                 1|\n|    max|                 5|\n+-------+------------------+\n\n+-------+-------------------+\n|summary|   att_sv_high_left|\n+-------+-------------------+\n|  count|                110|\n|   mean| 1.0454545454545454|\n| stddev|0.20925221322752416|\n|    min|                  1|\n|    max|                  2|\n+-------+-------------------+\n\n+-------+------------------+\n|summary|att_miss_high_left|\n+-------+------------------+\n|  count|               242|\n|   mean|1.1818181818181819|\n| stddev|0.4462848019833606|\n|    min|                 1|\n|    max|                 3|\n+-------+------------------+\n\n+-------+-------------------+\n|summary|att_goal_high_right|\n+-------+-------------------+\n|  count|                 83|\n|   mean| 1.0120481927710843|\n| stddev|0.10976425998969035|\n|    min|                  1|\n|    max|                  2|\n+-------+-------------------+\n\n+-------+------------------+\n|summary|att_goal_high_left|\n+-------+------------------+\n|  count|                72|\n|   mean|1.0555555555555556|\n| stddev|0.2306688919537695|\n|    min|                 1|\n|    max|                 2|\n+-------+------------------+\n\n+-------+-------------------+\n|summary|     att_post_right|\n+-------+-------------------+\n|  count|                 39|\n|   mean| 1.0512820512820513|\n| stddev|0.22345586503095902|\n|    min|                  1|\n|    max|                  2|\n+-------+-------------------+\n\n+-------+--------------------+\n|summary|att_goal_high_centre|\n+-------+--------------------+\n|  count|                  69|\n|   mean|  1.0434782608695652|\n| stddev| 0.20542514084466046|\n|    min|                   1|\n|    max|                   2|\n+-------+--------------------+\n\n+-------+------------+\n|summary|penalty_save|\n+-------+------------+\n|  count|          21|\n|   mean|         1.0|\n| stddev|         0.0|\n|    min|           1|\n|    max|           1|\n+-------+------------+\n\n+-------+-------------+\n|summary|att_post_high|\n+-------+-------------+\n|  count|           64|\n|   mean|     1.015625|\n| stddev|        0.125|\n|    min|            1|\n|    max|            2|\n+-------+-------------+\n\n"
     ]
    }
   ],
   "source": [
    "for value in equ_json.columns:\n",
    "    equ_json.describe([value]).show()"
   ]
  },
  {
   "cell_type": "code",
   "execution_count": 0,
   "metadata": {
    "application/vnd.databricks.v1+cell": {
     "cellMetadata": {
      "byteLimit": 2048000,
      "rowLimit": 10000
     },
     "inputWidgets": {},
     "nuid": "acf90526-40c4-41ff-83a1-c63ec50a1213",
     "showTitle": false,
     "tableResultSettingsMap": {},
     "title": ""
    }
   },
   "outputs": [
    {
     "output_type": "stream",
     "name": "stdout",
     "output_type": "stream",
     "text": [
      "+-------+------------------+\n|summary|             match|\n+-------+------------------+\n|  count|             13675|\n|   mean| 1190363.506252285|\n| stddev|109.71307940913249|\n|    min|           1190174|\n|    max|           1190553|\n+-------+------------------+\n\n+-------+-----------------+\n|summary|             team|\n+-------+-----------------+\n|  count|            13675|\n|   mean|93.04387568555758|\n| stddev|81.82597092854478|\n|    min|               13|\n|    max|              259|\n+-------+-----------------+\n\n+-------+---------------+\n|summary|    player_name|\n+-------+---------------+\n|  count|          13675|\n|   mean|           NULL|\n| stddev|           NULL|\n|    min|Aaron Cresswell|\n|    max|  Álvaro Morata|\n+-------+---------------+\n\n+-------+-----------------+\n|summary|        player_id|\n+-------+-----------------+\n|  count|            13675|\n|   mean|87801.52987202925|\n| stddev|81854.63725526667|\n|    min|              188|\n|    max|           357427|\n+-------+-----------------+\n\n+-------+---------------------+\n|summary|player_position_value|\n+-------+---------------------+\n|  count|                13675|\n|   mean|   3.5678976234003654|\n| stddev|    1.333453274278583|\n|    min|                    1|\n|    max|                    5|\n+-------+---------------------+\n\n+-------+--------------------+\n|summary|player_position_info|\n+-------+--------------------+\n|  count|               13675|\n|   mean|                NULL|\n| stddev|                NULL|\n|    min|                 AMC|\n|    max|                 Sub|\n+-------+--------------------+\n\n+-------+------------------+\n|summary|     player_rating|\n+-------+------------------+\n|  count|             13675|\n|   mean| 5.179246069469814|\n| stddev|2.9484223739436737|\n|    min|               0.0|\n|    max|              10.0|\n+-------+------------------+\n\n+-------+------------------+\n|summary|   good_high_claim|\n+-------+------------------+\n|  count|               345|\n|   mean|1.5942028985507246|\n| stddev|0.9041062749405753|\n|    min|                 1|\n|    max|                 6|\n+-------+------------------+\n\n+-------+------------------+\n|summary|           touches|\n+-------+------------------+\n|  count|             10399|\n|   mean| 47.38070968362342|\n| stddev|26.797624743597808|\n|    min|                 1|\n|    max|               186|\n+-------+------------------+\n\n+-------+------------------+\n|summary|             saves|\n+-------+------------------+\n|  count|               701|\n|   mean|3.0756062767475036|\n| stddev| 1.824825967174631|\n|    min|                 1|\n|    max|                14|\n+-------+------------------+\n\n+-------+------------------+\n|summary|        total_pass|\n+-------+------------------+\n|  count|             10349|\n|   mean|33.277997874190746|\n| stddev| 22.46386352109003|\n|    min|                 1|\n|    max|               174|\n+-------+------------------+\n\n+-------+------------------+\n|summary|   formation_place|\n+-------+------------------+\n|  count|             13675|\n|   mean|3.6680073126142596|\n| stddev| 3.829906575761368|\n|    min|                 0|\n|    max|                11|\n+-------+------------------+\n\n+-------+------------------+\n|summary|     accurate_pass|\n+-------+------------------+\n|  count|             10276|\n|   mean|26.414168937329702|\n| stddev| 20.52183288628066|\n|    min|                 1|\n|    max|               167|\n+-------+------------------+\n\n+-------+-----------------+\n|summary|       aerial_won|\n+-------+-----------------+\n|  count|             5839|\n|   mean|2.562596334988868|\n| stddev|2.134516698153725|\n|    min|                1|\n|    max|               21|\n+-------+-----------------+\n\n+-------+------------------+\n|summary|       aerial_lost|\n+-------+------------------+\n|  count|              6181|\n|   mean| 2.420482122633878|\n| stddev|1.9555814637522173|\n|    min|                 1|\n|    max|                24|\n+-------+------------------+\n\n+-------+------------------+\n|summary|             fouls|\n+-------+------------------+\n|  count|              5024|\n|   mean| 1.566281847133758|\n| stddev|0.8442198623412188|\n|    min|                 1|\n|    max|                 7|\n+-------+------------------+\n\n+-------+------------------+\n|summary| total_scoring_att|\n+-------+------------------+\n|  count|              4957|\n|   mean|1.8755295541658261|\n| stddev| 1.235260290487107|\n|    min|                 1|\n|    max|                10|\n+-------+------------------+\n\n+-------+------------------+\n|summary|      total_tackle|\n+-------+------------------+\n|  count|              5991|\n|   mean|2.0787848439325654|\n| stddev| 1.316190026523712|\n|    min|                 1|\n|    max|                10|\n+-------+------------------+\n\n+-------+------------------+\n|summary|       won_contest|\n+-------+------------------+\n|  count|              4056|\n|   mean|1.8321005917159763|\n| stddev|1.2898790796764918|\n|    min|                 1|\n|    max|                11|\n+-------+------------------+\n\n+-------+----------------+\n|summary|penalty_conceded|\n+-------+----------------+\n|  count|              80|\n|   mean|             1.0|\n| stddev|             0.0|\n|    min|               1|\n|    max|               1|\n+-------+----------------+\n\n+-------+-------------------+\n|summary|blocked_scoring_att|\n+-------+-------------------+\n|  count|               2004|\n|   mean| 1.2564870259481038|\n| stddev| 0.5749669154833921|\n|    min|                  1|\n|    max|                  6|\n+-------+-------------------+\n\n+-------+----------------+\n|summary|man_of_the_match|\n+-------+----------------+\n|  count|             380|\n|   mean|             1.0|\n| stddev|             0.0|\n|    min|               1|\n|    max|               1|\n+-------+----------------+\n\n+-------+------------------+\n|summary|             goals|\n+-------+------------------+\n|  count|               884|\n|   mean|1.1176470588235294|\n| stddev|0.3682850370249054|\n|    min|                 1|\n|    max|                 4|\n+-------+------------------+\n\n+-------+------------+\n|summary|att_pen_goal|\n+-------+------------+\n|  count|          56|\n|   mean|         1.0|\n| stddev|         0.0|\n|    min|           1|\n|    max|           1|\n+-------+------------+\n\n+-------+------------------+\n|summary|       goal_assist|\n+-------+------------------+\n|  count|               676|\n|   mean|1.0798816568047338|\n| stddev|0.2923376802731273|\n|    min|                 1|\n|    max|                 3|\n+-------+------------------+\n\n+-------+-------------------+\n|summary|     six_yard_block|\n+-------+-------------------+\n|  count|                212|\n|   mean| 1.0613207547169812|\n| stddev|0.25944554614705073|\n|    min|                  1|\n|    max|                  3|\n+-------+-------------------+\n\n+-------+-----------+\n|summary|yellow_card|\n+-------+-----------+\n|  count|       1163|\n|   mean|        1.0|\n| stddev|        0.0|\n|    min|          1|\n|    max|          1|\n+-------+-----------+\n\n+-------+-------------------+\n|summary| error_lead_to_goal|\n+-------+-------------------+\n|  count|                133|\n|   mean| 1.0225563909774436|\n| stddev|0.14904572277588302|\n|    min|                  1|\n|    max|                  2|\n+-------+-------------------+\n\n+-------+-------------------+\n|summary|   post_scoring_att|\n+-------+-------------------+\n|  count|                145|\n|   mean| 1.0206896551724138|\n| stddev|0.14283661593084146|\n|    min|                  1|\n|    max|                  2|\n+-------+-------------------+\n\n+-------+-------------+\n|summary|second_yellow|\n+-------+-------------+\n|  count|           18|\n|   mean|          1.0|\n| stddev|          0.0|\n|    min|            1|\n|    max|            1|\n+-------+-------------+\n\n+-------+--------+\n|summary|red_card|\n+-------+--------+\n|  count|      39|\n|   mean|     1.0|\n| stddev|     0.0|\n|    min|       1|\n|    max|       1|\n+-------+--------+\n\n+-------+-------------------+\n|summary| clearance_off_line|\n+-------+-------------------+\n|  count|                 77|\n|   mean| 1.0389610389610389|\n| stddev|0.19477101545677752|\n|    min|                  1|\n|    max|                  2|\n+-------+-------------------+\n\n+-------+---------+\n|summary|own_goals|\n+-------+---------+\n|  count|       30|\n|   mean|      1.0|\n| stddev|      0.0|\n|    min|        1|\n|    max|        1|\n+-------+---------+\n\n+-------+-------------------+\n|summary|    last_man_tackle|\n+-------+-------------------+\n|  count|                 54|\n|   mean| 1.0185185185185186|\n| stddev|0.13608276348795434|\n|    min|                  1|\n|    max|                  2|\n+-------+-------------------+\n\n+-------+--------------+\n|summary|att_pen_target|\n+-------+--------------+\n|  count|            21|\n|   mean|           1.0|\n| stddev|           0.0|\n|    min|             1|\n|    max|             1|\n+-------+--------------+\n\n+-------+------------+\n|summary|penalty_save|\n+-------+------------+\n|  count|          21|\n|   mean|         1.0|\n| stddev|         0.0|\n|    min|           1|\n|    max|           1|\n+-------+------------+\n\n+-------+------------+\n|summary|att_pen_miss|\n+-------+------------+\n|  count|           2|\n|   mean|         1.0|\n| stddev|         0.0|\n|    min|           1|\n|    max|           1|\n+-------+------------+\n\n+-------+------------+\n|summary|att_pen_post|\n+-------+------------+\n|  count|           1|\n|   mean|         1.0|\n| stddev|        NULL|\n|    min|           1|\n|    max|           1|\n+-------+------------+\n\n"
     ]
    }
   ],
   "source": [
    "for value in jug_json.columns:\n",
    "    jug_json.describe([value]).show()"
   ]
  },
  {
   "cell_type": "markdown",
   "metadata": {
    "application/vnd.databricks.v1+cell": {
     "cellMetadata": {
      "byteLimit": 2048000,
      "rowLimit": 10000
     },
     "inputWidgets": {},
     "nuid": "7484b782-a569-42a6-83f2-6f92cf766b75",
     "showTitle": false,
     "tableResultSettingsMap": {},
     "title": ""
    }
   },
   "source": [
    "### Glosario jugadores.csv\n",
    "- `name (string)`: nombre del jugador.\n",
    "- `club (string)`: club actual.\n",
    "- `age (int)`: edad del jugador (años).\n",
    "- `position (string)`: posición principal (p. ej., GK/DF/MF/FW).\n",
    "- `position_cat (int)`: categoría numérica de posición (definida por el dataset; p. ej., 1=GK, 2=DF, 3=MF, 4=FW).\n",
    "- `market_value (double)`: valor de mercado estimado (no es la tarifa de traspaso).\n",
    "- `page_views (int)`: vistas de página/popularidad (según la fuente del dataset).\n",
    "- `fpl_value (double)`: “valor” en Fantasy Premier League (p. ej., puntos/precio).\n",
    "- `fpl_sel (string)`: “Selected by %” — porcentaje de mánagers FPL que poseen al jugador (ej.: \"23.4\" o \"23.4%\").\n",
    "- `fpl_points (int)`: puntos FPL acumulados (según el sistema oficial).\n",
    "- `region (string)`: región del jugador en el dataset (ej.: \"Europe\").\n",
    "- `nationality (string)`: país/nacionalidad del jugador.\n",
    "- `new_foreign (int)`: indicador (0/1) de extranjero recién incorporado al club en la temporada (según reglas del dataset).\n",
    "- `age_cat (int)`: categoría/bins de edad (definida por el dataset; confirmar mapeo real).\n",
    "- `club_id (int)`: identificador del club en el proveedor/dataset.\n",
    "- `big_club (int)`: indicador (0/1) de “club grande” (criterio del dataset; ej., Big-6).\n",
    "- `new_signing (int)`: indicador (0/1) de fichaje reciente (aclarar si incluye cesiones).\n"
   ]
  },
  {
   "cell_type": "markdown",
   "metadata": {
    "application/vnd.databricks.v1+cell": {
     "cellMetadata": {
      "byteLimit": 2048000,
      "rowLimit": 10000
     },
     "inputWidgets": {},
     "nuid": "f5a09f6d-bdfc-47dd-ae94-68de14693942",
     "showTitle": false,
     "tableResultSettingsMap": {},
     "title": ""
    }
   },
   "source": [
    "### Glosario resultados_futbol.csv\n",
    "- `Season (string)`: temporada (p. ej., \"2018/2019\").\n",
    "- `DateTime (timestamp)`: fecha y hora del kickoff.\n",
    "- `HomeTeam (string)`: equipo local.\n",
    "- `AwayTeam (string)`: equipo visitante.\n",
    "- `FTHG (int)`: goles del local al final del partido.\n",
    "- `FTAG (int)`: goles del visitante al final del partido.\n",
    "- `FTR (string)`: resultado final — H (gana local), D (empate), A (gana visitante).\n",
    "- `HTHG (string/int)`: goles del local al descanso.\n",
    "- `HTAG (string/int)`: goles del visitante al descanso.\n",
    "- `HTR (string)`: resultado al descanso — H/D/A.\n",
    "- `Referee (string)`: árbitro principal.\n",
    "- `HS (string/int)`: tiros del equipo local.\n",
    "- `AS (string/int)`: tiros del equipo visitante.\n",
    "- `HST (string/int)`: tiros a puerta del local.\n",
    "- `AST (string/int)`: tiros a puerta del visitante.\n",
    "- `HC (string/int)`: córners del local.\n",
    "- `AC (string/int)`: córners del visitante.\n",
    "- `HF (string/int)`: faltas cometidas por el local.\n",
    "- `AF (string/int)`: faltas cometidas por el visitante.\n",
    "- `HY (string/int)`: amarillas del local.\n",
    "- `AY (string/int)`: amarillas del visitante.\n",
    "- `HR (string/int)`: rojas del local."
   ]
  },
  {
   "cell_type": "markdown",
   "metadata": {
    "application/vnd.databricks.v1+cell": {
     "cellMetadata": {
      "byteLimit": 2048000,
      "rowLimit": 10000
     },
     "inputWidgets": {},
     "nuid": "46c1907c-c914-413a-ad83-f747e3d4de23",
     "showTitle": false,
     "tableResultSettingsMap": {},
     "title": ""
    }
   },
   "source": [
    "### Glosario TeamsJSON.csv\n",
    "- `match_id (int)`: identificador único del partido.\n",
    "- `team_id (int)`: identificador del equipo (proveedor).\n",
    "- `team_name (string)`: nombre del equipo.\n",
    "- `team (string)`: condición en el partido — \"L\" local, \"V\" visitante.\n",
    "- `team_rating (double)`: calificación algorítmica del rendimiento del equipo.\n",
    "- `date (date)`: fecha del partido.\n",
    "- `won_corners (int)`: córners ganados por el equipo.\n",
    "- `att_sv_low_centre (int)`: tiros a puerta del rival parados por el portero, dirigidos a la zona baja–central.\n",
    "- `won_contest (int)`: duelos ganados (aéreos/terrestres según proveedor).\n",
    "- `total_tackle (int)`: entradas (tackles) realizadas.\n",
    "- `aerial_lost (int)`: duelos aéreos perdidos.\n",
    "- `possession_percentage (double)`: porcentaje de posesión (0–100).\n",
    "- `accurate_pass (int)`: pases completados por el equipo."
   ]
  },
  {
   "cell_type": "markdown",
   "metadata": {
    "application/vnd.databricks.v1+cell": {
     "cellMetadata": {
      "byteLimit": 2048000,
      "rowLimit": 10000
     },
     "inputWidgets": {},
     "nuid": "11a6e839-141e-49f7-a2a8-ef52715f1417",
     "showTitle": false,
     "tableResultSettingsMap": {},
     "title": ""
    }
   },
   "source": [
    "### Glosario JugadoresJSON.csv\n",
    "- `match (int)`: identificador del partido. \n",
    "- `team (int)`: identificador/código del equipo en ese partido.  \n",
    "- `player_name (string)`: nombre del jugador en el registro del partido.  \n",
    "- `player_id (int)`: identificador del jugador.  \n",
    "- `player_position_value (int)`: codificación numérica de la posición/rol en el partido.  \n",
    "- `player_position_info (string)`: texto descriptivo de la posición/rol en el partido.  \n",
    "- `player_rating (double)`: calificación algorítmica del rendimiento individual.  \n",
    "- `good_high_claim (int)`: **portero** – balones aéreos altos atrapados con éxito (no “punch”).  \n",
    "- `touches (int)`: toques de balón.  \n",
    "- `saves (int)`: **portero** – paradas (tiros a puerta detenidos).  \n",
    "- `total_pass (int)`: pases intentados.  \n",
    "- `formation_place (int)`: índice/posición dentro del once según el dibujo táctico.  \n",
    "- `accurate_pass (int)`: pases completados (acertados).  \n",
    "- `aerial_won (int)`: duelos aéreos ganados.  \n",
    "- `aerial_lost (int)`: duelos aéreos perdidos.  \n",
    "- `fouls (int)`: faltas cometidas.  \n",
    "- `total_scoring_att (int)`: tiros totales (attempts).  \n",
    "- `total_tackle (int)`: entradas realizadas.  \n",
    "- `won_contest (int)`: duelos ganados (incluye aéreos/terrestres según proveedor).  \n",
    "- `penalty_conceded (int)`: penaltis concedidos por el jugador.  \n",
    "- `blocked_scoring_att (int)`: tiros del rival bloqueados.  \n",
    "- `man_of_the_match (int)`: indicador del premio “Jugador del partido”."
   ]
  },
  {
   "cell_type": "markdown",
   "metadata": {
    "application/vnd.databricks.v1+cell": {
     "cellMetadata": {},
     "inputWidgets": {},
     "nuid": "81b8af98-3182-4602-9cc1-0c1c482e5006",
     "showTitle": false,
     "tableResultSettingsMap": {},
     "title": ""
    }
   },
   "source": [
    "Cargamos en SQL los CSV para poder realizar consultas"
   ]
  },
  {
   "cell_type": "code",
   "execution_count": 0,
   "metadata": {
    "application/vnd.databricks.v1+cell": {
     "cellMetadata": {
      "byteLimit": 2048000,
      "implicitDf": true,
      "rowLimit": 10000
     },
     "inputWidgets": {},
     "nuid": "2cfe0b44-d483-47ea-8c55-9e472ed4e0d2",
     "showTitle": false,
     "tableResultSettingsMap": {},
     "title": ""
    }
   },
   "outputs": [],
   "source": [
    "%sql\n",
    "CREATE OR REPLACE TEMP VIEW teams AS\n",
    "SELECT *\n",
    "FROM read_files(\n",
    "  '/Volumes/workspace/default/parcial/csv_out/TeamsJSON.csv',\n",
    "  format => 'csv', header => true, inferSchema => true, nullValue => ''\n",
    ");\n",
    "\n",
    "CREATE OR REPLACE TEMP VIEW players_match AS\n",
    "SELECT *\n",
    "FROM read_files(\n",
    "  '/Volumes/workspace/default/parcial/csv_out/JugadoresJSON.csv',\n",
    "  format => 'csv', header => true, inferSchema => true, nullValue => ''\n",
    ");\n",
    "\n",
    "CREATE OR REPLACE TEMP VIEW players AS\n",
    "SELECT *\n",
    "FROM read_files(\n",
    "  '/Volumes/workspace/default/parcial/jugadores.csv',\n",
    "  format => 'csv', header => true, inferSchema => true, nullValue => ''\n",
    ");\n",
    "\n",
    "CREATE OR REPLACE TEMP VIEW results AS\n",
    "SELECT *\n",
    "FROM read_files(\n",
    "  '/Volumes/workspace/default/parcial/resultados_futbol.csv',\n",
    "  format => 'csv', header => true, inferSchema => true, nullValue => ''\n",
    ");"
   ]
  },
  {
   "cell_type": "markdown",
   "metadata": {
    "application/vnd.databricks.v1+cell": {
     "cellMetadata": {},
     "inputWidgets": {},
     "nuid": "2be9eb26-662c-4579-bf24-662884e8869f",
     "showTitle": false,
     "tableResultSettingsMap": {},
     "title": ""
    }
   },
   "source": [
    "Miramos en todos los archivos el conteo de contenido quue sea igual a NULL"
   ]
  },
  {
   "cell_type": "code",
   "execution_count": 0,
   "metadata": {
    "application/vnd.databricks.v1+cell": {
     "cellMetadata": {
      "byteLimit": 2048000,
      "implicitDf": true,
      "rowLimit": 10000
     },
     "inputWidgets": {},
     "nuid": "4ede4ae1-a310-402c-bc36-e5c3aacac499",
     "showTitle": false,
     "tableResultSettingsMap": {},
     "title": ""
    }
   },
   "outputs": [
    {
     "output_type": "display_data",
     "data": {
      "text/html": [
       "<style scoped>\n",
       "  .table-result-container {\n",
       "    max-height: 300px;\n",
       "    overflow: auto;\n",
       "  }\n",
       "  table, th, td {\n",
       "    border: 1px solid black;\n",
       "    border-collapse: collapse;\n",
       "  }\n",
       "  th, td {\n",
       "    padding: 5px;\n",
       "  }\n",
       "  th {\n",
       "    text-align: left;\n",
       "  }\n",
       "</style><div class='table-result-container'><table class='table-result'><thead style='background-color: white'><tr><th>column_name</th><th>null_count</th></tr></thead><tbody><tr><td>match_id</td><td>0</td></tr><tr><td>team_id</td><td>0</td></tr><tr><td>team_name</td><td>0</td></tr><tr><td>team</td><td>0</td></tr><tr><td>team_rating</td><td>0</td></tr><tr><td>date</td><td>0</td></tr><tr><td>won_corners</td><td>16</td></tr><tr><td>att_sv_low_centre</td><td>269</td></tr><tr><td>won_contest</td><td>0</td></tr><tr><td>total_tackle</td><td>0</td></tr><tr><td>aerial_lost</td><td>0</td></tr><tr><td>possession_percentage</td><td>0</td></tr><tr><td>accurate_pass</td><td>0</td></tr></tbody></table></div>"
      ]
     },
     "metadata": {
      "application/vnd.databricks.v1+output": {
       "addedWidgets": {},
       "aggData": [],
       "aggError": "",
       "aggOverflow": false,
       "aggSchema": [],
       "aggSeriesLimitReached": false,
       "aggType": "",
       "arguments": {},
       "columnCustomDisplayInfos": {},
       "data": [
        [
         "match_id",
         0
        ],
        [
         "team_id",
         0
        ],
        [
         "team_name",
         0
        ],
        [
         "team",
         0
        ],
        [
         "team_rating",
         0
        ],
        [
         "date",
         0
        ],
        [
         "won_corners",
         16
        ],
        [
         "att_sv_low_centre",
         269
        ],
        [
         "won_contest",
         0
        ],
        [
         "total_tackle",
         0
        ],
        [
         "aerial_lost",
         0
        ],
        [
         "possession_percentage",
         0
        ],
        [
         "accurate_pass",
         0
        ]
       ],
       "datasetInfos": [
        {
         "name": "_sqldf",
         "schema": {
          "fields": [
           {
            "metadata": {},
            "name": "column_name",
            "nullable": true,
            "type": "string"
           },
           {
            "metadata": {},
            "name": "null_count",
            "nullable": true,
            "type": "long"
           }
          ],
          "type": "struct"
         },
         "tableIdentifier": null,
         "typeStr": "pyspark.sql.connect.dataframe.DataFrame"
        }
       ],
       "dbfsResultPath": null,
       "isJsonSchema": true,
       "metadata": {
        "createTempViewForImplicitDf": true,
        "dataframeName": "_sqldf",
        "executionCount": 95
       },
       "overflow": false,
       "plotOptions": {
        "customPlotOptions": {},
        "displayType": "table",
        "pivotAggregation": null,
        "pivotColumns": null,
        "xColumns": null,
        "yColumns": null
       },
       "removedWidgets": [],
       "schema": [
        {
         "metadata": "{}",
         "name": "column_name",
         "type": "\"string\""
        },
        {
         "metadata": "{}",
         "name": "null_count",
         "type": "\"long\""
        }
       ],
       "type": "table"
      }
     },
     "output_type": "display_data"
    }
   ],
   "source": [
    "%sql\n",
    "SELECT stack(13,\n",
    "  'match_id', SUM(CASE WHEN match_id IS NULL THEN 1 ELSE 0 END),\n",
    "  'team_id', SUM(CASE WHEN team_id IS NULL THEN 1 ELSE 0 END),\n",
    "  'team_name', SUM(CASE WHEN team_name IS NULL THEN 1 ELSE 0 END),\n",
    "  'team', SUM(CASE WHEN team IS NULL THEN 1 ELSE 0 END),\n",
    "  'team_rating', SUM(CASE WHEN team_rating IS NULL THEN 1 ELSE 0 END),\n",
    "  'date', SUM(CASE WHEN date IS NULL THEN 1 ELSE 0 END),\n",
    "  'won_corners', SUM(CASE WHEN won_corners IS NULL THEN 1 ELSE 0 END),\n",
    "  'att_sv_low_centre', SUM(CASE WHEN att_sv_low_centre IS NULL THEN 1 ELSE 0 END),\n",
    "  'won_contest', SUM(CASE WHEN won_contest IS NULL THEN 1 ELSE 0 END),\n",
    "  'total_tackle', SUM(CASE WHEN total_tackle IS NULL THEN 1 ELSE 0 END),\n",
    "  'aerial_lost', SUM(CASE WHEN aerial_lost IS NULL THEN 1 ELSE 0 END),\n",
    "  'possession_percentage', SUM(CASE WHEN possession_percentage IS NULL THEN 1 ELSE 0 END),\n",
    "  'accurate_pass', SUM(CASE WHEN accurate_pass IS NULL THEN 1 ELSE 0 END)\n",
    ") AS (column_name, null_count)\n",
    "FROM teams;"
   ]
  },
  {
   "cell_type": "code",
   "execution_count": 0,
   "metadata": {
    "application/vnd.databricks.v1+cell": {
     "cellMetadata": {
      "byteLimit": 2048000,
      "implicitDf": true,
      "rowLimit": 10000
     },
     "inputWidgets": {},
     "nuid": "d421a18c-3c24-47de-9dd3-d42c4cf091e2",
     "showTitle": false,
     "tableResultSettingsMap": {},
     "title": ""
    }
   },
   "outputs": [
    {
     "output_type": "display_data",
     "data": {
      "text/html": [
       "<style scoped>\n",
       "  .table-result-container {\n",
       "    max-height: 300px;\n",
       "    overflow: auto;\n",
       "  }\n",
       "  table, th, td {\n",
       "    border: 1px solid black;\n",
       "    border-collapse: collapse;\n",
       "  }\n",
       "  th, td {\n",
       "    padding: 5px;\n",
       "  }\n",
       "  th {\n",
       "    text-align: left;\n",
       "  }\n",
       "</style><div class='table-result-container'><table class='table-result'><thead style='background-color: white'><tr><th>column_name</th><th>null_count</th></tr></thead><tbody><tr><td>match</td><td>0</td></tr><tr><td>team</td><td>0</td></tr><tr><td>player_name</td><td>0</td></tr><tr><td>player_id</td><td>0</td></tr><tr><td>player_position_value</td><td>0</td></tr><tr><td>player_position_info</td><td>0</td></tr><tr><td>player_rating</td><td>0</td></tr><tr><td>good_high_claim</td><td>13330</td></tr><tr><td>touches</td><td>3276</td></tr><tr><td>saves</td><td>12974</td></tr><tr><td>total_pass</td><td>3326</td></tr><tr><td>formation_place</td><td>0</td></tr><tr><td>accurate_pass</td><td>3399</td></tr><tr><td>aerial_won</td><td>7836</td></tr><tr><td>aerial_lost</td><td>7494</td></tr><tr><td>fouls</td><td>8651</td></tr><tr><td>total_scoring_att</td><td>8718</td></tr><tr><td>total_tackle</td><td>7684</td></tr><tr><td>won_contest</td><td>9619</td></tr><tr><td>penalty_conceded</td><td>13595</td></tr><tr><td>blocked_scoring_att</td><td>11671</td></tr><tr><td>man_of_the_match</td><td>13295</td></tr></tbody></table></div>"
      ]
     },
     "metadata": {
      "application/vnd.databricks.v1+output": {
       "addedWidgets": {},
       "aggData": [],
       "aggError": "",
       "aggOverflow": false,
       "aggSchema": [],
       "aggSeriesLimitReached": false,
       "aggType": "",
       "arguments": {},
       "columnCustomDisplayInfos": {},
       "data": [
        [
         "match",
         0
        ],
        [
         "team",
         0
        ],
        [
         "player_name",
         0
        ],
        [
         "player_id",
         0
        ],
        [
         "player_position_value",
         0
        ],
        [
         "player_position_info",
         0
        ],
        [
         "player_rating",
         0
        ],
        [
         "good_high_claim",
         13330
        ],
        [
         "touches",
         3276
        ],
        [
         "saves",
         12974
        ],
        [
         "total_pass",
         3326
        ],
        [
         "formation_place",
         0
        ],
        [
         "accurate_pass",
         3399
        ],
        [
         "aerial_won",
         7836
        ],
        [
         "aerial_lost",
         7494
        ],
        [
         "fouls",
         8651
        ],
        [
         "total_scoring_att",
         8718
        ],
        [
         "total_tackle",
         7684
        ],
        [
         "won_contest",
         9619
        ],
        [
         "penalty_conceded",
         13595
        ],
        [
         "blocked_scoring_att",
         11671
        ],
        [
         "man_of_the_match",
         13295
        ]
       ],
       "datasetInfos": [
        {
         "name": "_sqldf",
         "schema": {
          "fields": [
           {
            "metadata": {},
            "name": "column_name",
            "nullable": true,
            "type": "string"
           },
           {
            "metadata": {},
            "name": "null_count",
            "nullable": true,
            "type": "long"
           }
          ],
          "type": "struct"
         },
         "tableIdentifier": null,
         "typeStr": "pyspark.sql.connect.dataframe.DataFrame"
        }
       ],
       "dbfsResultPath": null,
       "isJsonSchema": true,
       "metadata": {
        "createTempViewForImplicitDf": true,
        "dataframeName": "_sqldf",
        "executionCount": 96
       },
       "overflow": false,
       "plotOptions": {
        "customPlotOptions": {},
        "displayType": "table",
        "pivotAggregation": null,
        "pivotColumns": null,
        "xColumns": null,
        "yColumns": null
       },
       "removedWidgets": [],
       "schema": [
        {
         "metadata": "{}",
         "name": "column_name",
         "type": "\"string\""
        },
        {
         "metadata": "{}",
         "name": "null_count",
         "type": "\"long\""
        }
       ],
       "type": "table"
      }
     },
     "output_type": "display_data"
    }
   ],
   "source": [
    "%sql\n",
    "-- Nulls por columna en players_match (exactamente tus 22 columnas)\n",
    "  SELECT stack(22,\n",
    "    'match',                 SUM(CASE WHEN `match`               IS NULL THEN 1 ELSE 0 END),\n",
    "    'team',                  SUM(CASE WHEN team                  IS NULL THEN 1 ELSE 0 END),\n",
    "    'player_name',           SUM(CASE WHEN player_name           IS NULL THEN 1 ELSE 0 END),\n",
    "    'player_id',             SUM(CASE WHEN player_id             IS NULL THEN 1 ELSE 0 END),\n",
    "    'player_position_value', SUM(CASE WHEN player_position_value IS NULL THEN 1 ELSE 0 END),\n",
    "    'player_position_info',  SUM(CASE WHEN player_position_info  IS NULL THEN 1 ELSE 0 END),\n",
    "    'player_rating',         SUM(CASE WHEN player_rating         IS NULL THEN 1 ELSE 0 END),\n",
    "    'good_high_claim',       SUM(CASE WHEN good_high_claim       IS NULL THEN 1 ELSE 0 END),\n",
    "    'touches',               SUM(CASE WHEN touches               IS NULL THEN 1 ELSE 0 END),\n",
    "    'saves',                 SUM(CASE WHEN saves                 IS NULL THEN 1 ELSE 0 END),\n",
    "    'total_pass',            SUM(CASE WHEN total_pass            IS NULL THEN 1 ELSE 0 END),\n",
    "    'formation_place',       SUM(CASE WHEN formation_place       IS NULL THEN 1 ELSE 0 END),\n",
    "    'accurate_pass',         SUM(CASE WHEN accurate_pass         IS NULL THEN 1 ELSE 0 END),\n",
    "    'aerial_won',            SUM(CASE WHEN aerial_won            IS NULL THEN 1 ELSE 0 END),\n",
    "    'aerial_lost',           SUM(CASE WHEN aerial_lost           IS NULL THEN 1 ELSE 0 END),\n",
    "    'fouls',                 SUM(CASE WHEN fouls                 IS NULL THEN 1 ELSE 0 END),\n",
    "    'total_scoring_att',     SUM(CASE WHEN total_scoring_att     IS NULL THEN 1 ELSE 0 END),\n",
    "    'total_tackle',          SUM(CASE WHEN total_tackle          IS NULL THEN 1 ELSE 0 END),\n",
    "    'won_contest',           SUM(CASE WHEN won_contest           IS NULL THEN 1 ELSE 0 END),\n",
    "    'penalty_conceded',      SUM(CASE WHEN penalty_conceded      IS NULL THEN 1 ELSE 0 END),\n",
    "    'blocked_scoring_att',   SUM(CASE WHEN blocked_scoring_att   IS NULL THEN 1 ELSE 0 END),\n",
    "    'man_of_the_match',      SUM(CASE WHEN man_of_the_match      IS NULL THEN 1 ELSE 0 END)\n",
    "  ) AS (column_name, null_count)\n",
    "  FROM players_match;\n",
    "\n"
   ]
  },
  {
   "cell_type": "code",
   "execution_count": 0,
   "metadata": {
    "application/vnd.databricks.v1+cell": {
     "cellMetadata": {
      "byteLimit": 2048000,
      "implicitDf": true,
      "rowLimit": 10000
     },
     "inputWidgets": {},
     "nuid": "8cad7631-6a9b-46de-b9e3-66cde5f190a6",
     "showTitle": false,
     "tableResultSettingsMap": {},
     "title": ""
    }
   },
   "outputs": [
    {
     "output_type": "display_data",
     "data": {
      "text/html": [
       "<style scoped>\n",
       "  .table-result-container {\n",
       "    max-height: 300px;\n",
       "    overflow: auto;\n",
       "  }\n",
       "  table, th, td {\n",
       "    border: 1px solid black;\n",
       "    border-collapse: collapse;\n",
       "  }\n",
       "  th, td {\n",
       "    padding: 5px;\n",
       "  }\n",
       "  th {\n",
       "    text-align: left;\n",
       "  }\n",
       "</style><div class='table-result-container'><table class='table-result'><thead style='background-color: white'><tr><th>column_name</th><th>null_count</th></tr></thead><tbody><tr><td>name</td><td>0</td></tr><tr><td>club</td><td>0</td></tr><tr><td>age</td><td>0</td></tr><tr><td>position</td><td>0</td></tr><tr><td>position_cat</td><td>0</td></tr><tr><td>market_value</td><td>0</td></tr><tr><td>page_views</td><td>0</td></tr><tr><td>fpl_value</td><td>0</td></tr><tr><td>fpl_points</td><td>0</td></tr><tr><td>region</td><td>0</td></tr><tr><td>nationality</td><td>0</td></tr><tr><td>club_id</td><td>0</td></tr></tbody></table></div>"
      ]
     },
     "metadata": {
      "application/vnd.databricks.v1+output": {
       "addedWidgets": {},
       "aggData": [],
       "aggError": "",
       "aggOverflow": false,
       "aggSchema": [],
       "aggSeriesLimitReached": false,
       "aggType": "",
       "arguments": {},
       "columnCustomDisplayInfos": {},
       "data": [
        [
         "name",
         0
        ],
        [
         "club",
         0
        ],
        [
         "age",
         0
        ],
        [
         "position",
         0
        ],
        [
         "position_cat",
         0
        ],
        [
         "market_value",
         0
        ],
        [
         "page_views",
         0
        ],
        [
         "fpl_value",
         0
        ],
        [
         "fpl_points",
         0
        ],
        [
         "region",
         0
        ],
        [
         "nationality",
         0
        ],
        [
         "club_id",
         0
        ]
       ],
       "datasetInfos": [
        {
         "name": "_sqldf",
         "schema": {
          "fields": [
           {
            "metadata": {},
            "name": "column_name",
            "nullable": true,
            "type": "string"
           },
           {
            "metadata": {},
            "name": "null_count",
            "nullable": true,
            "type": "long"
           }
          ],
          "type": "struct"
         },
         "tableIdentifier": null,
         "typeStr": "pyspark.sql.connect.dataframe.DataFrame"
        }
       ],
       "dbfsResultPath": null,
       "isJsonSchema": true,
       "metadata": {
        "createTempViewForImplicitDf": true,
        "dataframeName": "_sqldf",
        "executionCount": 97
       },
       "overflow": false,
       "plotOptions": {
        "customPlotOptions": {},
        "displayType": "table",
        "pivotAggregation": null,
        "pivotColumns": null,
        "xColumns": null,
        "yColumns": null
       },
       "removedWidgets": [],
       "schema": [
        {
         "metadata": "{}",
         "name": "column_name",
         "type": "\"string\""
        },
        {
         "metadata": "{}",
         "name": "null_count",
         "type": "\"long\""
        }
       ],
       "type": "table"
      }
     },
     "output_type": "display_data"
    }
   ],
   "source": [
    "%sql\n",
    "SELECT stack(12,\n",
    "  'name', SUM(CASE WHEN name IS NULL THEN 1 ELSE 0 END),\n",
    "  'club', SUM(CASE WHEN club IS NULL THEN 1 ELSE 0 END),\n",
    "  'age', SUM(CASE WHEN age IS NULL THEN 1 ELSE 0 END),\n",
    "  'position', SUM(CASE WHEN position IS NULL THEN 1 ELSE 0 END),\n",
    "  'position_cat', SUM(CASE WHEN position_cat IS NULL THEN 1 ELSE 0 END),\n",
    "  'market_value', SUM(CASE WHEN market_value IS NULL THEN 1 ELSE 0 END),\n",
    "  'page_views', SUM(CASE WHEN page_views IS NULL THEN 1 ELSE 0 END),\n",
    "  'fpl_value', SUM(CASE WHEN fpl_value IS NULL THEN 1 ELSE 0 END),\n",
    "  'fpl_points', SUM(CASE WHEN fpl_points IS NULL THEN 1 ELSE 0 END),\n",
    "  'region', SUM(CASE WHEN region IS NULL THEN 1 ELSE 0 END),\n",
    "  'nationality', SUM(CASE WHEN nationality IS NULL THEN 1 ELSE 0 END),\n",
    "  'club_id', SUM(CASE WHEN club_id IS NULL THEN 1 ELSE 0 END)\n",
    ") AS (column_name, null_count)\n",
    "FROM players;"
   ]
  },
  {
   "cell_type": "code",
   "execution_count": 0,
   "metadata": {
    "application/vnd.databricks.v1+cell": {
     "cellMetadata": {
      "byteLimit": 2048000,
      "implicitDf": true,
      "rowLimit": 10000
     },
     "inputWidgets": {},
     "nuid": "53983da8-8daa-433d-8acf-79469e6b9a3f",
     "showTitle": false,
     "tableResultSettingsMap": {},
     "title": ""
    }
   },
   "outputs": [
    {
     "output_type": "display_data",
     "data": {
      "text/html": [
       "<style scoped>\n",
       "  .table-result-container {\n",
       "    max-height: 300px;\n",
       "    overflow: auto;\n",
       "  }\n",
       "  table, th, td {\n",
       "    border: 1px solid black;\n",
       "    border-collapse: collapse;\n",
       "  }\n",
       "  th, td {\n",
       "    padding: 5px;\n",
       "  }\n",
       "  th {\n",
       "    text-align: left;\n",
       "  }\n",
       "</style><div class='table-result-container'><table class='table-result'><thead style='background-color: white'><tr><th>column_name</th><th>null_count</th></tr></thead><tbody><tr><td>Season</td><td>0</td></tr><tr><td>DateTime</td><td>0</td></tr><tr><td>HomeTeam</td><td>0</td></tr><tr><td>AwayTeam</td><td>0</td></tr><tr><td>FTHG</td><td>0</td></tr><tr><td>FTAG</td><td>0</td></tr><tr><td>FTR</td><td>0</td></tr><tr><td>HST</td><td>0</td></tr><tr><td>AST</td><td>0</td></tr><tr><td>Referee</td><td>0</td></tr></tbody></table></div>"
      ]
     },
     "metadata": {
      "application/vnd.databricks.v1+output": {
       "addedWidgets": {},
       "aggData": [],
       "aggError": "",
       "aggOverflow": false,
       "aggSchema": [],
       "aggSeriesLimitReached": false,
       "aggType": "",
       "arguments": {},
       "columnCustomDisplayInfos": {},
       "data": [
        [
         "Season",
         0
        ],
        [
         "DateTime",
         0
        ],
        [
         "HomeTeam",
         0
        ],
        [
         "AwayTeam",
         0
        ],
        [
         "FTHG",
         0
        ],
        [
         "FTAG",
         0
        ],
        [
         "FTR",
         0
        ],
        [
         "HST",
         0
        ],
        [
         "AST",
         0
        ],
        [
         "Referee",
         0
        ]
       ],
       "datasetInfos": [
        {
         "name": "_sqldf",
         "schema": {
          "fields": [
           {
            "metadata": {},
            "name": "column_name",
            "nullable": true,
            "type": "string"
           },
           {
            "metadata": {},
            "name": "null_count",
            "nullable": true,
            "type": "long"
           }
          ],
          "type": "struct"
         },
         "tableIdentifier": null,
         "typeStr": "pyspark.sql.connect.dataframe.DataFrame"
        }
       ],
       "dbfsResultPath": null,
       "isJsonSchema": true,
       "metadata": {
        "createTempViewForImplicitDf": true,
        "dataframeName": "_sqldf",
        "executionCount": 98
       },
       "overflow": false,
       "plotOptions": {
        "customPlotOptions": {},
        "displayType": "table",
        "pivotAggregation": null,
        "pivotColumns": null,
        "xColumns": null,
        "yColumns": null
       },
       "removedWidgets": [],
       "schema": [
        {
         "metadata": "{}",
         "name": "column_name",
         "type": "\"string\""
        },
        {
         "metadata": "{}",
         "name": "null_count",
         "type": "\"long\""
        }
       ],
       "type": "table"
      }
     },
     "output_type": "display_data"
    }
   ],
   "source": [
    "%sql\n",
    "SELECT stack(10,\n",
    "  'Season', SUM(CASE WHEN Season IS NULL THEN 1 ELSE 0 END),\n",
    "  'DateTime', SUM(CASE WHEN DateTime IS NULL THEN 1 ELSE 0 END),\n",
    "  'HomeTeam', SUM(CASE WHEN HomeTeam IS NULL THEN 1 ELSE 0 END),\n",
    "  'AwayTeam', SUM(CASE WHEN AwayTeam IS NULL THEN 1 ELSE 0 END),\n",
    "  'FTHG', SUM(CASE WHEN FTHG IS NULL THEN 1 ELSE 0 END),\n",
    "  'FTAG', SUM(CASE WHEN FTAG IS NULL THEN 1 ELSE 0 END),\n",
    "  'FTR', SUM(CASE WHEN FTR IS NULL THEN 1 ELSE 0 END),\n",
    "  'HST', SUM(CASE WHEN HST IS NULL THEN 1 ELSE 0 END),\n",
    "  'AST', SUM(CASE WHEN AST IS NULL THEN 1 ELSE 0 END),\n",
    "  'Referee', SUM(CASE WHEN Referee IS NULL THEN 1 ELSE 0 END)\n",
    ") AS (column_name, null_count)\n",
    "FROM results;\n"
   ]
  },
  {
   "cell_type": "markdown",
   "metadata": {
    "application/vnd.databricks.v1+cell": {
     "cellMetadata": {
      "byteLimit": 2048000,
      "rowLimit": 10000
     },
     "inputWidgets": {},
     "nuid": "713c2160-1fdf-4c3e-a9a5-cff51d3359d3",
     "showTitle": false,
     "tableResultSettingsMap": {},
     "title": ""
    }
   },
   "source": [
    "Miramos si existen duplicados"
   ]
  },
  {
   "cell_type": "code",
   "execution_count": 0,
   "metadata": {
    "application/vnd.databricks.v1+cell": {
     "cellMetadata": {
      "byteLimit": 2048000,
      "implicitDf": true,
      "rowLimit": 10000
     },
     "inputWidgets": {},
     "nuid": "61684f42-df97-469e-9b97-fa48b94b5c09",
     "showTitle": false,
     "tableResultSettingsMap": {},
     "title": ""
    }
   },
   "outputs": [
    {
     "output_type": "display_data",
     "data": {
      "text/html": [
       "<style scoped>\n",
       "  .table-result-container {\n",
       "    max-height: 300px;\n",
       "    overflow: auto;\n",
       "  }\n",
       "  table, th, td {\n",
       "    border: 1px solid black;\n",
       "    border-collapse: collapse;\n",
       "  }\n",
       "  th, td {\n",
       "    padding: 5px;\n",
       "  }\n",
       "  th {\n",
       "    text-align: left;\n",
       "  }\n",
       "</style><div class='table-result-container'><table class='table-result'><thead style='background-color: white'><tr><th>match</th><th>team</th><th>player_id</th><th>cnt</th></tr></thead><tbody></tbody></table></div>"
      ]
     },
     "metadata": {
      "application/vnd.databricks.v1+output": {
       "addedWidgets": {},
       "aggData": [],
       "aggError": "",
       "aggOverflow": false,
       "aggSchema": [],
       "aggSeriesLimitReached": false,
       "aggType": "",
       "arguments": {},
       "columnCustomDisplayInfos": {},
       "data": [],
       "datasetInfos": [
        {
         "name": "_sqldf",
         "schema": {
          "fields": [
           {
            "metadata": {},
            "name": "match",
            "nullable": true,
            "type": "integer"
           },
           {
            "metadata": {},
            "name": "team",
            "nullable": true,
            "type": "integer"
           },
           {
            "metadata": {},
            "name": "player_id",
            "nullable": true,
            "type": "integer"
           },
           {
            "metadata": {},
            "name": "cnt",
            "nullable": false,
            "type": "long"
           }
          ],
          "type": "struct"
         },
         "tableIdentifier": null,
         "typeStr": "pyspark.sql.connect.dataframe.DataFrame"
        }
       ],
       "dbfsResultPath": null,
       "isJsonSchema": true,
       "metadata": {
        "createTempViewForImplicitDf": true,
        "dataframeName": "_sqldf",
        "executionCount": 99
       },
       "overflow": false,
       "plotOptions": {
        "customPlotOptions": {},
        "displayType": "table",
        "pivotAggregation": null,
        "pivotColumns": null,
        "xColumns": null,
        "yColumns": null
       },
       "removedWidgets": [],
       "schema": [
        {
         "metadata": "{}",
         "name": "match",
         "type": "\"integer\""
        },
        {
         "metadata": "{}",
         "name": "team",
         "type": "\"integer\""
        },
        {
         "metadata": "{}",
         "name": "player_id",
         "type": "\"integer\""
        },
        {
         "metadata": "{}",
         "name": "cnt",
         "type": "\"long\""
        }
       ],
       "type": "table"
      }
     },
     "output_type": "display_data"
    }
   ],
   "source": [
    "%sql\n",
    "-- Teams: duplicados por (match_id, team_id)\n",
    "SELECT match_id, team_id, COUNT(*) AS cnt\n",
    "FROM teams\n",
    "GROUP BY match_id, team_id\n",
    "HAVING COUNT(*) > 1;\n",
    "\n",
    "-- Players_match: duplicados por (match, team, player_id)\n",
    "SELECT match, team, player_id, COUNT(*) AS cnt\n",
    "FROM players_match\n",
    "GROUP BY match, team, player_id\n",
    "HAVING COUNT(*) > 1;\n"
   ]
  },
  {
   "cell_type": "markdown",
   "metadata": {
    "application/vnd.databricks.v1+cell": {
     "cellMetadata": {
      "byteLimit": 2048000,
      "rowLimit": 10000
     },
     "inputWidgets": {},
     "nuid": "5549ab40-498a-4eed-8422-03361e2def1f",
     "showTitle": false,
     "tableResultSettingsMap": {},
     "title": ""
    }
   },
   "source": [
    "Controles de rango para porcentajes, validar cuales no estan presentes en esos intervalos."
   ]
  },
  {
   "cell_type": "code",
   "execution_count": 0,
   "metadata": {
    "application/vnd.databricks.v1+cell": {
     "cellMetadata": {
      "byteLimit": 2048000,
      "implicitDf": true,
      "rowLimit": 10000
     },
     "inputWidgets": {},
     "nuid": "e015c4ec-9d73-4cdb-b354-304b6c0389a7",
     "showTitle": false,
     "tableResultSettingsMap": {},
     "title": ""
    }
   },
   "outputs": [
    {
     "output_type": "display_data",
     "data": {
      "text/html": [
       "<style scoped>\n",
       "  .table-result-container {\n",
       "    max-height: 300px;\n",
       "    overflow: auto;\n",
       "  }\n",
       "  table, th, td {\n",
       "    border: 1px solid black;\n",
       "    border-collapse: collapse;\n",
       "  }\n",
       "  th, td {\n",
       "    padding: 5px;\n",
       "  }\n",
       "  th {\n",
       "    text-align: left;\n",
       "  }\n",
       "</style><div class='table-result-container'><table class='table-result'><thead style='background-color: white'><tr><th>bad_goals</th></tr></thead><tbody><tr><td>0</td></tr></tbody></table></div>"
      ]
     },
     "metadata": {
      "application/vnd.databricks.v1+output": {
       "addedWidgets": {},
       "aggData": [],
       "aggError": "",
       "aggOverflow": false,
       "aggSchema": [],
       "aggSeriesLimitReached": false,
       "aggType": "",
       "arguments": {},
       "columnCustomDisplayInfos": {},
       "data": [
        [
         0
        ]
       ],
       "datasetInfos": [
        {
         "name": "_sqldf",
         "schema": {
          "fields": [
           {
            "metadata": {},
            "name": "bad_goals",
            "nullable": false,
            "type": "long"
           }
          ],
          "type": "struct"
         },
         "tableIdentifier": null,
         "typeStr": "pyspark.sql.connect.dataframe.DataFrame"
        }
       ],
       "dbfsResultPath": null,
       "isJsonSchema": true,
       "metadata": {
        "createTempViewForImplicitDf": true,
        "dataframeName": "_sqldf",
        "executionCount": 100
       },
       "overflow": false,
       "plotOptions": {
        "customPlotOptions": {},
        "displayType": "table",
        "pivotAggregation": null,
        "pivotColumns": null,
        "xColumns": null,
        "yColumns": null
       },
       "removedWidgets": [],
       "schema": [
        {
         "metadata": "{}",
         "name": "bad_goals",
         "type": "\"long\""
        }
       ],
       "type": "table"
      }
     },
     "output_type": "display_data"
    }
   ],
   "source": [
    "%sql\n",
    "-- Posesión fuera de 0–100\n",
    "SELECT COUNT(*) AS bad_possession\n",
    "FROM teams\n",
    "WHERE possession_percentage < 0 OR possession_percentage > 100;\n",
    "\n",
    "-- Goles negativos (no debería ocurrir)\n",
    "SELECT COUNT(*) AS bad_goals\n",
    "FROM results\n",
    "WHERE FTHG < 0 OR FTAG < 0;\n"
   ]
  },
  {
   "cell_type": "markdown",
   "metadata": {
    "application/vnd.databricks.v1+cell": {
     "cellMetadata": {
      "byteLimit": 2048000,
      "rowLimit": 10000
     },
     "inputWidgets": {},
     "nuid": "86e6d470-9f1c-487b-8433-9cdfc4855738",
     "showTitle": false,
     "tableResultSettingsMap": {},
     "title": ""
    }
   },
   "source": [
    "Descriptivos de las variables clave (SQL)"
   ]
  },
  {
   "cell_type": "code",
   "execution_count": 0,
   "metadata": {
    "application/vnd.databricks.v1+cell": {
     "cellMetadata": {
      "byteLimit": 2048000,
      "implicitDf": true,
      "rowLimit": 10000
     },
     "inputWidgets": {},
     "nuid": "564e2373-bc7b-4e31-bc8d-4a0f67747d7f",
     "showTitle": false,
     "tableResultSettingsMap": {},
     "title": ""
    }
   },
   "outputs": [
    {
     "output_type": "display_data",
     "data": {
      "text/html": [
       "<style scoped>\n",
       "  .table-result-container {\n",
       "    max-height: 300px;\n",
       "    overflow: auto;\n",
       "  }\n",
       "  table, th, td {\n",
       "    border: 1px solid black;\n",
       "    border-collapse: collapse;\n",
       "  }\n",
       "  th, td {\n",
       "    padding: 5px;\n",
       "  }\n",
       "  th {\n",
       "    text-align: left;\n",
       "  }\n",
       "</style><div class='table-result-container'><table class='table-result'><thead style='background-color: white'><tr><th>n</th><th>mean_home_goals</th><th>mean_away_goals</th><th>corr_home_away_goals</th></tr></thead><tbody><tr><td>11113</td><td>1.518221902276613</td><td>1.141455952488077</td><td>-0.05547357731077987</td></tr></tbody></table></div>"
      ]
     },
     "metadata": {
      "application/vnd.databricks.v1+output": {
       "addedWidgets": {},
       "aggData": [],
       "aggError": "",
       "aggOverflow": false,
       "aggSchema": [],
       "aggSeriesLimitReached": false,
       "aggType": "",
       "arguments": {},
       "columnCustomDisplayInfos": {},
       "data": [
        [
         11113,
         1.518221902276613,
         1.141455952488077,
         -0.05547357731077987
        ]
       ],
       "datasetInfos": [
        {
         "name": "_sqldf",
         "schema": {
          "fields": [
           {
            "metadata": {},
            "name": "n",
            "nullable": false,
            "type": "long"
           },
           {
            "metadata": {},
            "name": "mean_home_goals",
            "nullable": true,
            "type": "double"
           },
           {
            "metadata": {},
            "name": "mean_away_goals",
            "nullable": true,
            "type": "double"
           },
           {
            "metadata": {},
            "name": "corr_home_away_goals",
            "nullable": true,
            "type": "double"
           }
          ],
          "type": "struct"
         },
         "tableIdentifier": null,
         "typeStr": "pyspark.sql.connect.dataframe.DataFrame"
        }
       ],
       "dbfsResultPath": null,
       "isJsonSchema": true,
       "metadata": {
        "createTempViewForImplicitDf": true,
        "dataframeName": "_sqldf",
        "executionCount": 101
       },
       "overflow": false,
       "plotOptions": {
        "customPlotOptions": {},
        "displayType": "table",
        "pivotAggregation": null,
        "pivotColumns": null,
        "xColumns": null,
        "yColumns": null
       },
       "removedWidgets": [],
       "schema": [
        {
         "metadata": "{}",
         "name": "n",
         "type": "\"long\""
        },
        {
         "metadata": "{}",
         "name": "mean_home_goals",
         "type": "\"double\""
        },
        {
         "metadata": "{}",
         "name": "mean_away_goals",
         "type": "\"double\""
        },
        {
         "metadata": "{}",
         "name": "corr_home_away_goals",
         "type": "\"double\""
        }
       ],
       "type": "table"
      }
     },
     "output_type": "display_data"
    }
   ],
   "source": [
    "%sql\n",
    "-- Teams: descriptivos de posesión y pases\n",
    "SELECT\n",
    "  COUNT(*) AS n,\n",
    "  AVG(possession_percentage) AS mean_possession,\n",
    "  STDDEV(possession_percentage) AS sd_possession,\n",
    "  PERCENTILE_APPROX(possession_percentage, 0.5) AS median_possession,\n",
    "  MIN(possession_percentage) AS min_possession,\n",
    "  MAX(possession_percentage) AS max_possession,\n",
    "  AVG(accurate_pass) AS mean_acc_pass\n",
    "FROM teams;\n",
    "\n",
    "-- Players_match: rating y tiros\n",
    "SELECT\n",
    "  COUNT(*) AS n,\n",
    "  AVG(player_rating) AS mean_rating,\n",
    "  STDDEV(player_rating) AS sd_rating,\n",
    "  PERCENTILE_APPROX(player_rating, 0.25) AS p25_rating,\n",
    "  PERCENTILE_APPROX(player_rating, 0.5) AS p50_rating,\n",
    "  PERCENTILE_APPROX(player_rating, 0.75) AS p75_rating,\n",
    "  AVG(total_scoring_att) AS mean_shots\n",
    "FROM players_match;\n",
    "\n",
    "-- Results: goles locales/visitantes\n",
    "SELECT\n",
    "  COUNT(*) AS n,\n",
    "  AVG(FTHG) AS mean_home_goals,\n",
    "  AVG(FTAG) AS mean_away_goals,\n",
    "  CORR(FTHG, FTAG) AS corr_home_away_goals\n",
    "FROM results;\n"
   ]
  },
  {
   "cell_type": "markdown",
   "metadata": {
    "application/vnd.databricks.v1+cell": {
     "cellMetadata": {
      "byteLimit": 2048000,
      "rowLimit": 10000
     },
     "inputWidgets": {},
     "nuid": "cf08939a-dd88-48e0-862a-ee9bf6244348",
     "showTitle": false,
     "tableResultSettingsMap": {},
     "title": ""
    }
   },
   "source": [
    "Distribución de player_rating (histograma)"
   ]
  },
  {
   "cell_type": "code",
   "execution_count": 0,
   "metadata": {
    "application/vnd.databricks.v1+cell": {
     "cellMetadata": {
      "byteLimit": 2048000,
      "implicitDf": true,
      "rowLimit": 10000
     },
     "inputWidgets": {},
     "nuid": "73a8bf9e-06b8-4a78-bc1a-264a828640ba",
     "showTitle": false,
     "tableResultSettingsMap": {},
     "title": ""
    }
   },
   "outputs": [
    {
     "output_type": "display_data",
     "data": {
      "text/html": [
       "<style scoped>\n",
       "  .table-result-container {\n",
       "    max-height: 300px;\n",
       "    overflow: auto;\n",
       "  }\n",
       "  table, th, td {\n",
       "    border: 1px solid black;\n",
       "    border-collapse: collapse;\n",
       "  }\n",
       "  th, td {\n",
       "    padding: 5px;\n",
       "  }\n",
       "  th {\n",
       "    text-align: left;\n",
       "  }\n",
       "</style><div class='table-result-container'><table class='table-result'><thead style='background-color: white'><tr><th>rating_bin</th><th>n</th></tr></thead><tbody><tr><td>0.0</td><td>3227</td></tr><tr><td>3.5</td><td>1</td></tr><tr><td>4.0</td><td>3</td></tr><tr><td>4.5</td><td>30</td></tr><tr><td>5.0</td><td>87</td></tr><tr><td>5.5</td><td>987</td></tr><tr><td>6.0</td><td>3096</td></tr><tr><td>6.5</td><td>2586</td></tr><tr><td>7.0</td><td>2018</td></tr><tr><td>7.5</td><td>1009</td></tr><tr><td>8.0</td><td>389</td></tr><tr><td>8.5</td><td>153</td></tr><tr><td>9.0</td><td>55</td></tr><tr><td>9.5</td><td>23</td></tr><tr><td>10.0</td><td>11</td></tr></tbody></table></div>"
      ]
     },
     "metadata": {
      "application/vnd.databricks.v1+output": {
       "addedWidgets": {},
       "aggData": [],
       "aggError": "",
       "aggOverflow": false,
       "aggSchema": [],
       "aggSeriesLimitReached": false,
       "aggType": "",
       "arguments": {},
       "columnCustomDisplayInfos": {},
       "data": [
        [
         0.0,
         3227
        ],
        [
         3.5,
         1
        ],
        [
         4.0,
         3
        ],
        [
         4.5,
         30
        ],
        [
         5.0,
         87
        ],
        [
         5.5,
         987
        ],
        [
         6.0,
         3096
        ],
        [
         6.5,
         2586
        ],
        [
         7.0,
         2018
        ],
        [
         7.5,
         1009
        ],
        [
         8.0,
         389
        ],
        [
         8.5,
         153
        ],
        [
         9.0,
         55
        ],
        [
         9.5,
         23
        ],
        [
         10.0,
         11
        ]
       ],
       "datasetInfos": [
        {
         "name": "_sqldf",
         "schema": {
          "fields": [
           {
            "metadata": {},
            "name": "rating_bin",
            "nullable": true,
            "type": "double"
           },
           {
            "metadata": {},
            "name": "n",
            "nullable": false,
            "type": "long"
           }
          ],
          "type": "struct"
         },
         "tableIdentifier": null,
         "typeStr": "pyspark.sql.connect.dataframe.DataFrame"
        }
       ],
       "dbfsResultPath": null,
       "isJsonSchema": true,
       "metadata": {
        "createTempViewForImplicitDf": true,
        "dataframeName": "_sqldf",
        "executionCount": 102
       },
       "overflow": false,
       "plotOptions": {
        "customPlotOptions": {},
        "displayType": "table",
        "pivotAggregation": null,
        "pivotColumns": null,
        "xColumns": null,
        "yColumns": null
       },
       "removedWidgets": [],
       "schema": [
        {
         "metadata": "{}",
         "name": "rating_bin",
         "type": "\"double\""
        },
        {
         "metadata": "{}",
         "name": "n",
         "type": "\"long\""
        }
       ],
       "type": "table"
      }
     },
     "output_type": "display_data"
    }
   ],
   "source": [
    "%sql\n",
    "SELECT\n",
    "  CAST(FLOOR(player_rating * 2)/2.0 AS DOUBLE) AS rating_bin,  -- bins de 0.5\n",
    "  COUNT(*) AS n\n",
    "FROM players_match\n",
    "WHERE player_rating IS NOT NULL\n",
    "GROUP BY CAST(FLOOR(player_rating * 2)/2.0 AS DOUBLE)\n",
    "ORDER BY rating_bin;\n"
   ]
  },
  {
   "cell_type": "markdown",
   "metadata": {
    "application/vnd.databricks.v1+cell": {
     "cellMetadata": {
      "byteLimit": 2048000,
      "rowLimit": 10000
     },
     "inputWidgets": {},
     "nuid": "b0e3830f-7c86-4da6-8995-076728390243",
     "showTitle": false,
     "tableResultSettingsMap": {},
     "title": ""
    }
   },
   "source": [
    "Posesión vs tiros a puerta del equipo "
   ]
  },
  {
   "cell_type": "code",
   "execution_count": 0,
   "metadata": {
    "application/vnd.databricks.v1+cell": {
     "cellMetadata": {
      "byteLimit": 2048000,
      "implicitDf": true,
      "rowLimit": 10000
     },
     "inputWidgets": {},
     "nuid": "aadb5bc4-51b0-4037-b126-da60bbb7c4a4",
     "showTitle": false,
     "tableResultSettingsMap": {},
     "title": ""
    }
   },
   "outputs": [
    {
     "output_type": "display_data",
     "data": {
      "text/html": [
       "<style scoped>\n",
       "  .table-result-container {\n",
       "    max-height: 300px;\n",
       "    overflow: auto;\n",
       "  }\n",
       "  table, th, td {\n",
       "    border: 1px solid black;\n",
       "    border-collapse: collapse;\n",
       "  }\n",
       "  th, td {\n",
       "    padding: 5px;\n",
       "  }\n",
       "  th {\n",
       "    text-align: left;\n",
       "  }\n",
       "</style><div class='table-result-container'><table class='table-result'><thead style='background-color: white'><tr><th>possession_pct_rounded</th><th>avg_acc_pass</th></tr></thead><tbody><tr><td>17.0</td><td>142.0</td></tr><tr><td>18.0</td><td>133.0</td></tr><tr><td>19.0</td><td>88.0</td></tr><tr><td>20.0</td><td>114.0</td></tr><tr><td>21.0</td><td>123.2</td></tr><tr><td>22.0</td><td>136.0</td></tr><tr><td>23.0</td><td>158.4</td></tr><tr><td>24.0</td><td>119.0</td></tr><tr><td>25.0</td><td>177.0</td></tr><tr><td>26.0</td><td>174.125</td></tr><tr><td>27.0</td><td>179.5</td></tr><tr><td>28.0</td><td>184.0</td></tr><tr><td>29.0</td><td>193.88888888888889</td></tr><tr><td>30.0</td><td>188.1818181818182</td></tr><tr><td>31.0</td><td>184.33333333333334</td></tr><tr><td>32.0</td><td>204.92857142857142</td></tr><tr><td>33.0</td><td>230.0</td></tr><tr><td>34.0</td><td>223.5</td></tr><tr><td>35.0</td><td>226.30769230769232</td></tr><tr><td>36.0</td><td>258.1</td></tr><tr><td>37.0</td><td>224.69230769230768</td></tr><tr><td>38.0</td><td>242.05882352941177</td></tr><tr><td>39.0</td><td>254.8</td></tr><tr><td>40.0</td><td>249.13333333333333</td></tr><tr><td>41.0</td><td>259.14285714285717</td></tr><tr><td>42.0</td><td>301.7</td></tr><tr><td>43.0</td><td>268.05263157894734</td></tr><tr><td>44.0</td><td>283.5652173913044</td></tr><tr><td>45.0</td><td>296.8333333333333</td></tr><tr><td>46.0</td><td>297.6</td></tr><tr><td>47.0</td><td>294.8695652173913</td></tr><tr><td>48.0</td><td>303.2083333333333</td></tr><tr><td>49.0</td><td>331.56</td></tr><tr><td>50.0</td><td>315.125</td></tr><tr><td>51.0</td><td>352.5769230769231</td></tr><tr><td>52.0</td><td>332.6363636363636</td></tr><tr><td>53.0</td><td>336.1666666666667</td></tr><tr><td>54.0</td><td>381.25</td></tr><tr><td>55.0</td><td>385.94736842105266</td></tr><tr><td>56.0</td><td>394.45</td></tr><tr><td>57.0</td><td>384.8636363636364</td></tr><tr><td>58.0</td><td>445.05263157894734</td></tr><tr><td>59.0</td><td>442.9230769230769</td></tr><tr><td>60.0</td><td>428.94117647058823</td></tr><tr><td>61.0</td><td>440.2857142857143</td></tr><tr><td>62.0</td><td>464.125</td></tr><tr><td>63.0</td><td>456.64285714285717</td></tr><tr><td>64.0</td><td>500.1666666666667</td></tr><tr><td>65.0</td><td>493.0769230769231</td></tr><tr><td>66.0</td><td>503.22222222222223</td></tr><tr><td>67.0</td><td>578.8571428571429</td></tr><tr><td>68.0</td><td>538.2142857142857</td></tr><tr><td>69.0</td><td>515.8</td></tr><tr><td>70.0</td><td>571.9</td></tr><tr><td>71.0</td><td>612.9090909090909</td></tr><tr><td>72.0</td><td>615.6666666666666</td></tr><tr><td>73.0</td><td>640.6</td></tr><tr><td>74.0</td><td>684.1666666666666</td></tr><tr><td>75.0</td><td>683.875</td></tr><tr><td>76.0</td><td>566.0</td></tr><tr><td>77.0</td><td>714.4</td></tr><tr><td>78.0</td><td>727.0</td></tr><tr><td>79.0</td><td>735.2</td></tr><tr><td>80.0</td><td>642.0</td></tr><tr><td>81.0</td><td>665.5</td></tr><tr><td>82.0</td><td>905.0</td></tr><tr><td>83.0</td><td>942.0</td></tr></tbody></table></div>"
      ]
     },
     "metadata": {
      "application/vnd.databricks.v1+output": {
       "addedWidgets": {},
       "aggData": [],
       "aggError": "",
       "aggOverflow": false,
       "aggSchema": [],
       "aggSeriesLimitReached": false,
       "aggType": "",
       "arguments": {},
       "columnCustomDisplayInfos": {},
       "data": [
        [
         17.0,
         142.0
        ],
        [
         18.0,
         133.0
        ],
        [
         19.0,
         88.0
        ],
        [
         20.0,
         114.0
        ],
        [
         21.0,
         123.2
        ],
        [
         22.0,
         136.0
        ],
        [
         23.0,
         158.4
        ],
        [
         24.0,
         119.0
        ],
        [
         25.0,
         177.0
        ],
        [
         26.0,
         174.125
        ],
        [
         27.0,
         179.5
        ],
        [
         28.0,
         184.0
        ],
        [
         29.0,
         193.88888888888889
        ],
        [
         30.0,
         188.1818181818182
        ],
        [
         31.0,
         184.33333333333334
        ],
        [
         32.0,
         204.92857142857142
        ],
        [
         33.0,
         230.0
        ],
        [
         34.0,
         223.5
        ],
        [
         35.0,
         226.30769230769232
        ],
        [
         36.0,
         258.1
        ],
        [
         37.0,
         224.69230769230768
        ],
        [
         38.0,
         242.05882352941177
        ],
        [
         39.0,
         254.8
        ],
        [
         40.0,
         249.13333333333333
        ],
        [
         41.0,
         259.14285714285717
        ],
        [
         42.0,
         301.7
        ],
        [
         43.0,
         268.05263157894734
        ],
        [
         44.0,
         283.5652173913044
        ],
        [
         45.0,
         296.8333333333333
        ],
        [
         46.0,
         297.6
        ],
        [
         47.0,
         294.8695652173913
        ],
        [
         48.0,
         303.2083333333333
        ],
        [
         49.0,
         331.56
        ],
        [
         50.0,
         315.125
        ],
        [
         51.0,
         352.5769230769231
        ],
        [
         52.0,
         332.6363636363636
        ],
        [
         53.0,
         336.1666666666667
        ],
        [
         54.0,
         381.25
        ],
        [
         55.0,
         385.94736842105266
        ],
        [
         56.0,
         394.45
        ],
        [
         57.0,
         384.8636363636364
        ],
        [
         58.0,
         445.05263157894734
        ],
        [
         59.0,
         442.9230769230769
        ],
        [
         60.0,
         428.94117647058823
        ],
        [
         61.0,
         440.2857142857143
        ],
        [
         62.0,
         464.125
        ],
        [
         63.0,
         456.64285714285717
        ],
        [
         64.0,
         500.1666666666667
        ],
        [
         65.0,
         493.0769230769231
        ],
        [
         66.0,
         503.22222222222223
        ],
        [
         67.0,
         578.8571428571429
        ],
        [
         68.0,
         538.2142857142857
        ],
        [
         69.0,
         515.8
        ],
        [
         70.0,
         571.9
        ],
        [
         71.0,
         612.9090909090909
        ],
        [
         72.0,
         615.6666666666666
        ],
        [
         73.0,
         640.6
        ],
        [
         74.0,
         684.1666666666666
        ],
        [
         75.0,
         683.875
        ],
        [
         76.0,
         566.0
        ],
        [
         77.0,
         714.4
        ],
        [
         78.0,
         727.0
        ],
        [
         79.0,
         735.2
        ],
        [
         80.0,
         642.0
        ],
        [
         81.0,
         665.5
        ],
        [
         82.0,
         905.0
        ],
        [
         83.0,
         942.0
        ]
       ],
       "datasetInfos": [
        {
         "name": "_sqldf",
         "schema": {
          "fields": [
           {
            "metadata": {},
            "name": "possession_pct_rounded",
            "nullable": true,
            "type": "double"
           },
           {
            "metadata": {},
            "name": "avg_acc_pass",
            "nullable": true,
            "type": "double"
           }
          ],
          "type": "struct"
         },
         "tableIdentifier": null,
         "typeStr": "pyspark.sql.connect.dataframe.DataFrame"
        }
       ],
       "dbfsResultPath": null,
       "isJsonSchema": true,
       "metadata": {
        "createTempViewForImplicitDf": true,
        "dataframeName": "_sqldf",
        "executionCount": 103
       },
       "overflow": false,
       "plotOptions": {
        "customPlotOptions": {},
        "displayType": "table",
        "pivotAggregation": null,
        "pivotColumns": null,
        "xColumns": null,
        "yColumns": null
       },
       "removedWidgets": [],
       "schema": [
        {
         "metadata": "{}",
         "name": "possession_pct_rounded",
         "type": "\"double\""
        },
        {
         "metadata": "{}",
         "name": "avg_acc_pass",
         "type": "\"double\""
        }
       ],
       "type": "table"
      }
     },
     "output_type": "display_data"
    }
   ],
   "source": [
    "%sql\n",
    "SELECT\n",
    "  ROUND(possession_percentage, 0) AS possession_pct_rounded,\n",
    "  AVG(accurate_pass) AS avg_acc_pass\n",
    "FROM teams\n",
    "WHERE possession_percentage IS NOT NULL\n",
    "GROUP BY ROUND(possession_percentage, 0)\n",
    "ORDER BY possession_pct_rounded;"
   ]
  },
  {
   "cell_type": "markdown",
   "metadata": {
    "application/vnd.databricks.v1+cell": {
     "cellMetadata": {
      "byteLimit": 2048000,
      "rowLimit": 10000
     },
     "inputWidgets": {},
     "nuid": "d68e20a2-e8f8-4c3c-aaf3-fbcda588a73f",
     "showTitle": false,
     "tableResultSettingsMap": {},
     "title": ""
    }
   },
   "source": [
    "Goles por resultado (FTR)"
   ]
  },
  {
   "cell_type": "code",
   "execution_count": 0,
   "metadata": {
    "application/vnd.databricks.v1+cell": {
     "cellMetadata": {
      "byteLimit": 2048000,
      "implicitDf": true,
      "rowLimit": 10000
     },
     "inputWidgets": {},
     "nuid": "74af5108-cf1c-4a4e-adba-aeb2d8674200",
     "showTitle": false,
     "tableResultSettingsMap": {},
     "title": ""
    }
   },
   "outputs": [
    {
     "output_type": "display_data",
     "data": {
      "text/html": [
       "<style scoped>\n",
       "  .table-result-container {\n",
       "    max-height: 300px;\n",
       "    overflow: auto;\n",
       "  }\n",
       "  table, th, td {\n",
       "    border: 1px solid black;\n",
       "    border-collapse: collapse;\n",
       "  }\n",
       "  th, td {\n",
       "    padding: 5px;\n",
       "  }\n",
       "  th {\n",
       "    text-align: left;\n",
       "  }\n",
       "</style><div class='table-result-container'><table class='table-result'><thead style='background-color: white'><tr><th>FTR</th><th>avg_home_goals</th><th>avg_away_goals</th></tr></thead><tbody><tr><td>A</td><td>0.5691236950332174</td><td>2.274280291047137</td></tr><tr><td>D</td><td>0.9696229050279329</td><td>0.9696229050279329</td></tr><tr><td>H</td><td>2.4166666666666665</td><td>0.5343946540880503</td></tr></tbody></table></div>"
      ]
     },
     "metadata": {
      "application/vnd.databricks.v1+output": {
       "addedWidgets": {},
       "aggData": [],
       "aggError": "",
       "aggOverflow": false,
       "aggSchema": [],
       "aggSeriesLimitReached": false,
       "aggType": "",
       "arguments": {},
       "columnCustomDisplayInfos": {},
       "data": [
        [
         "A",
         0.5691236950332174,
         2.274280291047137
        ],
        [
         "D",
         0.9696229050279329,
         0.9696229050279329
        ],
        [
         "H",
         2.4166666666666665,
         0.5343946540880503
        ]
       ],
       "datasetInfos": [
        {
         "name": "_sqldf",
         "schema": {
          "fields": [
           {
            "metadata": {},
            "name": "FTR",
            "nullable": true,
            "type": "string"
           },
           {
            "metadata": {},
            "name": "avg_home_goals",
            "nullable": true,
            "type": "double"
           },
           {
            "metadata": {},
            "name": "avg_away_goals",
            "nullable": true,
            "type": "double"
           }
          ],
          "type": "struct"
         },
         "tableIdentifier": null,
         "typeStr": "pyspark.sql.connect.dataframe.DataFrame"
        }
       ],
       "dbfsResultPath": null,
       "isJsonSchema": true,
       "metadata": {
        "createTempViewForImplicitDf": true,
        "dataframeName": "_sqldf",
        "executionCount": 104
       },
       "overflow": false,
       "plotOptions": {
        "customPlotOptions": {},
        "displayType": "table",
        "pivotAggregation": null,
        "pivotColumns": null,
        "xColumns": null,
        "yColumns": null
       },
       "removedWidgets": [],
       "schema": [
        {
         "metadata": "{}",
         "name": "FTR",
         "type": "\"string\""
        },
        {
         "metadata": "{}",
         "name": "avg_home_goals",
         "type": "\"double\""
        },
        {
         "metadata": "{}",
         "name": "avg_away_goals",
         "type": "\"double\""
        }
       ],
       "type": "table"
      }
     },
     "output_type": "display_data"
    }
   ],
   "source": [
    "%sql\n",
    "SELECT\n",
    "  FTR,\n",
    "  AVG(FTHG) AS avg_home_goals,\n",
    "  AVG(FTAG) AS avg_away_goals\n",
    "FROM results\n",
    "GROUP BY FTR\n",
    "ORDER BY FTR;\n"
   ]
  },
  {
   "cell_type": "markdown",
   "metadata": {
    "application/vnd.databricks.v1+cell": {
     "cellMetadata": {},
     "inputWidgets": {},
     "nuid": "9d7daed7-bdef-4108-831f-b87b496c9431",
     "showTitle": false,
     "tableResultSettingsMap": {},
     "title": ""
    }
   },
   "source": [
    "Definimos unas funciones para construir unas graficas visuales"
   ]
  },
  {
   "cell_type": "code",
   "execution_count": 0,
   "metadata": {
    "application/vnd.databricks.v1+cell": {
     "cellMetadata": {
      "byteLimit": 2048000,
      "rowLimit": 10000
     },
     "inputWidgets": {},
     "nuid": "46996299-f763-49d6-8a55-d6b1a79a00f3",
     "showTitle": false,
     "tableResultSettingsMap": {},
     "title": ""
    }
   },
   "outputs": [],
   "source": [
    "import os, pandas as pd\n",
    "import matplotlib.pyplot as plt\n",
    "\n",
    "catalog = \"workspace\"; schema = \"default\"; volume = \"parcial\"\n",
    "BASE = f\"/Volumes/{catalog}/{schema}/{volume}\"\n",
    "OUT_FIGS = f\"/{BASE}/figs\"; os.makedirs(OUT_FIGS, exist_ok=True)\n"
   ]
  },
  {
   "cell_type": "code",
   "execution_count": 0,
   "metadata": {
    "application/vnd.databricks.v1+cell": {
     "cellMetadata": {
      "byteLimit": 2048000,
      "rowLimit": 10000
     },
     "inputWidgets": {},
     "nuid": "eb27bd2c-518e-4f1d-acfa-95c8b53151c6",
     "showTitle": false,
     "tableResultSettingsMap": {},
     "title": ""
    }
   },
   "outputs": [],
   "source": [
    "def styled_fig(title=None, xlabel=None, ylabel=None):\n",
    "    fig, ax = plt.subplots(num=None, figsize=(13, 7), facecolor='w', edgecolor='k')\n",
    "    if title: fig.suptitle(title)\n",
    "    if xlabel: ax.set_xlabel(xlabel)\n",
    "    if ylabel: ax.set_ylabel(ylabel)\n",
    "    ax.grid(True)\n",
    "    return fig, ax\n"
   ]
  },
  {
   "cell_type": "code",
   "execution_count": 0,
   "metadata": {
    "application/vnd.databricks.v1+cell": {
     "cellMetadata": {
      "byteLimit": 2048000,
      "rowLimit": 10000
     },
     "inputWidgets": {},
     "nuid": "8f693c48-9e0e-4852-a0b2-8604c65c6306",
     "showTitle": false,
     "tableResultSettingsMap": {},
     "title": ""
    }
   },
   "outputs": [],
   "source": [
    "def _series_from_df(obj, col, sample_limit=300_000):\n",
    "    \"\"\"Devuelve una pd.Series numérica desde Spark o pandas DF.\"\"\"\n",
    "    import pandas as pd\n",
    "    # Spark DF: tiene .select\n",
    "    if hasattr(obj, \"select\"):\n",
    "        from pyspark.sql import functions as F\n",
    "        sdf = obj.select(F.col(col)).where(F.col(col).isNotNull())\n",
    "        pdf = sdf.limit(sample_limit).toPandas()\n",
    "        return pd.to_numeric(pdf[col], errors=\"coerce\").dropna()\n",
    "    # pandas DF: tiene .columns pero no .select\n",
    "    elif hasattr(obj, \"columns\"):\n",
    "        return pd.to_numeric(obj[col], errors=\"coerce\").dropna()\n",
    "    else:\n",
    "        raise TypeError(\"Objeto no reconocido: se espera Spark o pandas DataFrame.\")"
   ]
  },
  {
   "cell_type": "code",
   "execution_count": 0,
   "metadata": {
    "application/vnd.databricks.v1+cell": {
     "cellMetadata": {
      "byteLimit": 2048000,
      "rowLimit": 10000
     },
     "inputWidgets": {},
     "nuid": "90a38328-bc92-4848-a16a-480a63a68987",
     "showTitle": false,
     "tableResultSettingsMap": {},
     "title": ""
    }
   },
   "outputs": [],
   "source": [
    "def hist_df(obj, col, bins=20, title=None, xlabel=None, ylabel=\"Frecuencia\", filename=None):\n",
    "    s = _series_from_df(obj, col)\n",
    "    fig, ax = styled_fig(title or f\"Histograma: {col}\", xlabel or col, ylabel)\n",
    "    ax.hist(s, bins=bins, label=col)\n",
    "    ax.legend(); plt.tight_layout()\n",
    "    if filename:\n",
    "        path = os.path.join(OUT_FIGS, filename); plt.savefig(path, dpi=150); print(f\"Guardado: {path}\")\n",
    "    plt.show()"
   ]
  },
  {
   "cell_type": "code",
   "execution_count": 0,
   "metadata": {
    "application/vnd.databricks.v1+cell": {
     "cellMetadata": {
      "byteLimit": 2048000,
      "rowLimit": 10000
     },
     "inputWidgets": {},
     "nuid": "63f05b64-ad82-4b97-9c4d-d0f8c4e6d38e",
     "showTitle": false,
     "tableResultSettingsMap": {},
     "title": ""
    }
   },
   "outputs": [],
   "source": [
    "def scatter_df(obj, x_col, y_col, title=None, xlabel=None, ylabel=None, filename=None, alpha=0.25):\n",
    "    # Construye DataFrame pandas con ambas columnas\n",
    "    if hasattr(obj, \"select\"):\n",
    "        from pyspark.sql import functions as F\n",
    "        pdf = (obj.select(x_col, y_col)\n",
    "                 .where(F.col(x_col).isNotNull() & F.col(y_col).isNotNull())\n",
    "                 .limit(300_000).toPandas().dropna())\n",
    "    else:\n",
    "        pdf = obj[[x_col, y_col]].dropna()\n",
    "    fig, ax = styled_fig(title or f\"{y_col} vs {x_col}\", xlabel or x_col, ylabel or y_col)\n",
    "    ax.scatter(pdf[x_col].values, pdf[y_col].values, alpha=alpha, label=f\"{y_col} vs {x_col}\")\n",
    "    ax.legend(); plt.tight_layout()\n",
    "    if filename:\n",
    "        path = os.path.join(OUT_FIGS, filename); plt.savefig(path, dpi=150); print(f\"Guardado: {path}\")\n",
    "    plt.show()"
   ]
  },
  {
   "cell_type": "code",
   "execution_count": 0,
   "metadata": {
    "application/vnd.databricks.v1+cell": {
     "cellMetadata": {
      "byteLimit": 2048000,
      "rowLimit": 10000
     },
     "inputWidgets": {},
     "nuid": "a3258d76-7c80-46b0-9434-cffdefd6ea35",
     "showTitle": false,
     "tableResultSettingsMap": {},
     "title": ""
    }
   },
   "outputs": [],
   "source": [
    "from pyspark.sql import DataFrame\n",
    "from pyspark.sql import functions as F\n",
    "\n",
    "catalog = \"workspace\"; schema = \"default\"; volume = \"parcial\"\n",
    "BASE = f\"/Volumes/{catalog}/{schema}/{volume}\"\n",
    "\n",
    "def ensure_df(name: str, view_name: str, csv_path: str) -> DataFrame:\n",
    "    # 1) ¿ya existe en variables?\n",
    "    obj = globals().get(name, None)\n",
    "    if isinstance(obj, DataFrame):\n",
    "        print(f\"{name}: ya existía en memoria\")\n",
    "        return obj\n",
    "\n",
    "    # 2) ¿existe una VIEW/TABLE con ese nombre?\n",
    "    try:\n",
    "        df = spark.table(view_name)\n",
    "        print(f\"{name}: cargado desde VIEW/TABLE '{view_name}'\")\n",
    "    except Exception:\n",
    "        # 3) lee el CSV desde Volumes\n",
    "        path = f\"{BASE}/{csv_path}\"\n",
    "        df = (spark.read.option(\"header\",\"true\").option(\"inferSchema\",\"true\").csv(path))\n",
    "        print(f\"{name}: cargado desde {path}\")\n",
    "\n",
    "    globals()[name] = df\n",
    "    return df\n"
   ]
  },
  {
   "cell_type": "code",
   "execution_count": 0,
   "metadata": {
    "application/vnd.databricks.v1+cell": {
     "cellMetadata": {
      "byteLimit": 2048000,
      "rowLimit": 10000
     },
     "inputWidgets": {},
     "nuid": "074ef112-f58a-4de6-aeaa-051cd69d598b",
     "showTitle": false,
     "tableResultSettingsMap": {},
     "title": ""
    }
   },
   "outputs": [
    {
     "output_type": "stream",
     "name": "stdout",
     "output_type": "stream",
     "text": [
      "BASE = /Volumes/workspace/default/parcial\nContenido de BASE:\n"
     ]
    },
    {
     "output_type": "display_data",
     "data": {
      "text/html": [
       "<style scoped>\n",
       "  .table-result-container {\n",
       "    max-height: 300px;\n",
       "    overflow: auto;\n",
       "  }\n",
       "  table, th, td {\n",
       "    border: 1px solid black;\n",
       "    border-collapse: collapse;\n",
       "  }\n",
       "  th, td {\n",
       "    padding: 5px;\n",
       "  }\n",
       "  th {\n",
       "    text-align: left;\n",
       "  }\n",
       "</style><div class='table-result-container'><table class='table-result'><thead style='background-color: white'><tr><th>path</th><th>name</th><th>size</th><th>modificationTime</th></tr></thead><tbody><tr><td>dbfs:/Volumes/workspace/default/parcial/csv_out/</td><td>csv_out/</td><td>0</td><td>1757307712059</td></tr><tr><td>dbfs:/Volumes/workspace/default/parcial/figs/</td><td>figs/</td><td>0</td><td>1757307712059</td></tr><tr><td>dbfs:/Volumes/workspace/default/parcial/jugadores.csv</td><td>jugadores.csv</td><td>34635</td><td>1757233043000</td></tr><tr><td>dbfs:/Volumes/workspace/default/parcial/resultados_futbol.csv</td><td>resultados_futbol.csv</td><td>1082023</td><td>1757233043000</td></tr><tr><td>dbfs:/Volumes/workspace/default/parcial/temporadas.json</td><td>temporadas.json</td><td>10371723</td><td>1757233045000</td></tr></tbody></table></div>"
      ]
     },
     "metadata": {
      "application/vnd.databricks.v1+output": {
       "addedWidgets": {},
       "aggData": [],
       "aggError": "",
       "aggOverflow": false,
       "aggSchema": [],
       "aggSeriesLimitReached": false,
       "aggType": "",
       "arguments": {},
       "columnCustomDisplayInfos": {},
       "data": [
        [
         "dbfs:/Volumes/workspace/default/parcial/csv_out/",
         "csv_out/",
         0,
         1757307712059
        ],
        [
         "dbfs:/Volumes/workspace/default/parcial/figs/",
         "figs/",
         0,
         1757307712059
        ],
        [
         "dbfs:/Volumes/workspace/default/parcial/jugadores.csv",
         "jugadores.csv",
         34635,
         1757233043000
        ],
        [
         "dbfs:/Volumes/workspace/default/parcial/resultados_futbol.csv",
         "resultados_futbol.csv",
         1082023,
         1757233043000
        ],
        [
         "dbfs:/Volumes/workspace/default/parcial/temporadas.json",
         "temporadas.json",
         10371723,
         1757233045000
        ]
       ],
       "datasetInfos": [],
       "dbfsResultPath": null,
       "isJsonSchema": true,
       "metadata": {},
       "overflow": false,
       "plotOptions": {
        "customPlotOptions": {},
        "displayType": "table",
        "pivotAggregation": null,
        "pivotColumns": null,
        "xColumns": null,
        "yColumns": null
       },
       "removedWidgets": [],
       "schema": [
        {
         "metadata": "{}",
         "name": "path",
         "type": "\"string\""
        },
        {
         "metadata": "{}",
         "name": "name",
         "type": "\"string\""
        },
        {
         "metadata": "{}",
         "name": "size",
         "type": "\"long\""
        },
        {
         "metadata": "{}",
         "name": "modificationTime",
         "type": "\"long\""
        }
       ],
       "type": "table"
      }
     },
     "output_type": "display_data"
    }
   ],
   "source": [
    "# Lista lo que hay en el Volume\n",
    "print(\"BASE =\", BASE)\n",
    "print(\"Contenido de BASE:\")\n",
    "display(dbutils.fs.ls(BASE))"
   ]
  },
  {
   "cell_type": "code",
   "execution_count": 0,
   "metadata": {
    "application/vnd.databricks.v1+cell": {
     "cellMetadata": {
      "byteLimit": 2048000,
      "rowLimit": 10000
     },
     "inputWidgets": {},
     "nuid": "08483a25-bc98-49ce-a237-76e4f998f691",
     "showTitle": false,
     "tableResultSettingsMap": {},
     "title": ""
    }
   },
   "outputs": [
    {
     "output_type": "stream",
     "name": "stdout",
     "output_type": "stream",
     "text": [
      "Contenido de csv_out:\n"
     ]
    },
    {
     "output_type": "display_data",
     "data": {
      "text/html": [
       "<style scoped>\n",
       "  .table-result-container {\n",
       "    max-height: 300px;\n",
       "    overflow: auto;\n",
       "  }\n",
       "  table, th, td {\n",
       "    border: 1px solid black;\n",
       "    border-collapse: collapse;\n",
       "  }\n",
       "  th, td {\n",
       "    padding: 5px;\n",
       "  }\n",
       "  th {\n",
       "    text-align: left;\n",
       "  }\n",
       "</style><div class='table-result-container'><table class='table-result'><thead style='background-color: white'><tr><th>path</th><th>name</th><th>size</th><th>modificationTime</th></tr></thead><tbody><tr><td>dbfs:/Volumes/workspace/default/parcial/csv_out/JugadoresJSON.csv</td><td>JugadoresJSON.csv</td><td>1105537</td><td>1757307576000</td></tr><tr><td>dbfs:/Volumes/workspace/default/parcial/csv_out/TeamsJSON.csv</td><td>TeamsJSON.csv</td><td>95138</td><td>1757307575000</td></tr></tbody></table></div>"
      ]
     },
     "metadata": {
      "application/vnd.databricks.v1+output": {
       "addedWidgets": {},
       "aggData": [],
       "aggError": "",
       "aggOverflow": false,
       "aggSchema": [],
       "aggSeriesLimitReached": false,
       "aggType": "",
       "arguments": {},
       "columnCustomDisplayInfos": {},
       "data": [
        [
         "dbfs:/Volumes/workspace/default/parcial/csv_out/JugadoresJSON.csv",
         "JugadoresJSON.csv",
         1105537,
         1757307576000
        ],
        [
         "dbfs:/Volumes/workspace/default/parcial/csv_out/TeamsJSON.csv",
         "TeamsJSON.csv",
         95138,
         1757307575000
        ]
       ],
       "datasetInfos": [],
       "dbfsResultPath": null,
       "isJsonSchema": true,
       "metadata": {},
       "overflow": false,
       "plotOptions": {
        "customPlotOptions": {},
        "displayType": "table",
        "pivotAggregation": null,
        "pivotColumns": null,
        "xColumns": null,
        "yColumns": null
       },
       "removedWidgets": [],
       "schema": [
        {
         "metadata": "{}",
         "name": "path",
         "type": "\"string\""
        },
        {
         "metadata": "{}",
         "name": "name",
         "type": "\"string\""
        },
        {
         "metadata": "{}",
         "name": "size",
         "type": "\"long\""
        },
        {
         "metadata": "{}",
         "name": "modificationTime",
         "type": "\"long\""
        }
       ],
       "type": "table"
      }
     },
     "output_type": "display_data"
    }
   ],
   "source": [
    "try:\n",
    "    print(\"Contenido de csv_out:\")\n",
    "    display(dbutils.fs.ls(f\"{BASE}/csv_out\"))\n",
    "except Exception as e:\n",
    "    print(\"No hay csv_out o no es accesible:\", e)"
   ]
  },
  {
   "cell_type": "code",
   "execution_count": 0,
   "metadata": {
    "application/vnd.databricks.v1+cell": {
     "cellMetadata": {
      "byteLimit": 2048000,
      "rowLimit": 10000
     },
     "inputWidgets": {},
     "nuid": "fdceead7-b22a-4746-b12f-5454df632001",
     "showTitle": false,
     "tableResultSettingsMap": {},
     "title": ""
    }
   },
   "outputs": [],
   "source": [
    "# Heurística: busca un archivo/directorio que parezca players_match\n",
    "def pick_first_match(dirpath, candidates):\n",
    "    try:\n",
    "        items = dbutils.fs.ls(dirpath)\n",
    "    except Exception:\n",
    "        return None\n",
    "    names = [it.name.rstrip(\"/\") for it in items]\n",
    "    for cand in candidates:\n",
    "        for nm in names:\n",
    "            if nm.lower() == cand.lower():\n",
    "                return f\"{dirpath}/{nm}\"\n",
    "    # coincidencia relajada (empieza con…)\n",
    "    for cand in candidates:\n",
    "        for nm in names:\n",
    "            if nm.lower().startswith(cand.lower()):\n",
    "                return f\"{dirpath}/{nm}\"\n",
    "    return None"
   ]
  },
  {
   "cell_type": "code",
   "execution_count": 0,
   "metadata": {
    "application/vnd.databricks.v1+cell": {
     "cellMetadata": {
      "byteLimit": 2048000,
      "rowLimit": 10000
     },
     "inputWidgets": {},
     "nuid": "99d103c3-72b5-4b07-bbc9-99de0a6feab8",
     "showTitle": false,
     "tableResultSettingsMap": {},
     "title": ""
    }
   },
   "outputs": [
    {
     "output_type": "stream",
     "name": "stdout",
     "output_type": "stream",
     "text": [
      "Usando ruta: /Volumes/workspace/default/parcial/csv_out/JugadoresJSON.csv\n"
     ]
    }
   ],
   "source": [
    "# candidatos comunes (ajusta si ves otros en el listado)\n",
    "cands = [\"JugadoresJSON.csv\", \"JugadoresJSON\", \"players_match.csv\", \"players_match\"]\n",
    "pm_path = (pick_first_match(f\"{BASE}/csv_out\", cands)\n",
    "           or pick_first_match(BASE, cands))\n",
    "\n",
    "if pm_path is None:\n",
    "    raise FileNotFoundError(\"No encontré el CSV de jugadores-partido. Mira los listados arriba y dime el nombre exacto.\")\n",
    "\n",
    "print(\"Usando ruta:\", pm_path)"
   ]
  },
  {
   "cell_type": "code",
   "execution_count": 0,
   "metadata": {
    "application/vnd.databricks.v1+cell": {
     "cellMetadata": {
      "byteLimit": 2048000,
      "rowLimit": 10000
     },
     "inputWidgets": {},
     "nuid": "29df38e4-498c-4dde-8b23-151a52fffda2",
     "showTitle": false,
     "tableResultSettingsMap": {},
     "title": ""
    }
   },
   "outputs": [
    {
     "output_type": "stream",
     "name": "stdout",
     "output_type": "stream",
     "text": [
      "cols players_match: ['match', 'team', 'player_name', 'player_id', 'player_position_value', 'player_position_info', 'player_rating', 'good_high_claim', 'touches', 'saves', 'total_pass', 'formation_place'] ...\n"
     ]
    }
   ],
   "source": [
    "# Carga definitiva\n",
    "df_players_match = (spark.read.option(\"header\",\"true\").option(\"inferSchema\",\"true\").csv(pm_path))\n",
    "print(\"cols players_match:\", df_players_match.columns[:12], \"...\")"
   ]
  },
  {
   "cell_type": "code",
   "execution_count": 0,
   "metadata": {
    "application/vnd.databricks.v1+cell": {
     "cellMetadata": {
      "byteLimit": 2048000,
      "rowLimit": 10000
     },
     "inputWidgets": {},
     "nuid": "bd14e15e-b5cf-4253-8b23-a2eebe036a88",
     "showTitle": false,
     "tableResultSettingsMap": {},
     "title": ""
    }
   },
   "outputs": [
    {
     "output_type": "stream",
     "name": "stdout",
     "output_type": "stream",
     "text": [
      "Guardado: //Volumes/workspace/default/parcial/figs/hist_teams_possession.png\n"
     ]
    },
    {
     "output_type": "display_data",
     "data": {
      "image/png": "[encoded data removed]",
      "text/plain": [
       "<Figure size 1300x700 with 1 Axes>"
      ]
     },
     "metadata": {},
     "output_type": "display_data"
    },
    {
     "output_type": "stream",
     "name": "stdout",
     "output_type": "stream",
     "text": [
      "Guardado: //Volumes/workspace/default/parcial/figs/hist_players_rating.png\n"
     ]
    },
    {
     "output_type": "display_data",
     "data": {
      "image/png": "[encoded data removed]",
      "text/plain": [
       "<Figure size 1300x700 with 1 Axes>"
      ]
     },
     "metadata": {},
     "output_type": "display_data"
    },
    {
     "output_type": "stream",
     "name": "stdout",
     "output_type": "stream",
     "text": [
      "Guardado: //Volumes/workspace/default/parcial/figs/scatter_players_shots_vs_rating.png\n"
     ]
    },
    {
     "output_type": "display_data",
     "data": {
      "image/png": "[encoded data removed]",
      "text/plain": [
       "<Figure size 1300x700 with 1 Axes>"
      ]
     },
     "metadata": {},
     "output_type": "display_data"
    }
   ],
   "source": [
    "# Histogramas/Scatter (usa los helpers hist_df / scatter_df que ya definiste)\n",
    "hist_df(df_teams, \"possession_percentage\", bins=20,\n",
    "        title=\"Equipos — Posesión (%)\",\n",
    "        filename=\"hist_teams_possession.png\")\n",
    "\n",
    "hist_df(df_players_match, \"player_rating\", bins=20,\n",
    "        title=\"Jugadores — Rating\",\n",
    "        filename=\"hist_players_rating.png\")\n",
    "\n",
    "scatter_df(df_players_match, \"total_scoring_att\", \"player_rating\",\n",
    "           title=\"Tiros vs Rating (Jugadores)\",\n",
    "           filename=\"scatter_players_shots_vs_rating.png\")\n"
   ]
  },
  {
   "cell_type": "markdown",
   "metadata": {
    "application/vnd.databricks.v1+cell": {
     "cellMetadata": {},
     "inputWidgets": {},
     "nuid": "389b23c6-7819-45cf-a994-765a29fcf8c6",
     "showTitle": false,
     "tableResultSettingsMap": {},
     "title": ""
    }
   },
   "source": [
    "Construimos graficas para visualizar dos series"
   ]
  },
  {
   "cell_type": "code",
   "execution_count": 0,
   "metadata": {
    "application/vnd.databricks.v1+cell": {
     "cellMetadata": {
      "byteLimit": 2048000,
      "rowLimit": 10000
     },
     "inputWidgets": {},
     "nuid": "5d812f2d-a3c8-401c-ac98-5c01fcaa3595",
     "showTitle": false,
     "tableResultSettingsMap": {},
     "title": ""
    }
   },
   "outputs": [],
   "source": [
    "# ---- Doble serie: posesión (bin) vs métricas ----\n",
    "import pandas as pd\n",
    "import matplotlib.pyplot as plt"
   ]
  },
  {
   "cell_type": "code",
   "execution_count": 0,
   "metadata": {
    "application/vnd.databricks.v1+cell": {
     "cellMetadata": {
      "byteLimit": 2048000,
      "rowLimit": 10000
     },
     "inputWidgets": {},
     "nuid": "7e8c806c-8c4d-4858-a284-6e4d348e98b0",
     "showTitle": false,
     "tableResultSettingsMap": {},
     "title": ""
    }
   },
   "outputs": [],
   "source": [
    "# ---- Normaliza df_teams a pandas (solo columnas necesarias) ----\n",
    "if hasattr(df_teams, \"select\"):  # Spark DF\n",
    "    t = (df_teams\n",
    "         .select(\"possession_percentage\",\"accurate_pass\",\"team_rating\",\"match_id\",\"team_id\")\n",
    "         .toPandas())\n",
    "else:                             # pandas DF\n",
    "    t = df_teams"
   ]
  },
  {
   "cell_type": "code",
   "execution_count": 0,
   "metadata": {
    "application/vnd.databricks.v1+cell": {
     "cellMetadata": {
      "byteLimit": 2048000,
      "rowLimit": 10000
     },
     "inputWidgets": {},
     "nuid": "afa811df-2287-4796-af82-7c1c4f93106a",
     "showTitle": false,
     "tableResultSettingsMap": {},
     "title": ""
    }
   },
   "outputs": [],
   "source": [
    "# Tipos numéricos seguros\n",
    "for c in [\"possession_percentage\",\"accurate_pass\",\"team_rating\",\"match_id\",\"team_id\"]:\n",
    "    if c in t.columns:\n",
    "        t[c] = pd.to_numeric(t[c], errors=\"coerce\")\n",
    "\n",
    "t[\"pos_bin\"] = t[\"possession_percentage\"].round()"
   ]
  },
  {
   "cell_type": "code",
   "execution_count": 0,
   "metadata": {
    "application/vnd.databricks.v1+cell": {
     "cellMetadata": {
      "byteLimit": 2048000,
      "rowLimit": 10000
     },
     "inputWidgets": {},
     "nuid": "5589e74c-7435-48e9-a2b8-6f5993652806",
     "showTitle": false,
     "tableResultSettingsMap": {},
     "title": ""
    }
   },
   "outputs": [],
   "source": [
    "# Serie 1: pases acertados promedio (y rating si existe) por bin\n",
    "s1 = (t.groupby(\"pos_bin\", dropna=True)\n",
    "        .agg(avg_acc_pass=(\"accurate_pass\",\"mean\"),\n",
    "             avg_team_rating=(\"team_rating\",\"mean\"))\n",
    "        .reset_index()\n",
    "        .sort_values(\"pos_bin\"))\n",
    "\n",
    "pdf = s1.copy()\n"
   ]
  },
  {
   "cell_type": "code",
   "execution_count": 0,
   "metadata": {
    "application/vnd.databricks.v1+cell": {
     "cellMetadata": {
      "byteLimit": 2048000,
      "rowLimit": 10000
     },
     "inputWidgets": {},
     "nuid": "87078311-0219-4ea0-880f-d124aaedc6b7",
     "showTitle": false,
     "tableResultSettingsMap": {},
     "title": ""
    }
   },
   "outputs": [],
   "source": [
    "# ---- Serie 2 (opcional): tiros promedio por bin (desde players_match) ----\n",
    "if 'df_players_match' in globals():\n",
    "    if hasattr(df_players_match, \"select\"):  # Spark DF → agrega y baja a pandas\n",
    "        pm_pdf = (df_players_match\n",
    "                    .selectExpr(\"cast(match as int) as match_id\",\n",
    "                                \"cast(team as int) as team_id\",\n",
    "                                \"cast(total_scoring_att as double) as team_shots\")\n",
    "                    .groupBy(\"match_id\",\"team_id\")\n",
    "                    .sum(\"team_shots\")\n",
    "                    .withColumnRenamed(\"sum(team_shots)\",\"team_shots\")\n",
    "                    .toPandas())\n",
    "    else:                                     # pandas DF\n",
    "        pm_pdf = df_players_match[[\"match\",\"team\",\"total_scoring_att\"]].rename(\n",
    "            columns={\"match\":\"match_id\",\"team\":\"team_id\"})\n",
    "        pm_pdf[\"match_id\"]   = pd.to_numeric(pm_pdf[\"match_id\"], errors=\"coerce\")\n",
    "        pm_pdf[\"team_id\"]    = pd.to_numeric(pm_pdf[\"team_id\"], errors=\"coerce\")\n",
    "        pm_pdf[\"team_shots\"] = pd.to_numeric(pm_pdf[\"total_scoring_att\"], errors=\"coerce\")\n",
    "        pm_pdf = (pm_pdf.groupby([\"match_id\",\"team_id\"], dropna=True)[\"team_shots\"]\n",
    "                        .sum().reset_index())\n",
    "\n",
    "    # Une bin de posesión con tiros y promedia por bin\n",
    "    s2pdf = (t[[\"match_id\",\"team_id\",\"pos_bin\"]]\n",
    "             .merge(pm_pdf, on=[\"match_id\",\"team_id\"], how=\"inner\")\n",
    "             .groupby(\"pos_bin\", dropna=True)[\"team_shots\"]\n",
    "             .mean().reset_index(name=\"avg_team_shots\"))\n",
    "\n",
    "    pdf = pdf.merge(s2pdf, on=\"pos_bin\", how=\"left\")"
   ]
  },
  {
   "cell_type": "code",
   "execution_count": 0,
   "metadata": {
    "application/vnd.databricks.v1+cell": {
     "cellMetadata": {
      "byteLimit": 2048000,
      "rowLimit": 10000
     },
     "inputWidgets": {},
     "nuid": "9ea39fd2-05b6-4c97-a063-e364d487ce3c",
     "showTitle": false,
     "tableResultSettingsMap": {},
     "title": ""
    }
   },
   "outputs": [
    {
     "output_type": "display_data",
     "data": {
      "image/png": "[encoded data removed]",
      "text/plain": [
       "<Figure size 1300x700 with 1 Axes>"
      ]
     },
     "metadata": {},
     "output_type": "display_data"
    }
   ],
   "source": [
    "# ---- Gráfico al estilo que quieres ----\n",
    "fig, ax1 = plt.subplots(num=None, figsize=(13, 7), facecolor='w', edgecolor='k')\n",
    "ax1.plot(pdf[\"pos_bin\"], pdf[\"avg_acc_pass\"], label=\"Pases acertados (avg por bin)\")\n",
    "\n",
    "if \"avg_team_rating\" in pdf.columns and not pdf[\"avg_team_rating\"].isna().all():\n",
    "    ax1.plot(pdf[\"pos_bin\"], pdf[\"avg_team_rating\"], label=\"Team rating (avg por bin)\")\n",
    "\n",
    "if \"avg_team_shots\" in pdf.columns and not pdf[\"avg_team_shots\"].isna().all():\n",
    "    ax1.plot(pdf[\"pos_bin\"], pdf[\"avg_team_shots\"], label=\"Tiros totales (avg por bin)\")\n",
    "\n",
    "fig.suptitle(\"Relación Posesión (bin) y métricas de rendimiento — estilo doble serie\")\n",
    "ax1.legend()\n",
    "plt.xlabel(\"Bin de posesión (%)\")\n",
    "plt.ylabel(\"Valor\")\n",
    "plt.grid(True)\n",
    "plt.tight_layout()\n",
    "plt.show()"
   ]
  },
  {
   "cell_type": "code",
   "execution_count": 0,
   "metadata": {
    "application/vnd.databricks.v1+cell": {
     "cellMetadata": {
      "byteLimit": 2048000,
      "rowLimit": 10000
     },
     "inputWidgets": {},
     "nuid": "d49e2aba-af06-430f-a4c1-e878bc7ceb74",
     "showTitle": false,
     "tableResultSettingsMap": {},
     "title": ""
    }
   },
   "outputs": [
    {
     "output_type": "stream",
     "name": "stdout",
     "output_type": "stream",
     "text": [
      "Comparación tiros — filas: 760\nAbs(diff) ≤ 1: 99.86842105263159 %\n"
     ]
    }
   ],
   "source": [
    "import pandas as pd\n",
    "from pyspark.sql import functions as F\n",
    "\n",
    "def to_pandas(df, cols=None, limit=None):\n",
    "    if hasattr(df, \"select\"):\n",
    "        sdf = df.select(*cols) if cols else df\n",
    "        if limit: sdf = sdf.limit(limit)\n",
    "        return sdf.toPandas()\n",
    "    return df[cols] if cols else df\n",
    "\n",
    "# Suma de tiros por equipo-partido desde players_match\n",
    "pm_shots = (to_pandas(df_players_match, [\"match\",\"team\",\"total_scoring_att\"])\n",
    "            .assign(total_scoring_att=lambda d: pd.to_numeric(d[\"total_scoring_att\"], errors=\"coerce\"))\n",
    "            .groupby([\"match\",\"team\"], dropna=True)[\"total_scoring_att\"].sum().reset_index()\n",
    "            .rename(columns={\"match\":\"match_id\",\"team\":\"team_id\",\"total_scoring_att\":\"pm_team_shots\"}))\n",
    "\n",
    "t_shots = (to_pandas(df_teams, [\"match_id\",\"team_id\",\"total_scoring_att\"])\n",
    "           .assign(total_scoring_att=lambda d: pd.to_numeric(d[\"total_scoring_att\"], errors=\"coerce\"))\n",
    "           .rename(columns={\"total_scoring_att\":\"teams_team_shots\"}))\n",
    "\n",
    "cmp = (t_shots.merge(pm_shots, on=[\"match_id\",\"team_id\"], how=\"inner\")\n",
    "              .assign(diff=lambda d: d[\"teams_team_shots\"] - d[\"pm_team_shots\"]))\n",
    "print(\"Comparación tiros — filas:\", len(cmp))\n",
    "print(\"Abs(diff) ≤ 1:\", (cmp[\"diff\"].abs() <= 1).mean()*100, \"%\")\n"
   ]
  },
  {
   "cell_type": "code",
   "execution_count": 0,
   "metadata": {
    "application/vnd.databricks.v1+cell": {
     "cellMetadata": {
      "byteLimit": 2048000,
      "rowLimit": 10000
     },
     "inputWidgets": {},
     "nuid": "824dab17-6054-47d1-be84-a64037cd7836",
     "showTitle": false,
     "tableResultSettingsMap": {},
     "title": ""
    }
   },
   "outputs": [],
   "source": [
    "# Tabla equipo-partido con features clave\n",
    "t = to_pandas(df_teams, [\"match_id\",\"team_id\",\"team_name\",\"team\",\"date\",\n",
    "                         \"possession_percentage\",\"accurate_pass\",\"total_scoring_att\",\n",
    "                         \"team_rating\",\"goals\"]).copy()\n",
    "\n",
    "for c in [\"possession_percentage\",\"accurate_pass\",\"total_scoring_att\",\"team_rating\",\"goals\"]:\n",
    "    if c in t.columns: t[c] = pd.to_numeric(t[c], errors=\"coerce\")\n",
    "\n",
    "# Resultado del partido por equipo (si tienes 'goals' en teams ya indica GF)\n",
    "# (Si además quisieras GA, puedes traerlo cruzando contra el rival en el mismo match_id)\n",
    "t[\"pos_bin\"] = t[\"possession_percentage\"].round()\n"
   ]
  },
  {
   "cell_type": "code",
   "execution_count": 0,
   "metadata": {
    "application/vnd.databricks.v1+cell": {
     "cellMetadata": {
      "byteLimit": 2048000,
      "rowLimit": 10000
     },
     "inputWidgets": {},
     "nuid": "b8be3166-472b-4096-a9a9-062d7734a502",
     "showTitle": false,
     "tableResultSettingsMap": {},
     "title": ""
    }
   },
   "outputs": [],
   "source": [
    "# Win/draw/loss aproximado si tienes 'goals'\n",
    "if \"goals\" in t.columns:\n",
    "    # GA = goles del rival por mismo partido y equipo contrario\n",
    "    rival = t[[\"match_id\",\"team_id\",\"goals\"]].rename(columns={\"team_id\":\"rival_id\",\"goals\":\"ga\"})\n",
    "    t = t.merge(rival, how=\"left\", on=\"match_id\")\n",
    "    # ga correcto: el del rival, no el mismo team_id\n",
    "    t.loc[t[\"team_id\"]==t[\"rival_id\"], \"ga\"] = pd.NA\n",
    "    t[\"ga\"] = t.groupby(\"match_id\")[\"ga\"].transform(lambda s: s.bfill().ffill())\n",
    "    t[\"gd\"] = t[\"goals\"] - t[\"ga\"]\n",
    "    t[\"result\"] = pd.NA\n",
    "    t.loc[t[\"gd\"]>0, \"result\"] = \"W\"\n",
    "    t.loc[t[\"gd\"]==0, \"result\"] = \"D\"\n",
    "    t.loc[t[\"gd\"]<0, \"result\"] = \"L\"\n"
   ]
  },
  {
   "cell_type": "code",
   "execution_count": 0,
   "metadata": {
    "application/vnd.databricks.v1+cell": {
     "cellMetadata": {
      "byteLimit": 2048000,
      "rowLimit": 10000
     },
     "inputWidgets": {},
     "nuid": "dee8254c-d848-4378-8f1a-1ed65af3e633",
     "showTitle": false,
     "tableResultSettingsMap": {},
     "title": ""
    }
   },
   "outputs": [],
   "source": [
    "# Suma de tiros desde players_match para comparar/usar\n",
    "pm = (to_pandas(df_players_match, [\"match\",\"team\",\"total_scoring_att\"])\n",
    "      .rename(columns={\"match\":\"match_id\",\"team\":\"team_id\"})\n",
    "      .assign(total_scoring_att=lambda d: pd.to_numeric(d[\"total_scoring_att\"], errors=\"coerce\"))\n",
    "      .groupby([\"match_id\",\"team_id\"], dropna=True)[\"total_scoring_att\"].sum().reset_index()\n",
    "      .rename(columns={\"total_scoring_att\":\"pm_team_shots\"}))\n",
    "\n",
    "X = t.merge(pm, on=[\"match_id\",\"team_id\"], how=\"left\")"
   ]
  },
  {
   "cell_type": "code",
   "execution_count": 0,
   "metadata": {
    "application/vnd.databricks.v1+cell": {
     "cellMetadata": {
      "byteLimit": 2048000,
      "rowLimit": 10000
     },
     "inputWidgets": {},
     "nuid": "a765c690-7461-4a39-8602-ff21273d8122",
     "showTitle": false,
     "tableResultSettingsMap": {},
     "title": ""
    }
   },
   "outputs": [],
   "source": [
    "# ======== PREP: helpers para Spark/Pandas y casteos ========\n",
    "import numpy as np, pandas as pd\n",
    "import matplotlib.pyplot as plt\n",
    "\n",
    "def is_spark(df): \n",
    "    return hasattr(df, \"select\")\n",
    "\n",
    "def to_pandas(df, cols=None):\n",
    "    \"\"\"Convierte Spark->pandas o devuelve copia de pandas.\"\"\"\n",
    "    if is_spark(df):\n",
    "        sdf = df.select(*cols) if cols else df\n",
    "        return sdf.toPandas()\n",
    "    return df[cols].copy() if cols else df.copy()\n"
   ]
  },
  {
   "cell_type": "code",
   "execution_count": 0,
   "metadata": {
    "application/vnd.databricks.v1+cell": {
     "cellMetadata": {
      "byteLimit": 2048000,
      "rowLimit": 10000
     },
     "inputWidgets": {},
     "nuid": "7a07edf6-9ccc-4866-92fa-70b62b2f2361",
     "showTitle": false,
     "tableResultSettingsMap": {},
     "title": ""
    }
   },
   "outputs": [],
   "source": [
    "# ======== 1) Tabla equipo-partido limpia + resultado correcto ========\n",
    "t = to_pandas(\n",
    "    df_teams, \n",
    "    [\"match_id\",\"team_id\",\"team_name\",\"team\",\"date\",\n",
    "     \"possession_percentage\",\"accurate_pass\",\"total_scoring_att\",\"team_rating\",\"goals\"]\n",
    ")\n",
    "\n",
    "# Cast numéricos\n",
    "for c in [\"possession_percentage\",\"accurate_pass\",\"total_scoring_att\",\"team_rating\",\"goals\",\"match_id\",\"team_id\"]:\n",
    "    if c in t.columns:\n",
    "        t[c] = pd.to_numeric(t[c], errors=\"coerce\")\n",
    "\n",
    "# GA del rival por self-join (2 equipos por match)\n",
    "ga_df = (t[[\"match_id\",\"team_id\",\"goals\"]]\n",
    "         .merge(t[[\"match_id\",\"team_id\",\"goals\"]], on=\"match_id\", suffixes=(\"\",\"_opp\")))\n",
    "ga_df = ga_df[ga_df[\"team_id\"] != ga_df[\"team_id_opp\"]][[\"match_id\",\"team_id\",\"goals_opp\"]]\n",
    "ga_df = ga_df.rename(columns={\"goals_opp\":\"ga\"})\n",
    "\n",
    "t = t.merge(ga_df, on=[\"match_id\",\"team_id\"], how=\"left\")\n",
    "t[\"gd\"] = t[\"goals\"] - t[\"ga\"]\n",
    "t[\"result\"] = np.select([t[\"gd\"]>0, t[\"gd\"]==0, t[\"gd\"]<0], [\"W\",\"D\",\"L\"], default=pd.NA)\n",
    "\n",
    "# Bins de posesión (ancho 5%) -> en FLOAT (no Int64)\n",
    "BIN = 5\n",
    "t[\"pos_bin\"] = pd.to_numeric(t[\"possession_percentage\"], errors=\"coerce\")\n",
    "t[\"pos_bin\"] = (np.floor(t[\"pos_bin\"]/BIN)*BIN).astype(float)"
   ]
  },
  {
   "cell_type": "code",
   "execution_count": 0,
   "metadata": {
    "application/vnd.databricks.v1+cell": {
     "cellMetadata": {
      "byteLimit": 2048000,
      "rowLimit": 10000
     },
     "inputWidgets": {},
     "nuid": "dd1035c7-7384-4a1e-a4d4-58edf483bd95",
     "showTitle": false,
     "tableResultSettingsMap": {},
     "title": ""
    }
   },
   "outputs": [
    {
     "output_type": "display_data",
     "data": {
      "image/png": "[encoded data removed]",
      "text/plain": [
       "<Figure size 1300x700 with 1 Axes>"
      ]
     },
     "metadata": {},
     "output_type": "display_data"
    },
    {
     "output_type": "stream",
     "name": "stdout",
     "output_type": "stream",
     "text": [
      "Partidos por bin (muestra):\n pos_bin  n\n    30.0 25\n    35.0 36\n    40.0 46\n    45.0 53\n    50.0 53\n    55.0 46\n    60.0 36\n    65.0 24\n    70.0 15\n"
     ]
    }
   ],
   "source": [
    "# ======== 2) Win-rate por bin con bandas de confianza ========\n",
    "MIN_N = 15  # mínimo de partidos por bin para evitar picos engañosos\n",
    "\n",
    "g = t.dropna(subset=[\"pos_bin\",\"result\"]).groupby(\"pos_bin\", dropna=True)\n",
    "n = g.size()\n",
    "wins = g[\"result\"].apply(lambda s: (s==\"W\").sum())\n",
    "p = (wins / n).fillna(0.0)\n",
    "\n",
    "# Banda 95% (aprox normal) y coerción a float para plot\n",
    "se = np.sqrt(p*(1-p)/n.clip(lower=1))\n",
    "wr = (pd.DataFrame({\"pos_bin\": p.index, \"n\": n.values,\n",
    "                    \"win_rate\": (p*100).values,\n",
    "                    \"lo\": ((p-1.96*se)*100).values,\n",
    "                    \"hi\": ((p+1.96*se)*100).values})\n",
    "        .query(\"n >= @MIN_N\")\n",
    "        .sort_values(\"pos_bin\"))\n",
    "\n",
    "# ---- FIX tipos antes de graficar\n",
    "for col in [\"pos_bin\",\"win_rate\",\"lo\",\"hi\"]:\n",
    "    wr[col] = pd.to_numeric(wr[col], errors=\"coerce\").astype(float)\n",
    "wr = wr.replace([np.inf,-np.inf], np.nan).dropna(subset=[\"pos_bin\",\"win_rate\",\"lo\",\"hi\"])\n",
    "\n",
    "x  = wr[\"pos_bin\"].to_numpy(dtype=float)\n",
    "y  = wr[\"win_rate\"].to_numpy(dtype=float)\n",
    "lo = wr[\"lo\"].to_numpy(dtype=float)\n",
    "hi = wr[\"hi\"].to_numpy(dtype=float)\n",
    "m  = np.isfinite(x) & np.isfinite(y) & np.isfinite(lo) & np.isfinite(hi)\n",
    "\n",
    "fig, ax = plt.subplots(figsize=(13,7), facecolor=\"w\", edgecolor=\"k\")\n",
    "ax.plot(x[m], y[m], label=\"Win rate\")\n",
    "ax.fill_between(x[m], lo[m], hi[m], alpha=0.2, label=\"95% CI\")\n",
    "ax.set_title(f\"Win rate por bin de posesión (bins con n ≥ {MIN_N})\")\n",
    "ax.set_xlabel(\"Posesión (%)\"); ax.set_ylabel(\"Win rate (%)\")\n",
    "ax.grid(True); ax.legend(); plt.tight_layout(); plt.show()\n",
    "\n",
    "print(\"Partidos por bin (muestra):\")\n",
    "print(wr[[\"pos_bin\",\"n\"]].tail(10).to_string(index=False))\n"
   ]
  },
  {
   "cell_type": "code",
   "execution_count": 0,
   "metadata": {
    "application/vnd.databricks.v1+cell": {
     "cellMetadata": {
      "byteLimit": 2048000,
      "rowLimit": 10000
     },
     "inputWidgets": {},
     "nuid": "17abbbe7-5022-4d01-9379-006ec859528a",
     "showTitle": false,
     "tableResultSettingsMap": {},
     "title": ""
    }
   },
   "outputs": [
    {
     "output_type": "display_data",
     "data": {
      "image/png": "[encoded data removed]",
      "text/plain": [
       "<Figure size 1300x700 with 1 Axes>"
      ]
     },
     "metadata": {},
     "output_type": "display_data"
    }
   ],
   "source": [
    "# ======== 3) Tiros promedio por bin (teams vs players_match) ========\n",
    "pm = to_pandas(df_players_match, [\"match\",\"team\",\"total_scoring_att\"])\n",
    "pm = pm.rename(columns={\"match\":\"match_id\",\"team\":\"team_id\",\n",
    "                        \"total_scoring_att\":\"pm_shots\"})\n",
    "for c in [\"match_id\",\"team_id\",\"pm_shots\"]:\n",
    "    pm[c] = pd.to_numeric(pm[c], errors=\"coerce\")\n",
    "\n",
    "pm_team = (pm.groupby([\"match_id\",\"team_id\"], dropna=True)[\"pm_shots\"]\n",
    "             .sum().reset_index())\n",
    "\n",
    "X = t.merge(pm_team, on=[\"match_id\",\"team_id\"], how=\"left\")\n",
    "\n",
    "shots = (X.groupby(\"pos_bin\")[[\"total_scoring_att\",\"pm_shots\"]]\n",
    "           .mean().reset_index()\n",
    "           .sort_values(\"pos_bin\"))\n",
    "\n",
    "# ---- FIX tipos antes de graficar\n",
    "for col in [\"pos_bin\",\"total_scoring_att\",\"pm_shots\"]:\n",
    "    shots[col] = pd.to_numeric(shots[col], errors=\"coerce\").astype(float)\n",
    "shots = shots.replace([np.inf,-np.inf], np.nan).dropna(subset=[\"pos_bin\",\"total_scoring_att\",\"pm_shots\"])\n",
    "\n",
    "xs = shots[\"pos_bin\"].to_numpy(dtype=float)\n",
    "y1 = shots[\"total_scoring_att\"].to_numpy(dtype=float)\n",
    "y2 = shots[\"pm_shots\"].to_numpy(dtype=float)\n",
    "ms = np.isfinite(xs) & np.isfinite(y1) & np.isfinite(y2)\n",
    "\n",
    "fig, ax = plt.subplots(figsize=(13,7), facecolor=\"w\", edgecolor=\"k\")\n",
    "ax.plot(xs[ms], y1[ms], label=\"Tiros (teams)\")\n",
    "ax.plot(xs[ms], y2[ms], label=\"Tiros (players_match)\")\n",
    "ax.set_title(\"Tiros promedio por bin de posesión\")\n",
    "ax.set_xlabel(\"Posesión (%)\"); ax.set_ylabel(\"Tiros promedio\")\n",
    "ax.grid(True); ax.legend(); plt.tight_layout(); plt.show()\n"
   ]
  },
  {
   "cell_type": "code",
   "execution_count": 0,
   "metadata": {
    "application/vnd.databricks.v1+cell": {
     "cellMetadata": {
      "byteLimit": 2048000,
      "rowLimit": 10000
     },
     "inputWidgets": {},
     "nuid": "605ab648-fb2a-4883-a41e-c81ee3fe0b36",
     "showTitle": false,
     "tableResultSettingsMap": {},
     "title": ""
    }
   },
   "outputs": [
    {
     "output_type": "display_data",
     "data": {
      "image/png": "[encoded data removed]",
      "text/plain": [
       "<Figure size 1300x700 with 1 Axes>"
      ]
     },
     "metadata": {},
     "output_type": "display_data"
    }
   ],
   "source": [
    "# ======== 4) Boxplot de rating por posición (limpio) ========\n",
    "pm2 = to_pandas(df_players_match, [\"player_position_info\",\"player_rating\",\"formation_place\"])\n",
    "pm2[\"player_rating\"]   = pd.to_numeric(pm2[\"player_rating\"], errors=\"coerce\")\n",
    "pm2[\"formation_place\"] = pd.to_numeric(pm2[\"formation_place\"], errors=\"coerce\")\n",
    "\n",
    "# Filtro: titulares (<=11), rating válido [5, 10]\n",
    "pm2 = pm2[\n",
    "    (pm2[\"formation_place\"].between(1, 11)) &\n",
    "    (pm2[\"player_rating\"].between(5.0, 10.0))\n",
    "].dropna(subset=[\"player_position_info\",\"player_rating\"])\n",
    "\n",
    "MIN_POS = 50\n",
    "keep = pm2[\"player_position_info\"].value_counts().pipe(lambda s: s[s>=MIN_POS]).index\n",
    "bp = pm2[pm2[\"player_position_info\"].isin(keep)]\n",
    "\n",
    "fig, ax = plt.subplots(figsize=(13,7), facecolor=\"w\", edgecolor=\"k\")\n",
    "bp.boxplot(by=\"player_position_info\", column=\"player_rating\", grid=True, ax=ax)\n",
    "ax.set_title(\"\")  # quita subtítulo extra\n",
    "fig.suptitle(f\"Rating por posición (titulares; n ≥ {MIN_POS} por posición)\")\n",
    "ax.set_xlabel(\"Posición\"); ax.set_ylabel(\"Rating\")\n",
    "plt.tight_layout(); plt.show()"
   ]
  },
  {
   "cell_type": "code",
   "execution_count": 0,
   "metadata": {
    "application/vnd.databricks.v1+cell": {
     "cellMetadata": {
      "byteLimit": 2048000,
      "rowLimit": 10000
     },
     "inputWidgets": {},
     "nuid": "79e7ea20-5668-4f14-b3ff-5a22c91e4031",
     "showTitle": false,
     "tableResultSettingsMap": {},
     "title": ""
    }
   },
   "outputs": [],
   "source": [
    "import pandas as pd\n",
    "import json\n",
    "import os\n",
    "from pyspark.sql import Row\n",
    "from pyspark.sql import functions as F\n",
    "\n",
    "# Ruta base del Volume donde subiste los archivos\n",
    "catalog = \"workspace\"\n",
    "schema  = \"default\"\n",
    "volume  = \"parcial\"\n",
    "BASE = f\"/Volumes/{catalog}/{schema}/{volume}\"\n",
    "CSVS = f\"{BASE}/csv_out\"\n",
    "CSV1 = f\"{BASE}/csv_out/JugadoresJSON.csv\"\n",
    "CSV2 = f\"{BASE}/csv_out/TeamsJSON.csv\"\n",
    "\n",
    "# Cambia estas rutas según lo que copiaste desde Databricks FileStore\n",
    "jugadores_json_df = pd.read_csv(CSV1)\n",
    "teams_json_df = pd.read_csv(CSV2)\n"
   ]
  },
  {
   "cell_type": "markdown",
   "metadata": {
    "application/vnd.databricks.v1+cell": {
     "cellMetadata": {},
     "inputWidgets": {},
     "nuid": "9ef8f711-8b44-47b0-8496-00c16655bc85",
     "showTitle": false,
     "tableResultSettingsMap": {},
     "title": ""
    }
   },
   "source": [
    "Ranking Mejores Jugadores"
   ]
  },
  {
   "cell_type": "code",
   "execution_count": 0,
   "metadata": {
    "application/vnd.databricks.v1+cell": {
     "cellMetadata": {
      "byteLimit": 2048000,
      "rowLimit": 10000
     },
     "inputWidgets": {},
     "nuid": "56a96830-4a51-4514-b39b-d9084a754077",
     "showTitle": false,
     "tableResultSettingsMap": {},
     "title": ""
    }
   },
   "outputs": [
    {
     "output_type": "stream",
     "name": "stdout",
     "output_type": "stream",
     "text": [
      "player_name\nMohamed Salah        7.691111\nKevin De Bruyne      7.597895\nHarry Kane           7.596216\nPhilippe Coutinho    7.495333\nPaul Pogba           7.478889\nEden Hazard          7.469714\nFernandinho          7.436471\nChristian Eriksen    7.399730\nWilfried Zaha        7.381379\nDavid Silva          7.326333\nName: player_rating, dtype: float64\n"
     ]
    }
   ],
   "source": [
    "top_players = jugadores_json_df.groupby('player_name')['player_rating'].mean().sort_values(ascending=False).head(10)\n",
    "print(top_players)"
   ]
  },
  {
   "cell_type": "code",
   "execution_count": 0,
   "metadata": {
    "application/vnd.databricks.v1+cell": {
     "cellMetadata": {
      "byteLimit": 2048000,
      "rowLimit": 10000
     },
     "inputWidgets": {},
     "nuid": "6cb30351-ab54-4f5d-b130-b4a7d6bee26b",
     "showTitle": false,
     "tableResultSettingsMap": {},
     "title": ""
    }
   },
   "outputs": [
    {
     "output_type": "stream",
     "name": "stdout",
     "output_type": "stream",
     "text": [
      "player_rating        1.000000\ngoals                0.487139\ntouches              0.450278\ngoal_assist          0.365044\ntotal_scoring_att    0.346062\nName: player_rating, dtype: float64\n"
     ]
    }
   ],
   "source": [
    "features = ['player_rating', 'goals', 'total_scoring_att', 'touches', 'goal_assist']\n",
    "corr_matrix = jugadores_json_df[features].corr()\n",
    "print(corr_matrix['player_rating'].sort_values(ascending=False))\n"
   ]
  },
  {
   "cell_type": "code",
   "execution_count": 0,
   "metadata": {
    "application/vnd.databricks.v1+cell": {
     "cellMetadata": {
      "byteLimit": 2048000,
      "rowLimit": 10000
     },
     "inputWidgets": {},
     "nuid": "42efa31f-32ea-42c9-8f6e-8f490f30feeb",
     "showTitle": false,
     "tableResultSettingsMap": {},
     "title": ""
    }
   },
   "outputs": [
    {
     "output_type": "display_data",
     "data": {
      "image/png": "[encoded data removed]",
      "text/plain": [
       "<Figure size 1000x600 with 1 Axes>"
      ]
     },
     "metadata": {},
     "output_type": "display_data"
    }
   ],
   "source": [
    "import matplotlib.pyplot as plt\n",
    "\n",
    "jugadores_json_df.boxplot(column='player_rating', by='player_position_info', figsize=(10,6))\n",
    "plt.title('Rating por Posición')\n",
    "plt.suptitle('')\n",
    "plt.xlabel('Posición')\n",
    "plt.ylabel('Rating')\n",
    "plt.show()"
   ]
  },
  {
   "cell_type": "code",
   "execution_count": 0,
   "metadata": {
    "application/vnd.databricks.v1+cell": {
     "cellMetadata": {
      "byteLimit": 2048000,
      "rowLimit": 10000
     },
     "inputWidgets": {},
     "nuid": "71a0a194-9b9b-4886-8ea1-5dfe4c8389e8",
     "showTitle": false,
     "tableResultSettingsMap": {},
     "title": ""
    }
   },
   "outputs": [
    {
     "output_type": "execute_result",
     "data": {
      "text/plain": [
       "<Axes: xlabel='possession_percentage', ylabel='team_rating'>"
      ]
     },
     "execution_count": 137,
     "metadata": {},
     "output_type": "execute_result"
    },
    {
     "output_type": "display_data",
     "data": {
      "image/png": "[encoded data removed]",
      "text/plain": [
       "<Figure size 640x480 with 1 Axes>"
      ]
     },
     "metadata": {},
     "output_type": "display_data"
    }
   ],
   "source": [
    "teams_json_df[['possession_percentage', 'team_rating']].dropna().plot.scatter(x='possession_percentage', y='team_rating', alpha=0.5)"
   ]
  },
  {
   "cell_type": "markdown",
   "metadata": {
    "application/vnd.databricks.v1+cell": {
     "cellMetadata": {},
     "inputWidgets": {},
     "nuid": "18d614ad-033c-4842-875a-346f18f96388",
     "showTitle": false,
     "tableResultSettingsMap": {},
     "title": ""
    }
   },
   "source": [
    "Ranking de Equipos"
   ]
  },
  {
   "cell_type": "code",
   "execution_count": 0,
   "metadata": {
    "application/vnd.databricks.v1+cell": {
     "cellMetadata": {
      "byteLimit": 2048000,
      "rowLimit": 10000
     },
     "inputWidgets": {},
     "nuid": "191012b7-33f0-4f41-a08c-291a3f4e3188",
     "showTitle": false,
     "tableResultSettingsMap": {},
     "title": ""
    }
   },
   "outputs": [
    {
     "output_type": "execute_result",
     "data": {
      "text/html": [
       "<div>\n",
       "<style scoped>\n",
       "    .dataframe tbody tr th:only-of-type {\n",
       "        vertical-align: middle;\n",
       "    }\n",
       "\n",
       "    .dataframe tbody tr th {\n",
       "        vertical-align: top;\n",
       "    }\n",
       "\n",
       "    .dataframe thead th {\n",
       "        text-align: right;\n",
       "    }\n",
       "</style>\n",
       "<table border=\"1\" class=\"dataframe\">\n",
       "  <thead>\n",
       "    <tr style=\"text-align: right;\">\n",
       "      <th></th>\n",
       "      <th>possession_percentage</th>\n",
       "      <th>won_corners</th>\n",
       "      <th>total_scoring_att</th>\n",
       "    </tr>\n",
       "    <tr>\n",
       "      <th>team_name</th>\n",
       "      <th></th>\n",
       "      <th></th>\n",
       "      <th></th>\n",
       "    </tr>\n",
       "  </thead>\n",
       "  <tbody>\n",
       "    <tr>\n",
       "      <th>Manchester City</th>\n",
       "      <td>71.750000</td>\n",
       "      <td>7.500000</td>\n",
       "      <td>17.500000</td>\n",
       "    </tr>\n",
       "    <tr>\n",
       "      <th>Liverpool</th>\n",
       "      <td>60.760526</td>\n",
       "      <td>6.078947</td>\n",
       "      <td>16.789474</td>\n",
       "    </tr>\n",
       "    <tr>\n",
       "      <th>Tottenham</th>\n",
       "      <td>62.128947</td>\n",
       "      <td>6.500000</td>\n",
       "      <td>16.394737</td>\n",
       "    </tr>\n",
       "    <tr>\n",
       "      <th>Chelsea</th>\n",
       "      <td>55.684211</td>\n",
       "      <td>6.270270</td>\n",
       "      <td>15.947368</td>\n",
       "    </tr>\n",
       "    <tr>\n",
       "      <th>Arsenal</th>\n",
       "      <td>61.847368</td>\n",
       "      <td>6.081081</td>\n",
       "      <td>15.631579</td>\n",
       "    </tr>\n",
       "    <tr>\n",
       "      <th>Manchester United</th>\n",
       "      <td>54.755263</td>\n",
       "      <td>5.789474</td>\n",
       "      <td>13.473684</td>\n",
       "    </tr>\n",
       "    <tr>\n",
       "      <th>Crystal Palace</th>\n",
       "      <td>45.094737</td>\n",
       "      <td>5.526316</td>\n",
       "      <td>12.526316</td>\n",
       "    </tr>\n",
       "    <tr>\n",
       "      <th>Bournemouth</th>\n",
       "      <td>48.115789</td>\n",
       "      <td>5.736842</td>\n",
       "      <td>12.210526</td>\n",
       "    </tr>\n",
       "    <tr>\n",
       "      <th>Newcastle United</th>\n",
       "      <td>41.610526</td>\n",
       "      <td>4.638889</td>\n",
       "      <td>11.868421</td>\n",
       "    </tr>\n",
       "    <tr>\n",
       "      <th>Southampton</th>\n",
       "      <td>51.500000</td>\n",
       "      <td>5.973684</td>\n",
       "      <td>11.842105</td>\n",
       "    </tr>\n",
       "  </tbody>\n",
       "</table>\n",
       "</div>"
      ],
      "text/plain": [
       "                   possession_percentage  won_corners  total_scoring_att\n",
       "team_name                                                               \n",
       "Manchester City                71.750000     7.500000          17.500000\n",
       "Liverpool                      60.760526     6.078947          16.789474\n",
       "Tottenham                      62.128947     6.500000          16.394737\n",
       "Chelsea                        55.684211     6.270270          15.947368\n",
       "Arsenal                        61.847368     6.081081          15.631579\n",
       "Manchester United              54.755263     5.789474          13.473684\n",
       "Crystal Palace                 45.094737     5.526316          12.526316\n",
       "Bournemouth                    48.115789     5.736842          12.210526\n",
       "Newcastle United               41.610526     4.638889          11.868421\n",
       "Southampton                    51.500000     5.973684          11.842105"
      ]
     },
     "execution_count": 138,
     "metadata": {},
     "output_type": "execute_result"
    }
   ],
   "source": [
    "ofensivos = teams_json_df.groupby('team_name')[['possession_percentage', 'won_corners', 'total_scoring_att']].mean()\n",
    "ofensivos.sort_values(by='total_scoring_att', ascending=False).head(10)"
   ]
  },
  {
   "cell_type": "code",
   "execution_count": 0,
   "metadata": {
    "application/vnd.databricks.v1+cell": {
     "cellMetadata": {
      "byteLimit": 2048000,
      "rowLimit": 10000
     },
     "inputWidgets": {},
     "nuid": "f32c9e3b-ef29-4fea-ac18-2eec6e356eb0",
     "showTitle": false,
     "tableResultSettingsMap": {},
     "title": ""
    }
   },
   "outputs": [
    {
     "output_type": "execute_result",
     "data": {
      "text/plain": [
       "<Axes: xlabel='team', ylabel='team_rating'>"
      ]
     },
     "execution_count": 139,
     "metadata": {},
     "output_type": "execute_result"
    },
    {
     "output_type": "display_data",
     "data": {
      "image/png": "[encoded data removed]",
      "text/plain": [
       "<Figure size 640x480 with 1 Axes>"
      ]
     },
     "metadata": {},
     "output_type": "display_data"
    }
   ],
   "source": [
    "import seaborn as sns\n",
    "\n",
    "sns.boxplot(x='team', y='team_rating', data=teams_json_df)"
   ]
  },
  {
   "cell_type": "code",
   "execution_count": 0,
   "metadata": {
    "application/vnd.databricks.v1+cell": {
     "cellMetadata": {
      "byteLimit": 2048000,
      "rowLimit": 10000
     },
     "inputWidgets": {},
     "nuid": "0bc2a240-3f18-4f81-a748-b1e93ab877ef",
     "showTitle": false,
     "tableResultSettingsMap": {},
     "title": ""
    }
   },
   "outputs": [
    {
     "output_type": "execute_result",
     "data": {
      "text/plain": [
       "<Axes: xlabel='possession_percentage', ylabel='player_rating'>"
      ]
     },
     "execution_count": 140,
     "metadata": {},
     "output_type": "execute_result"
    },
    {
     "output_type": "display_data",
     "data": {
      "image/png": "[encoded data removed]",
      "text/plain": [
       "<Figure size 640x480 with 1 Axes>"
      ]
     },
     "metadata": {},
     "output_type": "display_data"
    }
   ],
   "source": [
    "merged_df = jugadores_json_df.merge(teams_json_df[['match_id', 'team_id', 'possession_percentage']],\n",
    "                                     left_on=['match', 'team'],\n",
    "                                     right_on=['match_id', 'team_id'],\n",
    "                                     how='left')\n",
    "merged_df[['player_rating', 'possession_percentage']].dropna().plot.scatter(x='possession_percentage', y='player_rating', alpha=0.3)"
   ]
  },
  {
   "cell_type": "code",
   "execution_count": 0,
   "metadata": {
    "application/vnd.databricks.v1+cell": {
     "cellMetadata": {
      "byteLimit": 2048000,
      "rowLimit": 10000
     },
     "inputWidgets": {},
     "nuid": "e07ff779-1f3a-4d41-907f-f63390a71f34",
     "showTitle": false,
     "tableResultSettingsMap": {},
     "title": ""
    }
   },
   "outputs": [
    {
     "output_type": "stream",
     "name": "stdout",
     "output_type": "stream",
     "text": [
      "R² Score: 0.33121520011032923\n"
     ]
    }
   ],
   "source": [
    "from sklearn.linear_model import LinearRegression\n",
    "from sklearn.model_selection import train_test_split\n",
    "from sklearn.metrics import r2_score\n",
    "\n",
    "# Usamos columnas válidas\n",
    "features = ['goals', 'total_scoring_att', 'touches', 'goal_assist']\n",
    "df_model = jugadores_json_df[features + ['player_rating']].dropna()\n",
    "\n",
    "# Variables\n",
    "X = df_model[features]\n",
    "y = df_model['player_rating']\n",
    "\n",
    "# Entrenamiento y evaluación\n",
    "X_train, X_test, y_train, y_test = train_test_split(X, y, test_size=0.2, random_state=42)\n",
    "model = LinearRegression().fit(X_train, y_train)\n",
    "\n",
    "y_pred = model.predict(X_test)\n",
    "print(\"R² Score:\", r2_score(y_test, y_pred))\n"
   ]
  }
 ],
 "metadata": {
  "application/vnd.databricks.v1+notebook": {
   "computePreferences": {
    "hardware": {
     "accelerator": null,
     "gpuPoolId": null,
     "memory": null
    }
   },
   "dashboards": [],
   "environmentMetadata": {
    "base_environment": "",
    "environment_version": "3"
   },
   "inputWidgetPreferences": null,
   "language": "python",
   "notebookMetadata": {
    "mostRecentlyExecutedCommandWithImplicitDF": {
     "commandId": 8502815222628400,
     "dataframes": [
      "_sqldf"
     ]
    },
    "pythonIndentUnit": 4
   },
   "notebookName": "Parcial_Procesamiento_Datos",
   "widgets": {}
  },
  "language_info": {
   "name": "python"
  }
 },
 "nbformat": 4,
 "nbformat_minor": 0
}